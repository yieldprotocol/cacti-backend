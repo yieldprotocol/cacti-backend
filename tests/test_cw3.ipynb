{
 "cells": [
  {
   "cell_type": "code",
   "execution_count": 1,
   "id": "4de0a89d-dab2-4942-a870-8fbffbe597c3",
   "metadata": {
    "tags": []
   },
   "outputs": [
    {
     "name": "stderr",
     "output_type": "stream",
     "text": [
      "INFO:env:Loading env file c:\\Users\\HARSH\\Documents\\crypto-LLM-exps\\cacti-backend\\tests\\..\\env\\dev.yaml\n"
     ]
    },
    {
     "name": "stdout",
     "output_type": "stream",
     "text": [
      "Added to class registry: chat.simple.SimpleChat\n",
      "Added to class registry: chat.rephrase.RephraseChat\n",
      "Added to class registry: chat.rephrase_cited.RephraseCitedChat\n",
      "Added to class registry: chains.api_chain.IndexAPIChain\n",
      "Added to class registry: chat.widget_search.WidgetSearchChat\n"
     ]
    },
    {
     "name": "stderr",
     "output_type": "stream",
     "text": [
      "c:\\Users\\HARSH\\Documents\\crypto-LLM-exps\\cacti-backend\\venv\\Lib\\site-packages\\tqdm\\auto.py:21: TqdmWarning: IProgress not found. Please update jupyter and ipywidgets. See https://ipywidgets.readthedocs.io/en/stable/user_install.html\n",
      "  from .autonotebook import tqdm as notebook_tqdm\n"
     ]
    },
    {
     "name": "stdout",
     "output_type": "stream",
     "text": [
      "Added to class registry: tools.index_lookup.IndexLookupTool\n",
      "Added to class registry: tools.index_answer.IndexAnswerTool\n",
      "Added to class registry: tools.index_widget.IndexWidgetTool\n",
      "Added to class registry: index.weaviate.WeaviateIndex\n",
      "Added to class registry: tools.index_app_info.IndexAppInfoTool\n",
      "Added to class registry: tools.index_api_tool.IndexAPITool\n",
      "Added to class registry: chat.rephrase_widget_search.RephraseWidgetSearchChat\n",
      "Added to class registry: chat.rephrase_widget_search2.RephraseWidgetSearchChat\n",
      "Added to class registry: chat.basic_agent.BasicAgentChat\n",
      "Added to class registry: chat.fine_tuned.FineTunedChat\n",
      "Added to class registry: chat.chatgpt_function_call.ChatGPTFunctionCallChat\n",
      "Added to class registry: system.System\n",
      "Initializing instance of type: chat.chatgpt_function_call.ChatGPTFunctionCallChat\n",
      "Initializing instance of type: system.System\n"
     ]
    }
   ],
   "source": [
    "import sys\n",
    "sys.path.insert(0, '../')\n",
    "\n",
    "import uuid\n",
    "import os\n",
    "import time\n",
    "from typing import Any, Callable, Generator\n",
    "\n",
    "from langchain.llms import OpenAI\n",
    "from langchain.prompts import PromptTemplate\n",
    "from langchain.chains import LLMChain\n",
    "from langchain.prompts.base import BaseOutputParser\n",
    "from langchain.agents import load_tools, Tool\n",
    "from langchain.agents import initialize_agent\n",
    "from langchain.llms import OpenAI\n",
    "\n",
    "from chat.base import BaseChat, ChatHistory, Response\n",
    "from chat.widget_search import ChatOutputParser, WIDGET_INSTRUCTION, SEARCH_INSTRUCTION, TEMPLATE, IDENTIFY_TEMPLATE\n",
    "from chat.base import *\n",
    "from index.weaviate import *\n",
    "from index.widgets import *\n",
    "from utils import *\n",
    "from config import *\n",
    "from system import *\n",
    "from tools import *\n",
    "\n",
    "set_api_key()\n",
    "\n",
    "def send_message(resp, before_message_id=None, last_chat_message_id=None):\n",
    "    if resp.operation == 'replace':\n",
    "        print(resp.response)\n",
    "    return 1\n",
    "\n",
    "system = initialize(default_config)"
   ]
  },
  {
   "cell_type": "code",
   "execution_count": 2,
   "id": "93870fb7-57b9-44f4-bdba-cf580fe1694f",
   "metadata": {
    "tags": []
   },
   "outputs": [
    {
     "name": "stdout",
     "output_type": "stream",
     "text": [
      "timing - first_visible_bot_token:  1.16s\n",
      "timing - response_done:  16.10s\n"
     ]
    }
   ],
   "source": [
    "history = ChatHistory([], uuid.UUID, '0x123243242')\n",
    "# input = \"Price of ETH in terms of USD\" \n",
    "input = \"How do I calculate gas fee on a transaction?\"\n",
    "system.chat.receive_input(history, input, send_message, uuid.UUID, uuid.UUID)"
   ]
  }
 ],
 "metadata": {
  "kernelspec": {
   "display_name": "Python 3 (ipykernel)",
   "language": "python",
   "name": "python3"
  },
  "language_info": {
   "codemirror_mode": {
    "name": "ipython",
    "version": 3
   },
   "file_extension": ".py",
   "mimetype": "text/x-python",
   "name": "python",
   "nbconvert_exporter": "python",
   "pygments_lexer": "ipython3",
   "version": "3.11.2"
  }
 },
 "nbformat": 4,
 "nbformat_minor": 5
}
