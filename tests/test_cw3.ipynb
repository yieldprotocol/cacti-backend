{
 "cells": [
  {
   "cell_type": "code",
   "execution_count": null,
   "id": "4de0a89d-dab2-4942-a870-8fbffbe597c3",
   "metadata": {
    "tags": []
   },
   "outputs": [],
   "source": [
    "import sys\n",
    "sys.path.insert(0, '../')\n",
    "\n",
    "import uuid\n",
    "import os\n",
    "import time\n",
    "from typing import Any, Callable, Generator\n",
    "\n",
    "from langchain.llms import OpenAI\n",
    "from langchain.prompts import PromptTemplate\n",
    "from langchain.chains import LLMChain\n",
    "from langchain.prompts.base import BaseOutputParser\n",
    "from langchain.agents import load_tools, Tool\n",
    "from langchain.agents import initialize_agent\n",
    "from langchain.llms import OpenAI\n",
    "\n",
    "from chat.base import BaseChat, ChatHistory, Response\n",
    "from chat.widget_search import ChatOutputParser, WIDGET_INSTRUCTION, SEARCH_INSTRUCTION, TEMPLATE, IDENTIFY_TEMPLATE\n",
    "from chat.base import *\n",
    "from index.weaviate import *\n",
    "from index.widgets import *\n",
    "from utils import *\n",
    "from config import *\n",
    "from system import *\n",
    "from tools import *\n",
    "\n",
    "set_api_key()\n",
    "\n",
    "def send_message(resp, before_message_id=None, last_chat_message_id=None):\n",
    "    if resp.operation == 'replace':\n",
    "        print(resp.response)\n",
    "    return 1\n",
    "\n",
    "system = initialize(default_config)"
   ]
  },
  {
   "cell_type": "code",
   "execution_count": null,
   "id": "93870fb7-57b9-44f4-bdba-cf580fe1694f",
   "metadata": {
    "tags": []
   },
   "outputs": [],
   "source": [
    "history = ChatHistory([], uuid.UUID, '0x123243242')\n",
    "input = \"Get the price of ETh in terms of USD\" \n",
    "# input = \"What is my balance of ETH in terms of USD\"\n",
    "system.chat.receive_input(history, input, send_message, uuid.UUID, uuid.UUID)"
   ]
  }
 ],
 "metadata": {
  "kernelspec": {
   "display_name": "Python 3 (ipykernel)",
   "language": "python",
   "name": "python3"
  },
  "language_info": {
   "codemirror_mode": {
    "name": "ipython",
    "version": 3
   },
   "file_extension": ".py",
   "mimetype": "text/x-python",
   "name": "python",
   "nbconvert_exporter": "python",
   "pygments_lexer": "ipython3",
   "version": "3.9.13"
  }
 },
 "nbformat": 4,
 "nbformat_minor": 5
}
