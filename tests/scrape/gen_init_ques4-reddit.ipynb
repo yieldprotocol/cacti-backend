{
 "cells": [
  {
   "cell_type": "code",
   "execution_count": 1,
   "metadata": {},
   "outputs": [],
   "source": [
    "import sys\n",
    "import re\n",
    "import requests\n",
    "import time\n",
    "\n",
    "import praw\n",
    "\n",
    "from langchain.llms import OpenAI\n",
    "from langchain.chains import LLMChain\n",
    "from langchain.prompts import PromptTemplate\n",
    "from langchain.prompts.base import BaseOutputParser\n",
    "\n",
    "sys.path.insert(0, r'C:\\Users\\HARSH\\Documents\\chatweb3-backend')\n",
    "from utils import *\n",
    "set_api_key()\n",
    "\n",
    "reddit = praw.Reddit(client_id='vNryBhGWEDDKjF1KiRabfQ', client_secret='VgPhCqfZ707LimGMu4FzAHNSfFdQhw', user_agent='crypto_data')"
   ]
  },
  {
   "cell_type": "code",
   "execution_count": 2,
   "metadata": {},
   "outputs": [],
   "source": [
    "TOOLS = \\\n",
    "'''\n",
    "Coinbase\n",
    "MakerDao\n",
    "UniSwap\n",
    "opensea\n",
    "LidoFinance\n",
    "ethereum\n",
    "Ledger\n",
    "YugaLabs\n",
    "MyEtherWallet\n",
    "Stash\n",
    "CurveFinance\n",
    "'''"
   ]
  },
  {
   "cell_type": "code",
   "execution_count": 3,
   "metadata": {},
   "outputs": [],
   "source": [
    "TURN2QUES_TEMPLATE = \\\n",
    "'''\n",
    "Read the following Reddit posts. For each, please identify the questions the author of the post is trying to have answered, or any questions that a reader of the post who knows nothing about the topic is likely to have. \n",
    "\n",
    "Subreddit: r/ethereum\n",
    "Post title: How find the same/similar smart contract on a tesnet?\n",
    "Post body: I'm trying to copy an app that's running on the main net. It's using a lot of smart contracts and tokens deployed on the main net. Is there anyway I can find these smart contracts on the goerli test net and not copy and deploy them one by one?\n",
    "Questions:\n",
    "How can I find testnet deployments of Ethereum mainnet protocols?\n",
    "What is the goerli testnet?\n",
    "How can I deploy an app on a testnet? \n",
    "How can I integrate with smart contracts on a testnet?\n",
    "\n",
    "Subreddit: r/ethereum\n",
    "Post title: My transaction is stuck for over 2h\n",
    "Post body: Hi\n",
    "\n",
    "so I made a transaction on uniswap and its in pending state for over 2h. I can not cancel as 'cancel' button on metamask is not avaliable, I can not speed it up as nothing is happening when I hit speed up button. What are my options?\n",
    "Questions:\n",
    "How can I cancel a transaction?\n",
    "How can I speed up a transaction?\n",
    "How does canceling a transaction work?\n",
    "How does \"speeding up\" a transaction work? \n",
    "What can I do about a stuck transaction in metamask? \n",
    "What do you do when a transaction is pending for a long time? \n",
    "\n",
    "Subreddit: r/CoinBase\n",
    "Post title: XRP disappeared from wallet. What do I do?\n",
    "Post body:\n",
    "Questions:\n",
    "What happened to my XRP?\n",
    "Why is my XRP missing from my wallet?\n",
    "How can I recover my XRP?\n",
    "What should I do if I can't find my XRP in my wallet? \n",
    "What are the possible causes of XRP disappearing from my wallet?\n",
    "\n",
    "Subreddit: r/{subreddit}\n",
    "Post title: {title}\n",
    "Post body: {body}\n",
    "Questions:'''\n",
    "\n",
    "class ChatOutputParser(BaseOutputParser):\n",
    "\n",
    "    @property\n",
    "    def _type(self) -> str:\n",
    "        \"\"\"Return the type key.\"\"\"\n",
    "        return \"chat_output_parser\"\n",
    "\n",
    "    def parse(self, text: str) -> str:\n",
    "        \"\"\"Parse the output of an LLM call.\"\"\"\n",
    "        text = text.strip()\n",
    "        text = text.split('\\n')\n",
    "        return text\n",
    "\n",
    "llm = OpenAI(\n",
    "    temperature=0.8, max_tokens=-1,\n",
    ")\n",
    "output_parser = ChatOutputParser()\n",
    "turn2ques_prompt = PromptTemplate(\n",
    "    input_variables=[\"subreddit\", \"body\", \"title\"],\n",
    "    template=TURN2QUES_TEMPLATE,\n",
    "    output_parser=output_parser,\n",
    ")\n",
    "chain = LLMChain(llm=llm, prompt=turn2ques_prompt, verbose=False)"
   ]
  },
  {
   "cell_type": "code",
   "execution_count": 4,
   "metadata": {},
   "outputs": [],
   "source": [
    "BLACKLISTED_TITLES = ['Frequently Asked Questions + Weekly Discussion Thread',\n",
    "                      'Welcome to r/Coinbase! | Help: help.coinbase.com | As a reminder, our only official Coinbase Support presence on Reddit is u/coinbasesupport.']"
   ]
  },
  {
   "cell_type": "code",
   "execution_count": 5,
   "metadata": {},
   "outputs": [
    {
     "name": "stdout",
     "output_type": "stream",
     "text": [
      "subreddit \"UniSwap\" not found\n"
     ]
    },
    {
     "name": "stderr",
     "output_type": "stream",
     "text": [
      "Retrying langchain.llms.openai.BaseOpenAI.completion_with_retry.<locals>._completion_with_retry in 4.0 seconds as it raised RateLimitError: Rate limit reached for default-text-davinci-003 in organization org-mrK2kSCEDDLFwshwzA1wjEBX on tokens per min. Limit: 250000 / min. Current: 288020 / min. Contact support@openai.com if you continue to have issues..\n"
     ]
    },
    {
     "name": "stdout",
     "output_type": "stream",
     "text": [
      "subreddit \"LidoFinance\" not found\n",
      "subreddit \"ethereum\" not found\n",
      "subreddit \"Ledger\" not found\n",
      "subreddit \"MyEtherWallet\" not found\n",
      "subreddit \"Stash\" not found\n",
      "subreddit \"CurveFinance\" not found\n"
     ]
    }
   ],
   "source": [
    "all_ques = []\n",
    "for tool in TOOLS.strip().split('\\n'):\n",
    "    try:\n",
    "        hot_posts = reddit.subreddit(tool).hot(limit=300)\n",
    "        for post in hot_posts:\n",
    "            title = post.title\n",
    "            if title in BLACKLISTED_TITLES: continue\n",
    "            if title.endswith('?') and len(title.split())>5:\n",
    "                all_ques.append(max(chain.apply_and_parse([{\"subreddit\": tool, \"title\": title, \"body\": post.selftext}])[0], key=len))\n",
    "                time.sleep(6)\n",
    "    except:\n",
    "        print(f'subreddit \"{tool}\" not found') \n",
    "        pass"
   ]
  },
  {
   "cell_type": "code",
   "execution_count": 36,
   "metadata": {},
   "outputs": [],
   "source": [
    "with open(\"init_questions4_1.txt\", 'w') as output:\n",
    "    for row in all_ques:\n",
    "        output.write(str(row) + '\\n')"
   ]
  }
 ],
 "metadata": {
  "kernelspec": {
   "display_name": "base",
   "language": "python",
   "name": "python3"
  },
  "language_info": {
   "codemirror_mode": {
    "name": "ipython",
    "version": 3
   },
   "file_extension": ".py",
   "mimetype": "text/x-python",
   "name": "python",
   "nbconvert_exporter": "python",
   "pygments_lexer": "ipython3",
   "version": "3.9.13"
  },
  "orig_nbformat": 4,
  "vscode": {
   "interpreter": {
    "hash": "a50c67c2899eff48b42ce193594db3f0465d411cbcbdad9a91476e0c1ace7634"
   }
  }
 },
 "nbformat": 4,
 "nbformat_minor": 2
}
