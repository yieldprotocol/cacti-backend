{
 "cells": [
  {
   "cell_type": "code",
   "execution_count": 1,
   "metadata": {},
   "outputs": [],
   "source": [
    "import sys\n",
    "import re\n",
    "import requests\n",
    "from tqdm.auto import tqdm \n",
    "\n",
    "from langchain.llms import OpenAI\n",
    "from langchain.chains import LLMChain\n",
    "from langchain.prompts import PromptTemplate\n",
    "from langchain.prompts.base import BaseOutputParser\n",
    "\n",
    "sys.path.insert(0, r'C:\\Users\\HARSH\\Documents\\chatweb3-backend')\n",
    "from utils import *\n",
    "set_api_key()"
   ]
  },
  {
   "cell_type": "code",
   "execution_count": 2,
   "metadata": {},
   "outputs": [],
   "source": [
    "TEMPLATE = \\\n",
    "'''\n",
    "Query: {query}\n",
    "Note: The query is related to the blockchain ecosystem.\n",
    "Generate 10 related searches most asked on the web. \n",
    "1.'''\n",
    "\n",
    "class ChatOutputParser(BaseOutputParser):\n",
    "\n",
    "    @property\n",
    "    def _type(self) -> str:\n",
    "        \"\"\"Return the type key.\"\"\"\n",
    "        return \"chat_output_parser\"\n",
    "\n",
    "    def parse(self, text: str) -> str:\n",
    "        \"\"\"Parse the output of an LLM call.\"\"\"\n",
    "        text = text.strip()\n",
    "        text = re.sub(r\"\\d+. \", '', text)\n",
    "        text = text.split('\\n')\n",
    "        return text"
   ]
  },
  {
   "cell_type": "code",
   "execution_count": 3,
   "metadata": {},
   "outputs": [],
   "source": [
    "class SearchURLs():\n",
    "    def __init__(self,) -> None:\n",
    "        super().__init__()\n",
    "        llm = OpenAI(\n",
    "            temperature=1.0, max_tokens=-1,\n",
    "        )\n",
    "        output_parser = ChatOutputParser()\n",
    "        relSearch_prompt = PromptTemplate(\n",
    "            input_variables=[\"query\"],\n",
    "            template=TEMPLATE,\n",
    "            output_parser=output_parser,\n",
    "        )\n",
    "        self.chain = LLMChain(llm=llm, prompt=relSearch_prompt, verbose=False)\n",
    "\n",
    "        subscription_key=\"c6279a2b2a41436caa61fe104e464404\"\n",
    "        self.search_url = \"https://api.bing.microsoft.com/v7.0/search\"\n",
    "        self.headers = {\"Ocp-Apim-Subscription-Key\" : subscription_key}\n",
    "\n",
    "    def via_llm(self, query): \n",
    "        relSearches = self.chain.apply_and_parse([{\"query\": query}])[0]\n",
    "        return relSearches\n",
    "\n",
    "    def via_bing(self, query):\n",
    "        query = query+\" Note: The query is related to the blockchain ecosystem.\"\n",
    "        params  = {\"q\": query, \"textDecorations\": True, \"textFormat\": \"HTML\"}\n",
    "        response = requests.get(self.search_url, headers=self.headers, params=params)\n",
    "        response.raise_for_status()\n",
    "        response = response.json()\n",
    "        urls = [x['url'] for x in response['webPages']['value']]\n",
    "        try: relSearches = [r['text'] for r in response['relatedSearches']['value']]\n",
    "        except: relSearches = []\n",
    "        return urls, relSearches"
   ]
  },
  {
   "cell_type": "code",
   "execution_count": 4,
   "metadata": {},
   "outputs": [],
   "source": [
    "with open(\"init_questions4.txt\") as file:\n",
    "    queries = [line.rstrip() for line in file]"
   ]
  },
  {
   "cell_type": "code",
   "execution_count": 5,
   "metadata": {},
   "outputs": [],
   "source": [
    "def find_urls(query, searcher, depth):\n",
    "    urls, relS_bing = searcher.via_bing(query)\n",
    "    urls = [u for u in urls if u not in all_urls]\n",
    "    all_urls.update(set(urls))\n",
    "    relS_llm = searcher.via_llm(query)\n",
    "    if depth==0: return {query: urls}\n",
    "    relS = relS_bing + relS_llm\n",
    "    q_urls = []\n",
    "    for q in relS:\n",
    "        if q in all_queries: continue\n",
    "        x = find_urls(q, searcher, depth=depth-1)\n",
    "        all_queries.add(q)\n",
    "        q_urls.append(x)\n",
    "    return q_urls"
   ]
  },
  {
   "cell_type": "code",
   "execution_count": null,
   "metadata": {},
   "outputs": [],
   "source": [
    "searcher = SearchURLs()\n",
    "all_queries, all_urls = set(), set()\n",
    "for q in tqdm(queries):\n",
    "    urls = find_urls(q, searcher, depth=2)"
   ]
  },
  {
   "cell_type": "code",
   "execution_count": null,
   "metadata": {},
   "outputs": [],
   "source": [
    "with open(\"urls2scrape2.txt\", 'w') as output:\n",
    "    for row in urls:\n",
    "        output.write(str(row) + '\\n')"
   ]
  }
 ],
 "metadata": {
  "kernelspec": {
   "display_name": "base",
   "language": "python",
   "name": "python3"
  },
  "language_info": {
   "codemirror_mode": {
    "name": "ipython",
    "version": 3
   },
   "file_extension": ".py",
   "mimetype": "text/x-python",
   "name": "python",
   "nbconvert_exporter": "python",
   "pygments_lexer": "ipython3",
   "version": "3.9.13"
  },
  "orig_nbformat": 4,
  "vscode": {
   "interpreter": {
    "hash": "a50c67c2899eff48b42ce193594db3f0465d411cbcbdad9a91476e0c1ace7634"
   }
  }
 },
 "nbformat": 4,
 "nbformat_minor": 2
}
