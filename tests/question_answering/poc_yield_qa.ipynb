{
 "cells": [
  {
   "cell_type": "markdown",
   "metadata": {},
   "source": [
    "# Yield's Question Answering (QA) bot"
   ]
  },
  {
   "cell_type": "markdown",
   "metadata": {},
   "source": [
    "### High-level approach\n",
    "#### Pre-processing\n",
    "- Load files from the repo, chunk them based on langugage-specific separators to maintain enough context\n",
    "- Categorize each chunk as 'general' or 'technical' based on content type to allow semantic search to filter on query's underlying intent (general usage vs coding/technical)\n",
    "- Add chunks to vector DB\n",
    "\n",
    "\n",
    "#### Query time\n",
    "- Call LLM to categorize the query as 'general' or 'technical' based on intent\n",
    "- Run semantic search with category filter on vector db to get relevant chunks for LLM context\n",
    "- Call LLM to answer user query with context\n",
    "\n",
    "\n",
    "### Improvements\n",
    "#### Parameters to explore to improve quality\n",
    "- chunk size\n",
    "- top-k count\n",
    "- LLMs with larger context window (GPT-4 vs GPT-3.5 16k)\n",
    "- Alternative Code-optimized LLMs such as BigCode https://huggingface.co/bigcode\n",
    "\n",
    "#### Code suggestions\n",
    "Code suggesstions could be improved by indexing [COOKBOOK](https://github.com/yieldprotocol/addendum-docs/blob/main/COOKBOOK.md) as the V2 documentation does not have extensive code examples"
   ]
  },
  {
   "cell_type": "code",
   "execution_count": null,
   "metadata": {},
   "outputs": [],
   "source": [
    "# Install dependencies\n",
    "!pip install langchain openai chromadb GitPython ipython tiktoken"
   ]
  },
  {
   "cell_type": "code",
   "execution_count": 9,
   "metadata": {},
   "outputs": [],
   "source": [
    "import os\n",
    "from langchain.document_loaders import GitLoader\n",
    "from langchain.text_splitter import RecursiveCharacterTextSplitter, Language\n",
    "from langchain.text_splitter import MarkdownHeaderTextSplitter\n",
    "from langchain.vectorstores import Chroma\n",
    "from langchain.llms import OpenAI\n",
    "from langchain.embeddings import OpenAIEmbeddings\n",
    "from langchain.chains import RetrievalQAWithSourcesChain, RetrievalQA\n",
    "from IPython.display import display\n",
    "from IPython.display import Markdown\n",
    "from getpass import getpass\n",
    "from pathlib import Path\n",
    "from langchain.callbacks import StdOutCallbackHandler\n",
    "from langchain.prompts import PromptTemplate\n",
    "from langchain.callbacks import get_openai_callback\n",
    "from langchain import LLMChain\n",
    "from langchain.chat_models import ChatOpenAI\n",
    "import json\n",
    "\n",
    "stdout_handler = StdOutCallbackHandler() "
   ]
  },
  {
   "cell_type": "code",
   "execution_count": 10,
   "metadata": {},
   "outputs": [
    {
     "name": "stdout",
     "output_type": "stream",
     "text": [
      "········\n"
     ]
    }
   ],
   "source": [
    "OPENAI_API_KEY = getpass()"
   ]
  },
  {
   "cell_type": "code",
   "execution_count": 11,
   "metadata": {},
   "outputs": [],
   "source": [
    "os.environ['OPENAI_API_KEY'] = OPENAI_API_KEY"
   ]
  },
  {
   "cell_type": "markdown",
   "metadata": {},
   "source": [
    "## Common Functions"
   ]
  },
  {
   "cell_type": "markdown",
   "metadata": {},
   "source": [
    "### Load contents from repo"
   ]
  },
  {
   "cell_type": "code",
   "execution_count": 12,
   "metadata": {},
   "outputs": [],
   "source": [
    "def load_repo(remote_repo_url, local_repo_path, branch, file_filter=None):\n",
    "    local_repo_exists = Path(local_repo_path).is_dir()\n",
    "\n",
    "    if local_repo_exists:\n",
    "        loader = GitLoader(\n",
    "            repo_path=local_repo_path,\n",
    "            branch=branch,\n",
    "            file_filter=file_filter\n",
    "        ) \n",
    "    else:\n",
    "        loader = GitLoader(\n",
    "            clone_url=remote_repo_url,\n",
    "            repo_path=local_repo_path,\n",
    "            branch=branch,\n",
    "            file_filter=file_filter\n",
    "        )\n",
    "    return loader.load()"
   ]
  },
  {
   "cell_type": "markdown",
   "metadata": {},
   "source": [
    "### Split document into chunks based on  Programming Language separators/syntax\n",
    "* Split on programming language separators/syntax\n",
    "* Categorize each chunk as 'general' or 'technical' based on content type"
   ]
  },
  {
   "cell_type": "code",
   "execution_count": 13,
   "metadata": {},
   "outputs": [],
   "source": [
    "def split_docs(docs, language, chunk_size, chunk_overlap):\n",
    "    text_splitter = RecursiveCharacterTextSplitter.from_language(language=language, chunk_size=chunk_size, chunk_overlap=chunk_overlap)\n",
    "\n",
    "    all_splits=[]\n",
    "    all_metadatas=[]\n",
    "    for d in docs:\n",
    "        doc_file=d.page_content   \n",
    "        metadata = d.metadata\n",
    "        splits = text_splitter.split_text(doc_file)\n",
    "        \n",
    "        if 'cookbook' in metadata['file_path'].lower():\n",
    "            metadata['category'] = \"technical\"\n",
    "        else:\n",
    "            metadata['category'] = \"general\"\n",
    "        \n",
    "        metadatas = [metadata for _ in splits]\n",
    "        all_splits += splits\n",
    "        all_metadatas += metadatas\n",
    "        \n",
    "    return {\n",
    "        'all_splits': all_splits,\n",
    "        'all_metadatas': all_metadatas\n",
    "    }\n",
    "    "
   ]
  },
  {
   "cell_type": "markdown",
   "metadata": {},
   "source": [
    "## QA Workflow"
   ]
  },
  {
   "cell_type": "code",
   "execution_count": 14,
   "metadata": {},
   "outputs": [],
   "source": [
    "# documentation repo\n",
    "remote_repo_docsV2_url=\"https://github.com/yieldprotocol/docs-v2\"\n",
    "local_repo_docsV2_path=\"/tmp/yield_docs_v2_repo\"\n",
    "\n",
    "# cookbook repo\n",
    "remote_repo_addendum_url=\"https://github.com/yieldprotocol/addendum-docs\"\n",
    "local_repo_addendum_path=\"/tmp/yield_addendum-docs\"\n",
    "\n",
    "\n",
    "branch=\"main\"\n",
    "file_filter=lambda file_path: file_path.endswith(\".md\")"
   ]
  },
  {
   "cell_type": "code",
   "execution_count": 15,
   "metadata": {},
   "outputs": [],
   "source": [
    "chunk_size_chars = 2000\n",
    "chunk_overlap_chars = 0\n",
    "\n",
    "documentation_docs = load_repo(remote_repo_docsV2_url, local_repo_docsV2_path, branch, file_filter)\n",
    "addendum_docs = load_repo(remote_repo_addendum_url, local_repo_addendum_path, branch, file_filter)"
   ]
  },
  {
   "cell_type": "code",
   "execution_count": 16,
   "metadata": {},
   "outputs": [],
   "source": [
    "documentation_splits = split_docs(documentation_docs, Language.MARKDOWN, chunk_size_chars, chunk_overlap_chars)\n",
    "addendum_splits = split_docs(addendum_docs, Language.MARKDOWN, chunk_size_chars, chunk_overlap_chars)"
   ]
  },
  {
   "cell_type": "code",
   "execution_count": 17,
   "metadata": {},
   "outputs": [],
   "source": [
    "vector_db = Chroma(embedding_function=OpenAIEmbeddings())\n",
    "documentation_splits_ids = vector_db.add_texts(documentation_splits['all_splits'], documentation_splits['all_metadatas'])\n",
    "addendum_splits_ids = vector_db.add_texts(addendum_splits['all_splits'], addendum_splits['all_metadatas'])"
   ]
  },
  {
   "cell_type": "code",
   "execution_count": 18,
   "metadata": {},
   "outputs": [],
   "source": [
    "categorization_prompt_template = \"\"\"\n",
    "You are a Web3 expert who is able to answer any user query on Yield protocol's documentation, code, whitepapers and many other such topics.\n",
    "\n",
    "# INSTRUCTIONS\n",
    "- Classify the user's query into one of these categories - 'general' or 'technical' or 'na'\n",
    "- Use the examples below as reference, do not make up any categories.\n",
    "- Always return the category in plain text format.\n",
    "- If you are unable to process the query, just return 'na'\n",
    "\n",
    "QUERY: How do I borrow\n",
    "ANSWER: general\n",
    "\n",
    "QUERY: How do I borrow using code\n",
    "ANSWER: technical\n",
    "\n",
    "QUERY: How do I integrate\n",
    "ANSWER: technical\n",
    "\n",
    "QUERY: How is lending rate calculated\n",
    "ANSWER: general\n",
    "\n",
    "QUERY: {query}\n",
    "ANSWER:\"\"\"\n",
    "\n",
    "QUERY_CATEGORIZATION_PROMPT = PromptTemplate(\n",
    "    template=categorization_prompt_template, input_variables=[\"query\"]\n",
    ")"
   ]
  },
  {
   "cell_type": "code",
   "execution_count": 19,
   "metadata": {},
   "outputs": [],
   "source": [
    "final_answer_prompt_template = \"\"\"\n",
    "You are a Web3 expert who is able to answer any user query on Yield protocol's documentation, code, whitepapers and many other such topics.\n",
    "\n",
    "# INSTRUCTIONS\n",
    "- The user's query will be wrapped in triple back ticks\n",
    "- Only answer the query using the provided context below which may include general information and code, do not make up any information.\n",
    "- If the query is related to code or integration, provide a step by step explanation on the process, use code suggestions whereever relevant and always use markdown format annotated with the language to show the code.\n",
    "- For code suggestions, use comments to explain each important concept, class, variable, function and parameter.\n",
    "- Yield Protocol has no JS SDK so always use ethers package for JS code suggestions.\n",
    "\n",
    "# CONTEXT\n",
    "{context}\n",
    "\n",
    "# QUERY\n",
    "```\n",
    "{question}\n",
    "```\n",
    "\"\"\"\n",
    "FINAL_ANSWER_PROMPT = PromptTemplate(\n",
    "    template=final_answer_prompt_template, input_variables=[\"context\", \"question\"]\n",
    ")"
   ]
  },
  {
   "cell_type": "code",
   "execution_count": 29,
   "metadata": {},
   "outputs": [],
   "source": [
    "def ask(query, show_sources=False):\n",
    "    display(Markdown(f\"### Query\\n{query}\"))\n",
    "    \n",
    "    # 1. Call LLM to categorize query based on intent\n",
    "    categorization_llm_chain = LLMChain(\n",
    "        llm=ChatOpenAI(temperature=0, model=\"gpt-3.5-turbo\"),\n",
    "        prompt=QUERY_CATEGORIZATION_PROMPT\n",
    "    )\n",
    "\n",
    "    with get_openai_callback() as cb:\n",
    "        result = categorization_llm_chain.run(query=query)\n",
    "        category = result.replace(\"'\", \"\")\n",
    "        display(Markdown(f\"### Query Category\\n**{category}**\"))\n",
    "        print(cb)\n",
    "\n",
    "    # 2. Call LLM to answer user's query\n",
    "    chain_type_kwargs = {\"prompt\": FINAL_ANSWER_PROMPT}\n",
    "    qa_chain = RetrievalQA.from_chain_type(\n",
    "        llm=ChatOpenAI(temperature=0, model=\"gpt-4\"), \n",
    "        chain_type=\"stuff\", \n",
    "        retriever=vector_db.as_retriever(search_kwargs = {\n",
    "            'k': 5,\n",
    "            'filter': {'category': category}\n",
    "\n",
    "        }), \n",
    "        chain_type_kwargs=chain_type_kwargs,\n",
    "        return_source_documents=True\n",
    "    )\n",
    "\n",
    "    with get_openai_callback() as cb:\n",
    "        answer = qa_chain({'query': query})\n",
    "        display(Markdown(\"### Final Answer\"))\n",
    "        display(Markdown(answer['result']))\n",
    "        print(cb)\n",
    "        \n",
    "        if show_sources:\n",
    "            display(Markdown(\"### Sources\"))\n",
    "            for i, d in enumerate(answer['source_documents']):\n",
    "                display(Markdown(f\"**[Source {i+1}]**\"))\n",
    "                display(Markdown(d.page_content))\n",
    "                display(Markdown(f\"*File path: {d.metadata['file_path']}*\"))\n"
   ]
  },
  {
   "cell_type": "code",
   "execution_count": 30,
   "metadata": {},
   "outputs": [
    {
     "data": {
      "text/markdown": [
       "### Query\n",
       "how do i borrow using code"
      ],
      "text/plain": [
       "<IPython.core.display.Markdown object>"
      ]
     },
     "metadata": {},
     "output_type": "display_data"
    },
    {
     "data": {
      "text/markdown": [
       "### Query Category\n",
       "**technical**"
      ],
      "text/plain": [
       "<IPython.core.display.Markdown object>"
      ]
     },
     "metadata": {},
     "output_type": "display_data"
    },
    {
     "name": "stdout",
     "output_type": "stream",
     "text": [
      "Tokens Used: 171\n",
      "\tPrompt Tokens: 170\n",
      "\tCompletion Tokens: 1\n",
      "Successful Requests: 1\n",
      "Total Cost (USD): $0.000257\n"
     ]
    },
    {
     "data": {
      "text/markdown": [
       "### Final Answer"
      ],
      "text/plain": [
       "<IPython.core.display.Markdown object>"
      ]
     },
     "metadata": {},
     "output_type": "display_data"
    },
    {
     "data": {
      "text/markdown": [
       "To borrow using code, you can use the `serveAction` function provided by the Yield Protocol's Ladle contract. This function allows you to borrow fyToken from an existing vault, which can then be exchanged for the underlying token in a YieldSpace pool.\n",
       "\n",
       "Here is a step-by-step guide on how to do it:\n",
       "\n",
       "1. Import the ethers library and initialize a provider and a signer. The signer is the Ethereum account you will be using to interact with the Ethereum network.\n",
       "\n",
       "```javascript\n",
       "const ethers = require('ethers');\n",
       "\n",
       "// Use default provider (mainnet)\n",
       "const provider = ethers.getDefaultProvider();\n",
       "\n",
       "// Use a private key\n",
       "const signer = new ethers.Wallet('YOUR_PRIVATE_KEY');\n",
       "```\n",
       "\n",
       "2. Define the contract addresses and the ABI for the Ladle contract. The ABI is a JSON representation of the smart contract, including all of its functions and variables.\n",
       "\n",
       "```javascript\n",
       "const ladleAddress = 'LADLE_CONTRACT_ADDRESS'; // Replace with the actual contract address\n",
       "\n",
       "// Ladle contract ABI\n",
       "const ladleABI = [\n",
       "  // ... ladle contract ABI\n",
       "];\n",
       "```\n",
       "\n",
       "3. Initialize a contract instance using the ethers library.\n",
       "\n",
       "```javascript\n",
       "const ladleContract = new ethers.Contract(ladleAddress, ladleABI, provider).connect(signer);\n",
       "```\n",
       "\n",
       "4. Define the parameters for the `serveAction` function. These include the vault ID, the receiver address, the amount to borrow, and the maximum debt.\n",
       "\n",
       "```javascript\n",
       "const vaultId = 'VAULT_ID'; // Replace with your vault ID\n",
       "const receiver = 'RECEIVER_ADDRESS'; // Replace with the receiver address\n",
       "const borrowed = ethers.utils.parseEther('10'); // Borrow 10 fyTokens\n",
       "const maximumDebt = ethers.utils.parseEther('100'); // Maximum debt of 100 fyTokens\n",
       "```\n",
       "\n",
       "5. Call the `serveAction` function using the parameters defined above.\n",
       "\n",
       "```javascript\n",
       "const tx = await ladleContract.serveAction(vaultId, receiver, 0, borrowed, maximumDebt);\n",
       "```\n",
       "\n",
       "6. Wait for the transaction to be mined.\n",
       "\n",
       "```javascript\n",
       "const receipt = await tx.wait();\n",
       "console.log('Transaction mined:', receipt.transactionHash);\n",
       "```\n",
       "\n",
       "This code will borrow fyTokens from the specified vault and send them to the receiver address. The amount of debt added to the vault is equal to the amount of fyTokens borrowed. The maximum debt parameter is used to prevent the debt from exceeding a certain limit."
      ],
      "text/plain": [
       "<IPython.core.display.Markdown object>"
      ]
     },
     "metadata": {},
     "output_type": "display_data"
    },
    {
     "name": "stdout",
     "output_type": "stream",
     "text": [
      "Tokens Used: 2172\n",
      "\tPrompt Tokens: 1674\n",
      "\tCompletion Tokens: 498\n",
      "Successful Requests: 1\n",
      "Total Cost (USD): $0.0801\n"
     ]
    },
    {
     "data": {
      "text/markdown": [
       "### Sources"
      ],
      "text/plain": [
       "<IPython.core.display.Markdown object>"
      ]
     },
     "metadata": {},
     "output_type": "display_data"
    },
    {
     "data": {
      "text/markdown": [
       "**[Source 1]**"
      ],
      "text/plain": [
       "<IPython.core.display.Markdown object>"
      ]
     },
     "metadata": {},
     "output_type": "display_data"
    },
    {
     "data": {
      "text/markdown": [
       "### Provide liquidity by borrowing, using only underlying\n",
       "\n",
       "This batch relies on creating a vault where the underlying is used as collateral to borrow the fyToken of the same underlying.\n",
       "\n",
       "With this vault built, an amount of underlying is used to provide liquidity. That amount is split into the same proportions as the pool reserves, and the portion in the same proportion as the pool fyToken reserves put as collateral in a vault, to borrow fyToken into the pool.\n",
       "\n",
       "```\n",
       "  await ladle.batch([\n",
       "    ladle.buildAction(seriesId, baseId, 0),\n",
       "    ladle.forwardPermitAction(\n",
       "      base, ladle, totalBase, deadline, v, r, s\n",
       "    ),\n",
       "    ladle.transferAction(base, baseJoin, baseToFYToken),\n",
       "    ladle.transferAction(base, pool, baseToPool),\n",
       "    ladle.pourAction(0, pool, baseToFYToken, baseToFYToken),\n",
       "    ladle.routeAction(pool, ['mint', [receiver, receiver, minRatio, maxRatio]),\n",
       "  ])"
      ],
      "text/plain": [
       "<IPython.core.display.Markdown object>"
      ]
     },
     "metadata": {},
     "output_type": "display_data"
    },
    {
     "data": {
      "text/markdown": [
       "*File path: COOKBOOK.md*"
      ],
      "text/plain": [
       "<IPython.core.display.Markdown object>"
      ]
     },
     "metadata": {},
     "output_type": "display_data"
    },
    {
     "data": {
      "text/markdown": [
       "**[Source 2]**"
      ],
      "text/plain": [
       "<IPython.core.display.Markdown object>"
      ]
     },
     "metadata": {},
     "output_type": "display_data"
    },
    {
     "data": {
      "text/markdown": [
       "[Liquidity Providing](#liquidity-providing)\n",
       "  - [Provide liquidity by borrowing](#provide-liquidity-by-borrowing)\n",
       "  - [Provide liquidity by borrowing, using only underlying](#provide-liquidity-by-borrowing-using-only-underlying)\n",
       "  - [Provide liquidity by buying](#provide-liquidity-by-buying)\n",
       "  - [Remove liquidity and repay](#remove-liquidity-and-repay)\n",
       "  - [Remove liquidity, repay and sell](#remove-liquidity-repay-and-sell)\n",
       "  - [Remove liquidity and redeem](#remove-liquidity-and-redeem)\n",
       "  - [Remove liquidity and sell](#remove-liquidity-and-sell)\n",
       "  - [Roll liquidity before maturity](#roll-liquidity-before-maturity)\n",
       "\n",
       " [Strategies](#strategies)\n",
       "  - [Provide liquidity to strategy by borrowing](#provide-liquidity-to-strategy-by-borrowing)\n",
       "  - [Provide liquidity to strategy by buying](#provide-liquidity-to-strategy-by-buying)\n",
       "  - [Remove liquidity from strategy](#remove-liquidity-from-strategy)\n",
       "  - [Remove liquidity from deprecated strategy](#remove-liquidity-from-deprecated-strategy)\n",
       "\n",
       "[Ether](#ether)\n",
       "  - [Post Ether as collateral](#post-ether-as-collateral)\n",
       "  - [Withdraw Ether collateral](#withdraw-ether-collateral)\n",
       "  - [Redeem fyETH](#redeem-fyeth)\n",
       "  - [Provide Ether as liquidity (borrowing)](#provide-ether-as-liquidity-borrowing)\n",
       "  - [Provide Ether as liquidity (buying)](#provide-ether-as-liquidity-buying)\n",
       "  - [Remove liquidity from Ether pools](#remove-liquidity-from-ether-pools)\n",
       "\n",
       "[ERC1155](#erc1155)\n",
       "  - [Post ERC1155 collateral (Ladle Approval)](#post-erc1155-collateral-ladle-approval)\n",
       "  - [Withdraw ERC1155 collateral](#withdraw-erc1155-collateral)"
      ],
      "text/plain": [
       "<IPython.core.display.Markdown object>"
      ]
     },
     "metadata": {},
     "output_type": "display_data"
    },
    {
     "data": {
      "text/markdown": [
       "*File path: COOKBOOK.md*"
      ],
      "text/plain": [
       "<IPython.core.display.Markdown object>"
      ]
     },
     "metadata": {},
     "output_type": "display_data"
    },
    {
     "data": {
      "text/markdown": [
       "**[Source 3]**"
      ],
      "text/plain": [
       "<IPython.core.display.Markdown object>"
      ]
     },
     "metadata": {},
     "output_type": "display_data"
    },
    {
     "data": {
      "text/markdown": [
       "### Provide liquidity by borrowing\n",
       "\n",
       "When providing liquidity by borrowing, the user borrows an amount of fyToken to provide to the pool, along with underlying in the same proportion as the pool reserves.\n",
       "\n",
       "Prepend this batch with actions to create a vault or provide collateral if necessary.\n",
       "\n",
       "An option can be shown to the user where an amount of underlying is taken to provide liquidity. That amount is then split into the same proportions as the pool reserves, and the portion in the same proportion as the pool fyToken reserves put as collateral in a vault, to borrow fyToken into the pool.\n",
       "\n",
       "```\n",
       "  await ladle.batch([\n",
       "    ladle.forwardPermitAction(\n",
       "      base, ladle, baseToPool, deadline, v, r, s\n",
       "    ),\n",
       "    ladle.transferAction(base, pool, baseToPool),\n",
       "    ladle.pourAction(vaultId, pool, 0, fyTokenBorrowed),\n",
       "    ladle.routeAction(pool, ['mint', [receiver, receiver, minRatio, maxRatio]),\n",
       "  ])\n",
       "```\n",
       "|Param  | Description|\n",
       "|--------------|------------------------------------------------------------------------------------|\n",
       "| `  base  `   | Contract for the underlying tokens.      |\n",
       "| `  ladle  `   | Ladle for Yield v2.      |\n",
       "| ` pool  `   | Contract YieldSpace pool trading base and the fyToken for the series.      |\n",
       "| `  baseToPool  `   | Amount of underlying that the user will provide liquidity with.      |\n",
       "| `  vaultId  `   | Vault to add the debt to. Set to 0 if the vault was created as part of this same batch.      |\n",
       "| `  0  `   | Collateral change, zero in this case.      |\n",
       "| `  fyTokenBorrowed  `   | Amount of fyToken that the user will borrow and provide liquidity with.      |\n",
       "| ` receiver  `   | Receiver for the LP tokens.      |\n",
       "| `  true  `   | Make any rounding surplus to be fyToken, left in the pool.      |\n",
       "| `  minRatio  `   | Minimum base/fyToken ratio accepted in the pool reserves.      |\n",
       "| `  maxRatio  `   | Maximum base/fyToken ratio accepted in the pool reserves.      |"
      ],
      "text/plain": [
       "<IPython.core.display.Markdown object>"
      ]
     },
     "metadata": {},
     "output_type": "display_data"
    },
    {
     "data": {
      "text/markdown": [
       "*File path: COOKBOOK.md*"
      ],
      "text/plain": [
       "<IPython.core.display.Markdown object>"
      ]
     },
     "metadata": {},
     "output_type": "display_data"
    },
    {
     "data": {
      "text/markdown": [
       "**[Source 4]**"
      ],
      "text/plain": [
       "<IPython.core.display.Markdown object>"
      ]
     },
     "metadata": {},
     "output_type": "display_data"
    },
    {
     "data": {
      "text/markdown": [
       "### Borrow underlying\n",
       "\n",
       "This action borrows fyToken from an existing vault, which is then exchanged for underlying in a YieldSpace pool. The amount of underlying obtained is an exact number provided as a parameter, and the debt incurred in the vault is variable but within provided limits. It can be combined with previous actions that create vaults and post collateral, among others.\n",
       "\n",
       "```\n",
       "  await ladle.batch([\n",
       "    ladle.serveAction(vaultId, receiver, 0, borrowed, maximumDebt),\n",
       "  ])\n",
       "```\n",
       "\n",
       "|Param  | Description|\n",
       "|--------------|------------------------------------------------------------------------------------|\n",
       "| `  vaultId  `   | Vault to add the collateral to. Set to 0 if the vault was created as part of this same batch.      |\n",
       "| `  receiver  `   | Receiver of the collateral.      |\n",
       "| `  0  `   | Collateral change, zero in this case      |\n",
       "| `  borrowed  `   | Amount of debt to add to the vault, and fyTokens to send to the receiver.      |\n",
       "| `  ladle  `   | Maximum debt to accept for the vault in fyToken terms.      |"
      ],
      "text/plain": [
       "<IPython.core.display.Markdown object>"
      ]
     },
     "metadata": {},
     "output_type": "display_data"
    },
    {
     "data": {
      "text/markdown": [
       "*File path: COOKBOOK.md*"
      ],
      "text/plain": [
       "<IPython.core.display.Markdown object>"
      ]
     },
     "metadata": {},
     "output_type": "display_data"
    },
    {
     "data": {
      "text/markdown": [
       "**[Source 5]**"
      ],
      "text/plain": [
       "<IPython.core.display.Markdown object>"
      ]
     },
     "metadata": {},
     "output_type": "display_data"
    },
    {
     "data": {
      "text/markdown": [
       "```\n",
       "                                        __________________   __________________\n",
       "                                    .-/|                  \\ /                  |\\-.\n",
       "                                    ||||                   |                   ||||\n",
       "                                    ||||                   |                   ||||\n",
       "                                    ||||                   |                   ||||\n",
       "                                    ||||      Yield        |   \"Recipes        ||||\n",
       "                                    ||||                   |   made with love  ||||\n",
       "                                    ||||     COOKBOOK      |   just like mama  ||||\n",
       "                                    ||||                   |   used to make\"   ||||\n",
       "                                    ||||                   |                   ||||\n",
       "                                    ||||                   |                   ||||\n",
       "                                    ||||                   |                   ||||\n",
       "                                    ||||__________________ | __________________||||\n",
       "                                    ||/===================\\|/===================\\||\n",
       "                                    `--------------------~___~-------------------''\n",
       "```"
      ],
      "text/plain": [
       "<IPython.core.display.Markdown object>"
      ]
     },
     "metadata": {},
     "output_type": "display_data"
    },
    {
     "data": {
      "text/markdown": [
       "*File path: COOKBOOK.md*"
      ],
      "text/plain": [
       "<IPython.core.display.Markdown object>"
      ]
     },
     "metadata": {},
     "output_type": "display_data"
    }
   ],
   "source": [
    "ask(\"how do i borrow using code\")"
   ]
  },
  {
   "cell_type": "markdown",
   "metadata": {},
   "source": [
    "## Question Bank"
   ]
  },
  {
   "cell_type": "code",
   "execution_count": 21,
   "metadata": {},
   "outputs": [],
   "source": [
    "# Question Bank\n",
    "question_bank_prompt_template = \"\"\"\n",
    "You are a Web3 user who wants to learn about the Yield protocol and its inner workings, concepts and methods to integrate using both client-side and smart contract code.\n",
    "\n",
    "# INSTRUCTIONS\n",
    "- Generate 5 questions to ask about the protocol from the document provided below, always ensure the questions are related to the document text and do not make up any information.\n",
    "- The result should be in JSON format like {{\"questions\": []}}\n",
    "\n",
    "# DOCUMENT\n",
    "{document}\n",
    "\n",
    "# RESULT\"\"\"\n",
    "QUESTION_BANK_PROMPT = PromptTemplate(\n",
    "    template=question_bank_prompt_template, input_variables=[\"document\"]\n",
    ")\n",
    "\n",
    "question_bank_llm_chain = LLMChain(\n",
    "    llm=ChatOpenAI(temperature=0, model=\"gpt-3.5-turbo\"),\n",
    "    prompt=QUESTION_BANK_PROMPT\n",
    ")"
   ]
  },
  {
   "cell_type": "code",
   "execution_count": 22,
   "metadata": {},
   "outputs": [],
   "source": [
    "def gen_questions(texts):\n",
    "    questions = []\n",
    "    print(f\"total texts: {len(texts)}\")\n",
    "    with get_openai_callback() as cb:\n",
    "        for i, t in enumerate(texts):\n",
    "            print(f\"Working on text #{i+1} ...\")\n",
    "            result = question_bank_llm_chain.run(document=t)\n",
    "            questions.extend(json.loads(result)[\"questions\"])\n",
    "        print(cb)\n",
    "    return questions\n",
    "\n",
    "# Gets saved in the \"tests/question_answering\" directory\n",
    "def save_questions(file_name, questions):\n",
    "    with open(f\"./question_answering/{file_name}\", 'w') as file:\n",
    "        for q in questions:\n",
    "            file.write(f\"{q}\\n\")"
   ]
  },
  {
   "cell_type": "code",
   "execution_count": 23,
   "metadata": {},
   "outputs": [],
   "source": [
    "#documentation_questions = gen_questions(documentation_splits['all_splits'])\n",
    "#save_questions('yield_documentation_qs.txt', documentation_questions)"
   ]
  },
  {
   "cell_type": "code",
   "execution_count": 24,
   "metadata": {},
   "outputs": [],
   "source": [
    "#addendum_questions = gen_questions(addendum_splits['all_splits'])\n",
    "#save_questions(\"yield_addendum_cookbook_qs.txt\", addendum_questions)`"
   ]
  },
  {
   "cell_type": "code",
   "execution_count": 25,
   "metadata": {},
   "outputs": [],
   "source": [
    "def read_questions(file_name):\n",
    "    with open(file_name, 'r') as file:\n",
    "        questions = [line.strip() for line in file]\n",
    "    return questions"
   ]
  },
  {
   "cell_type": "code",
   "execution_count": 26,
   "metadata": {},
   "outputs": [],
   "source": [
    "documentation_questions = read_questions('yield_documentation_qs.txt')"
   ]
  },
  {
   "cell_type": "code",
   "execution_count": 27,
   "metadata": {},
   "outputs": [],
   "source": [
    "addendum_questions = read_questions('yield_addendum_cookbook_qs.txt')"
   ]
  },
  {
   "cell_type": "code",
   "execution_count": null,
   "metadata": {},
   "outputs": [],
   "source": [
    "# for q in documentation_questions[:5]:\n",
    "#     ask(q)"
   ]
  },
  {
   "cell_type": "code",
   "execution_count": null,
   "metadata": {},
   "outputs": [],
   "source": [
    "# for q in addendum_questions[:5]:\n",
    "#     ask(q)"
   ]
  },
  {
   "cell_type": "code",
   "execution_count": null,
   "metadata": {},
   "outputs": [],
   "source": []
  }
 ],
 "metadata": {
  "kernelspec": {
   "display_name": "Python 3 (ipykernel)",
   "language": "python",
   "name": "python3"
  },
  "language_info": {
   "codemirror_mode": {
    "name": "ipython",
    "version": 3
   },
   "file_extension": ".py",
   "mimetype": "text/x-python",
   "name": "python",
   "nbconvert_exporter": "python",
   "pygments_lexer": "ipython3",
   "version": "3.10.7"
  }
 },
 "nbformat": 4,
 "nbformat_minor": 2
}
