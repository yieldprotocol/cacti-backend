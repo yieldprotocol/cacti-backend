{
 "cells": [
  {
   "cell_type": "code",
   "execution_count": 1,
   "id": "4de0a89d-dab2-4942-a870-8fbffbe597c3",
   "metadata": {
    "tags": []
   },
   "outputs": [
    {
     "name": "stdout",
     "output_type": "stream",
     "text": [
      "Added to class registry: chat.simple.SimpleChat\n",
      "Added to class registry: chat.rephrase.RephraseChat\n",
      "Added to class registry: chat.rephrase_cited.RephraseCitedChat\n",
      "Added to class registry: chains.api_chain.IndexAPIChain\n",
      "Added to class registry: chat.widget_search.WidgetSearchChat\n",
      "Added to class registry: tools.index_lookup.IndexLookupTool\n",
      "Added to class registry: tools.index_answer.IndexAnswerTool\n",
      "Added to class registry: tools.index_widget.IndexWidgetTool\n",
      "Added to class registry: index.weaviate.WeaviateIndex\n",
      "Added to class registry: tools.index_app_info.IndexAppInfoTool\n",
      "Added to class registry: tools.index_api_tool.IndexAPITool\n",
      "Added to class registry: chat.basic_agent.BasicAgentChat\n",
      "Added to class registry: system.System\n",
      "Initializing instance of type: index.weaviate.WeaviateIndex\n",
      "Initializing instance of type: index.weaviate.WeaviateIndex\n",
      "Initializing instance of type: index.weaviate.WeaviateIndex\n",
      "Initializing instance of type: index.weaviate.WeaviateIndex\n",
      "Initializing instance of type: index.weaviate.WeaviateIndex\n",
      "Initializing instance of type: chat.basic_agent.BasicAgentChat\n",
      "Initializing instance of type: system.System\n"
     ]
    }
   ],
   "source": [
    "import sys\n",
    "sys.path.insert(0, '../')\n",
    "\n",
    "import uuid\n",
    "import os\n",
    "import time\n",
    "from typing import Any, Callable, Generator\n",
    "\n",
    "from langchain.llms import OpenAI\n",
    "from langchain.prompts import PromptTemplate\n",
    "from langchain.chains import LLMChain\n",
    "from langchain.prompts.base import BaseOutputParser\n",
    "from langchain.agents import load_tools, Tool\n",
    "from langchain.agents import initialize_agent\n",
    "from langchain.llms import OpenAI\n",
    "\n",
    "from chat.base import BaseChat, ChatHistory, Response\n",
    "from chat.widget_search import ChatOutputParser, WIDGET_INSTRUCTION, SEARCH_INSTRUCTION, TEMPLATE, IDENTIFY_TEMPLATE\n",
    "from chat.base import *\n",
    "from index.weaviate import *\n",
    "from index.widgets import *\n",
    "from utils import *\n",
    "from config import *\n",
    "from system import *\n",
    "from tools import *\n",
    "\n",
    "set_api_key()\n",
    "\n",
    "def send_message(resp, last_chat_message_id=None):\n",
    "    if resp.operation == 'replace':\n",
    "        print(resp.response)\n",
    "    return 1\n",
    "\n",
    "system = initialize(default_config)"
   ]
  },
  {
   "cell_type": "code",
   "execution_count": 3,
   "id": "93870fb7-57b9-44f4-bdba-cf580fe1694f",
   "metadata": {
    "tags": []
   },
   "outputs": [
    {
     "name": "stdout",
     "output_type": "stream",
     "text": [
      "Initializing instance of type: tools.index_answer.IndexAnswerTool\n",
      "Initializing instance of type: tools.index_widget.IndexWidgetTool\n",
      "Initializing instance of type: tools.index_app_info.IndexAppInfoTool\n",
      "Initializing instance of type: tools.index_api_tool.IndexAPITool\n",
      "\n",
      "\n",
      "\u001b[1m> Entering new AgentExecutor chain...\u001b[0m\n",
      "\u001b[32;1m\u001b[1;3m The user wants to know the current price of Bitcoin\n",
      "Action: IndexAPITool\n",
      "Action Input: Get the current price of Bitcoin\u001b[0mEndpoint: https://api.coingecko.com/api\n",
      "GET /v3/simple/price\n",
      "\n",
      "This API returns the current price of any cryptocurrency. \n",
      "\n",
      "The cryptocurrencies supported have the following data structure. Only use the ids from the below data structure.\n",
      "{\"id\": \"bitcoin\", \"symbol\": \"btc\", \"name\": \"Bitcoin\"}\n",
      "{\"id\": \"bitcoin-br\", \"symbol\": \"btcbr\", \"name\": \"Bitcoin BR\"}\n",
      "{\"id\": \"bitcoinv\", \"symbol\": \"btcv\", \"name\": \"BitcoinV\"}\n",
      "\n",
      "Query parameters table:\n",
      "ids | string | The \"id\" field of the cryptocurrency from the above data structure, comma seperated if more than one\n",
      "vs_currencies | string | A valid 3 character ISO currency code. Should default to usd\n",
      "\n",
      "Response schema (JSON object):\n",
      "canonical id from query param | object | Result object\n",
      "\n",
      "The result object has following schema: \n",
      "The ISO currency code from query param | number | the current price\n",
      "\n",
      "\n",
      "\u001b[1m> Entering new IndexAPIChain chain...\u001b[0m\n",
      " The user wants to know the current price of Bitcoin\n",
      "Action: IndexAPITool\n",
      "Action Input: Get the current price of Bitcoin\n",
      "\u001b[32;1m\u001b[1;3mhttps://api.coingecko.com/api/v3/simple/price?ids=bitcoin&vs_currencies=usd\u001b[0m\n",
      "\u001b[33;1m\u001b[1;3m{\"bitcoin\":{\"usd\":23478}}\u001b[0m\n",
      "\n",
      "\u001b[1m> Finished chain.\u001b[0m\n",
      "\n",
      "Observation: \u001b[31;1m\u001b[1;3m The current price of Bitcoin is $23,478.\u001b[0m\n",
      "\u001b[32;1m\u001b[1;3m\u001b[0m\n",
      "\n",
      "\u001b[1m> Finished chain.\u001b[0m\n",
      "The current price of Bitcoin is $23,478.\n"
     ]
    },
    {
     "ename": "AttributeError",
     "evalue": "'list' object has no attribute 'add_interaction'",
     "output_type": "error",
     "traceback": [
      "\u001b[0;31m---------------------------------------------------------------------------\u001b[0m",
      "\u001b[0;31mAttributeError\u001b[0m                            Traceback (most recent call last)",
      "Cell \u001b[0;32mIn[3], line 1\u001b[0m\n\u001b[0;32m----> 1\u001b[0m \u001b[43msystem\u001b[49m\u001b[38;5;241;43m.\u001b[39;49m\u001b[43mchat\u001b[49m\u001b[38;5;241;43m.\u001b[39;49m\u001b[43mreceive_input\u001b[49m\u001b[43m(\u001b[49m\u001b[43m[\u001b[49m\u001b[43m]\u001b[49m\u001b[43m,\u001b[49m\u001b[43m \u001b[49m\u001b[38;5;124;43m\"\u001b[39;49m\u001b[38;5;124;43mwhat is the price of bitcoin\u001b[39;49m\u001b[38;5;124;43m\"\u001b[39;49m\u001b[43m,\u001b[49m\u001b[43m \u001b[49m\u001b[43msend_message\u001b[49m\u001b[43m)\u001b[49m\n",
      "File \u001b[0;32m~/develop/projects/chatweb3/chatweb3-backend/tests/../chat/basic_agent.py:137\u001b[0m, in \u001b[0;36mBasicAgentChat.receive_input\u001b[0;34m(self, history, userinput, send)\u001b[0m\n\u001b[1;32m    134\u001b[0m     system_flush(system_response)\n\u001b[1;32m    136\u001b[0m \u001b[38;5;28;01mif\u001b[39;00m bot_chat_message_id \u001b[38;5;129;01mis\u001b[39;00m \u001b[38;5;129;01mnot\u001b[39;00m \u001b[38;5;28;01mNone\u001b[39;00m:\n\u001b[0;32m--> 137\u001b[0m     \u001b[43mbot_flush\u001b[49m\u001b[43m(\u001b[49m\u001b[43mresult\u001b[49m\u001b[43m)\u001b[49m\n\u001b[1;32m    138\u001b[0m \u001b[38;5;28;01melse\u001b[39;00m:\n\u001b[1;32m    139\u001b[0m     \u001b[38;5;28;01mif\u001b[39;00m result \u001b[38;5;241m!=\u001b[39m \u001b[38;5;124m'\u001b[39m\u001b[38;5;124mDONE\u001b[39m\u001b[38;5;124m'\u001b[39m:\n",
      "File \u001b[0;32m~/develop/projects/chatweb3/chatweb3-backend/tests/../chat/basic_agent.py:79\u001b[0m, in \u001b[0;36mBasicAgentChat.receive_input.<locals>.bot_flush\u001b[0;34m(response)\u001b[0m\n\u001b[1;32m     72\u001b[0m \u001b[38;5;28;01mnonlocal\u001b[39;00m bot_chat_message_id\n\u001b[1;32m     73\u001b[0m send(Response(\n\u001b[1;32m     74\u001b[0m     response\u001b[38;5;241m=\u001b[39mresponse,\n\u001b[1;32m     75\u001b[0m     still_thinking\u001b[38;5;241m=\u001b[39m\u001b[38;5;28;01mFalse\u001b[39;00m,\n\u001b[1;32m     76\u001b[0m     actor\u001b[38;5;241m=\u001b[39m\u001b[38;5;124m'\u001b[39m\u001b[38;5;124mbot\u001b[39m\u001b[38;5;124m'\u001b[39m,\n\u001b[1;32m     77\u001b[0m     operation\u001b[38;5;241m=\u001b[39m\u001b[38;5;124m'\u001b[39m\u001b[38;5;124mreplace\u001b[39m\u001b[38;5;124m'\u001b[39m,\n\u001b[1;32m     78\u001b[0m ), last_chat_message_id\u001b[38;5;241m=\u001b[39mbot_chat_message_id)\n\u001b[0;32m---> 79\u001b[0m \u001b[43mhistory\u001b[49m\u001b[38;5;241;43m.\u001b[39;49m\u001b[43madd_interaction\u001b[49m(userinput, response)\n",
      "\u001b[0;31mAttributeError\u001b[0m: 'list' object has no attribute 'add_interaction'"
     ]
    }
   ],
   "source": [
    "system.chat.receive_input([], \"what is the price of bitcoin\", send_message)"
   ]
  },
  {
   "cell_type": "code",
   "execution_count": null,
   "id": "630e2475-3d97-4f82-8ed0-4f7ac8d8b438",
   "metadata": {},
   "outputs": [],
   "source": []
  }
 ],
 "metadata": {
  "kernelspec": {
   "display_name": "Python 3 (ipykernel)",
   "language": "python",
   "name": "python3"
  },
  "language_info": {
   "codemirror_mode": {
    "name": "ipython",
    "version": 3
   },
   "file_extension": ".py",
   "mimetype": "text/x-python",
   "name": "python",
   "nbconvert_exporter": "python",
   "pygments_lexer": "ipython3",
   "version": "3.10.7"
  }
 },
 "nbformat": 4,
 "nbformat_minor": 5
}
