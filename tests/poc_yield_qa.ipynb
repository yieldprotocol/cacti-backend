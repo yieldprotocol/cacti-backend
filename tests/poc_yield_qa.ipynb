{
 "cells": [
  {
   "cell_type": "markdown",
   "metadata": {},
   "source": [
    "# Yield's Question Answering (QA) bot"
   ]
  },
  {
   "cell_type": "markdown",
   "metadata": {},
   "source": [
    "### High-level approach\n",
    "#### Pre-processing\n",
    "- Load files from the repo, chunk them based on langugage-specific separators to maintain enough context\n",
    "- Categorize each chunk as 'general' or 'technical' based on content type to allow semantic search to filter on query's underlying intent (general usage vs coding/technical)\n",
    "- Add chunks to vector DB\n",
    "\n",
    "\n",
    "#### Query time\n",
    "- Call LLM to categorize the query as 'general' or 'technical' based on intent\n",
    "- Run semantic search with category filter on vector db to get relevant chunks for LLM context\n",
    "- Call LLM to answer user query with context\n",
    "\n",
    "\n",
    "### Improvements\n",
    "#### Parameters to explore to improve quality\n",
    "- chunk size\n",
    "- top-k count\n",
    "- LLMs with larger context window (GPT-4 vs GPT-3.5 16k)\n",
    "- Alternative Code-optimized LLMs such as BigCode https://huggingface.co/bigcode\n",
    "\n",
    "#### Code suggestions\n",
    "Code suggesstions could be improved by indexing [COOKBOOK](https://github.com/yieldprotocol/addendum-docs/blob/main/COOKBOOK.md) as the V2 documentation does not have extensive code examples"
   ]
  },
  {
   "cell_type": "code",
   "execution_count": 1,
   "metadata": {},
   "outputs": [
    {
     "name": "stdout",
     "output_type": "stream",
     "text": [
      "Requirement already satisfied: langchain in /Users/sagarshah/.pyenv/versions/3.10.7/envs/poc-chatweb3-backend/lib/python3.10/site-packages (0.0.208)\n",
      "Requirement already satisfied: openai in /Users/sagarshah/.pyenv/versions/3.10.7/envs/poc-chatweb3-backend/lib/python3.10/site-packages (0.27.8)\n",
      "Requirement already satisfied: chromadb in /Users/sagarshah/.pyenv/versions/3.10.7/envs/poc-chatweb3-backend/lib/python3.10/site-packages (0.3.26)\n",
      "Requirement already satisfied: GitPython in /Users/sagarshah/.pyenv/versions/3.10.7/envs/poc-chatweb3-backend/lib/python3.10/site-packages (3.1.31)\n",
      "Requirement already satisfied: ipython in /Users/sagarshah/.pyenv/versions/3.10.7/envs/poc-chatweb3-backend/lib/python3.10/site-packages (8.14.0)\n",
      "Requirement already satisfied: tiktoken in /Users/sagarshah/.pyenv/versions/3.10.7/envs/poc-chatweb3-backend/lib/python3.10/site-packages (0.4.0)\n",
      "Requirement already satisfied: PyYAML>=5.4.1 in /Users/sagarshah/.pyenv/versions/3.10.7/envs/poc-chatweb3-backend/lib/python3.10/site-packages (from langchain) (6.0)\n",
      "Requirement already satisfied: SQLAlchemy<3,>=1.4 in /Users/sagarshah/.pyenv/versions/3.10.7/envs/poc-chatweb3-backend/lib/python3.10/site-packages (from langchain) (2.0.16)\n",
      "Requirement already satisfied: aiohttp<4.0.0,>=3.8.3 in /Users/sagarshah/.pyenv/versions/3.10.7/envs/poc-chatweb3-backend/lib/python3.10/site-packages (from langchain) (3.8.4)\n",
      "Requirement already satisfied: async-timeout<5.0.0,>=4.0.0 in /Users/sagarshah/.pyenv/versions/3.10.7/envs/poc-chatweb3-backend/lib/python3.10/site-packages (from langchain) (4.0.2)\n",
      "Requirement already satisfied: dataclasses-json<0.6.0,>=0.5.7 in /Users/sagarshah/.pyenv/versions/3.10.7/envs/poc-chatweb3-backend/lib/python3.10/site-packages (from langchain) (0.5.8)\n",
      "Requirement already satisfied: langchainplus-sdk>=0.0.13 in /Users/sagarshah/.pyenv/versions/3.10.7/envs/poc-chatweb3-backend/lib/python3.10/site-packages (from langchain) (0.0.16)\n",
      "Requirement already satisfied: numexpr<3.0.0,>=2.8.4 in /Users/sagarshah/.pyenv/versions/3.10.7/envs/poc-chatweb3-backend/lib/python3.10/site-packages (from langchain) (2.8.4)\n",
      "Requirement already satisfied: numpy<2,>=1 in /Users/sagarshah/.pyenv/versions/3.10.7/envs/poc-chatweb3-backend/lib/python3.10/site-packages (from langchain) (1.25.0)\n",
      "Requirement already satisfied: openapi-schema-pydantic<2.0,>=1.2 in /Users/sagarshah/.pyenv/versions/3.10.7/envs/poc-chatweb3-backend/lib/python3.10/site-packages (from langchain) (1.2.4)\n",
      "Requirement already satisfied: pydantic<2,>=1 in /Users/sagarshah/.pyenv/versions/3.10.7/envs/poc-chatweb3-backend/lib/python3.10/site-packages (from langchain) (1.10.9)\n",
      "Requirement already satisfied: requests<3,>=2 in /Users/sagarshah/.pyenv/versions/3.10.7/envs/poc-chatweb3-backend/lib/python3.10/site-packages (from langchain) (2.31.0)\n",
      "Requirement already satisfied: tenacity<9.0.0,>=8.1.0 in /Users/sagarshah/.pyenv/versions/3.10.7/envs/poc-chatweb3-backend/lib/python3.10/site-packages (from langchain) (8.2.2)\n",
      "Requirement already satisfied: tqdm in /Users/sagarshah/.pyenv/versions/3.10.7/envs/poc-chatweb3-backend/lib/python3.10/site-packages (from openai) (4.65.0)\n",
      "Requirement already satisfied: pandas>=1.3 in /Users/sagarshah/.pyenv/versions/3.10.7/envs/poc-chatweb3-backend/lib/python3.10/site-packages (from chromadb) (2.0.2)\n",
      "Requirement already satisfied: hnswlib>=0.7 in /Users/sagarshah/.pyenv/versions/3.10.7/envs/poc-chatweb3-backend/lib/python3.10/site-packages (from chromadb) (0.7.0)\n",
      "Requirement already satisfied: clickhouse-connect>=0.5.7 in /Users/sagarshah/.pyenv/versions/3.10.7/envs/poc-chatweb3-backend/lib/python3.10/site-packages (from chromadb) (0.6.3)\n",
      "Requirement already satisfied: duckdb>=0.7.1 in /Users/sagarshah/.pyenv/versions/3.10.7/envs/poc-chatweb3-backend/lib/python3.10/site-packages (from chromadb) (0.8.1)\n",
      "Requirement already satisfied: fastapi>=0.85.1 in /Users/sagarshah/.pyenv/versions/3.10.7/envs/poc-chatweb3-backend/lib/python3.10/site-packages (from chromadb) (0.97.0)\n",
      "Requirement already satisfied: uvicorn[standard]>=0.18.3 in /Users/sagarshah/.pyenv/versions/3.10.7/envs/poc-chatweb3-backend/lib/python3.10/site-packages (from chromadb) (0.22.0)\n",
      "Requirement already satisfied: posthog>=2.4.0 in /Users/sagarshah/.pyenv/versions/3.10.7/envs/poc-chatweb3-backend/lib/python3.10/site-packages (from chromadb) (3.0.1)\n",
      "Requirement already satisfied: typing-extensions>=4.5.0 in /Users/sagarshah/.pyenv/versions/3.10.7/envs/poc-chatweb3-backend/lib/python3.10/site-packages (from chromadb) (4.6.3)\n",
      "Requirement already satisfied: pulsar-client>=3.1.0 in /Users/sagarshah/.pyenv/versions/3.10.7/envs/poc-chatweb3-backend/lib/python3.10/site-packages (from chromadb) (3.2.0)\n",
      "Requirement already satisfied: onnxruntime>=1.14.1 in /Users/sagarshah/.pyenv/versions/3.10.7/envs/poc-chatweb3-backend/lib/python3.10/site-packages (from chromadb) (1.15.1)\n",
      "Requirement already satisfied: tokenizers>=0.13.2 in /Users/sagarshah/.pyenv/versions/3.10.7/envs/poc-chatweb3-backend/lib/python3.10/site-packages (from chromadb) (0.13.3)\n",
      "Requirement already satisfied: overrides>=7.3.1 in /Users/sagarshah/.pyenv/versions/3.10.7/envs/poc-chatweb3-backend/lib/python3.10/site-packages (from chromadb) (7.3.1)\n",
      "Requirement already satisfied: gitdb<5,>=4.0.1 in /Users/sagarshah/.pyenv/versions/3.10.7/envs/poc-chatweb3-backend/lib/python3.10/site-packages (from GitPython) (4.0.10)\n",
      "Requirement already satisfied: backcall in /Users/sagarshah/.pyenv/versions/3.10.7/envs/poc-chatweb3-backend/lib/python3.10/site-packages (from ipython) (0.2.0)\n",
      "Requirement already satisfied: decorator in /Users/sagarshah/.pyenv/versions/3.10.7/envs/poc-chatweb3-backend/lib/python3.10/site-packages (from ipython) (5.1.1)\n",
      "Requirement already satisfied: jedi>=0.16 in /Users/sagarshah/.pyenv/versions/3.10.7/envs/poc-chatweb3-backend/lib/python3.10/site-packages (from ipython) (0.18.2)\n",
      "Requirement already satisfied: matplotlib-inline in /Users/sagarshah/.pyenv/versions/3.10.7/envs/poc-chatweb3-backend/lib/python3.10/site-packages (from ipython) (0.1.6)\n",
      "Requirement already satisfied: pickleshare in /Users/sagarshah/.pyenv/versions/3.10.7/envs/poc-chatweb3-backend/lib/python3.10/site-packages (from ipython) (0.7.5)\n",
      "Requirement already satisfied: prompt-toolkit!=3.0.37,<3.1.0,>=3.0.30 in /Users/sagarshah/.pyenv/versions/3.10.7/envs/poc-chatweb3-backend/lib/python3.10/site-packages (from ipython) (3.0.38)\n",
      "Requirement already satisfied: pygments>=2.4.0 in /Users/sagarshah/.pyenv/versions/3.10.7/envs/poc-chatweb3-backend/lib/python3.10/site-packages (from ipython) (2.15.1)\n",
      "Requirement already satisfied: stack-data in /Users/sagarshah/.pyenv/versions/3.10.7/envs/poc-chatweb3-backend/lib/python3.10/site-packages (from ipython) (0.6.2)\n",
      "Requirement already satisfied: traitlets>=5 in /Users/sagarshah/.pyenv/versions/3.10.7/envs/poc-chatweb3-backend/lib/python3.10/site-packages (from ipython) (5.9.0)\n",
      "Requirement already satisfied: pexpect>4.3 in /Users/sagarshah/.pyenv/versions/3.10.7/envs/poc-chatweb3-backend/lib/python3.10/site-packages (from ipython) (4.8.0)\n",
      "Requirement already satisfied: appnope in /Users/sagarshah/.pyenv/versions/3.10.7/envs/poc-chatweb3-backend/lib/python3.10/site-packages (from ipython) (0.1.3)\n",
      "Requirement already satisfied: regex>=2022.1.18 in /Users/sagarshah/.pyenv/versions/3.10.7/envs/poc-chatweb3-backend/lib/python3.10/site-packages (from tiktoken) (2023.6.3)\n",
      "Requirement already satisfied: attrs>=17.3.0 in /Users/sagarshah/.pyenv/versions/3.10.7/envs/poc-chatweb3-backend/lib/python3.10/site-packages (from aiohttp<4.0.0,>=3.8.3->langchain) (23.1.0)\n",
      "Requirement already satisfied: charset-normalizer<4.0,>=2.0 in /Users/sagarshah/.pyenv/versions/3.10.7/envs/poc-chatweb3-backend/lib/python3.10/site-packages (from aiohttp<4.0.0,>=3.8.3->langchain) (3.1.0)\n",
      "Requirement already satisfied: multidict<7.0,>=4.5 in /Users/sagarshah/.pyenv/versions/3.10.7/envs/poc-chatweb3-backend/lib/python3.10/site-packages (from aiohttp<4.0.0,>=3.8.3->langchain) (6.0.4)\n",
      "Requirement already satisfied: yarl<2.0,>=1.0 in /Users/sagarshah/.pyenv/versions/3.10.7/envs/poc-chatweb3-backend/lib/python3.10/site-packages (from aiohttp<4.0.0,>=3.8.3->langchain) (1.9.2)\n",
      "Requirement already satisfied: frozenlist>=1.1.1 in /Users/sagarshah/.pyenv/versions/3.10.7/envs/poc-chatweb3-backend/lib/python3.10/site-packages (from aiohttp<4.0.0,>=3.8.3->langchain) (1.3.3)\n",
      "Requirement already satisfied: aiosignal>=1.1.2 in /Users/sagarshah/.pyenv/versions/3.10.7/envs/poc-chatweb3-backend/lib/python3.10/site-packages (from aiohttp<4.0.0,>=3.8.3->langchain) (1.3.1)\n"
     ]
    },
    {
     "name": "stdout",
     "output_type": "stream",
     "text": [
      "Requirement already satisfied: certifi in /Users/sagarshah/.pyenv/versions/3.10.7/envs/poc-chatweb3-backend/lib/python3.10/site-packages (from clickhouse-connect>=0.5.7->chromadb) (2023.5.7)\n",
      "Requirement already satisfied: urllib3>=1.26 in /Users/sagarshah/.pyenv/versions/3.10.7/envs/poc-chatweb3-backend/lib/python3.10/site-packages (from clickhouse-connect>=0.5.7->chromadb) (2.0.3)\n",
      "Requirement already satisfied: pytz in /Users/sagarshah/.pyenv/versions/3.10.7/envs/poc-chatweb3-backend/lib/python3.10/site-packages (from clickhouse-connect>=0.5.7->chromadb) (2023.3)\n",
      "Requirement already satisfied: zstandard in /Users/sagarshah/.pyenv/versions/3.10.7/envs/poc-chatweb3-backend/lib/python3.10/site-packages (from clickhouse-connect>=0.5.7->chromadb) (0.21.0)\n",
      "Requirement already satisfied: lz4 in /Users/sagarshah/.pyenv/versions/3.10.7/envs/poc-chatweb3-backend/lib/python3.10/site-packages (from clickhouse-connect>=0.5.7->chromadb) (4.3.2)\n",
      "Requirement already satisfied: marshmallow<4.0.0,>=3.3.0 in /Users/sagarshah/.pyenv/versions/3.10.7/envs/poc-chatweb3-backend/lib/python3.10/site-packages (from dataclasses-json<0.6.0,>=0.5.7->langchain) (3.19.0)\n",
      "Requirement already satisfied: marshmallow-enum<2.0.0,>=1.5.1 in /Users/sagarshah/.pyenv/versions/3.10.7/envs/poc-chatweb3-backend/lib/python3.10/site-packages (from dataclasses-json<0.6.0,>=0.5.7->langchain) (1.5.1)\n",
      "Requirement already satisfied: typing-inspect>=0.4.0 in /Users/sagarshah/.pyenv/versions/3.10.7/envs/poc-chatweb3-backend/lib/python3.10/site-packages (from dataclasses-json<0.6.0,>=0.5.7->langchain) (0.9.0)\n",
      "Requirement already satisfied: starlette<0.28.0,>=0.27.0 in /Users/sagarshah/.pyenv/versions/3.10.7/envs/poc-chatweb3-backend/lib/python3.10/site-packages (from fastapi>=0.85.1->chromadb) (0.27.0)\n",
      "Requirement already satisfied: smmap<6,>=3.0.1 in /Users/sagarshah/.pyenv/versions/3.10.7/envs/poc-chatweb3-backend/lib/python3.10/site-packages (from gitdb<5,>=4.0.1->GitPython) (5.0.0)\n",
      "Requirement already satisfied: parso<0.9.0,>=0.8.0 in /Users/sagarshah/.pyenv/versions/3.10.7/envs/poc-chatweb3-backend/lib/python3.10/site-packages (from jedi>=0.16->ipython) (0.8.3)\n",
      "Requirement already satisfied: coloredlogs in /Users/sagarshah/.pyenv/versions/3.10.7/envs/poc-chatweb3-backend/lib/python3.10/site-packages (from onnxruntime>=1.14.1->chromadb) (15.0.1)\n",
      "Requirement already satisfied: flatbuffers in /Users/sagarshah/.pyenv/versions/3.10.7/envs/poc-chatweb3-backend/lib/python3.10/site-packages (from onnxruntime>=1.14.1->chromadb) (23.5.26)\n",
      "Requirement already satisfied: packaging in /Users/sagarshah/.pyenv/versions/3.10.7/envs/poc-chatweb3-backend/lib/python3.10/site-packages (from onnxruntime>=1.14.1->chromadb) (23.1)\n",
      "Requirement already satisfied: protobuf in /Users/sagarshah/.pyenv/versions/3.10.7/envs/poc-chatweb3-backend/lib/python3.10/site-packages (from onnxruntime>=1.14.1->chromadb) (4.23.3)\n",
      "Requirement already satisfied: sympy in /Users/sagarshah/.pyenv/versions/3.10.7/envs/poc-chatweb3-backend/lib/python3.10/site-packages (from onnxruntime>=1.14.1->chromadb) (1.12)\n",
      "Requirement already satisfied: python-dateutil>=2.8.2 in /Users/sagarshah/.pyenv/versions/3.10.7/envs/poc-chatweb3-backend/lib/python3.10/site-packages (from pandas>=1.3->chromadb) (2.8.2)\n",
      "Requirement already satisfied: tzdata>=2022.1 in /Users/sagarshah/.pyenv/versions/3.10.7/envs/poc-chatweb3-backend/lib/python3.10/site-packages (from pandas>=1.3->chromadb) (2023.3)\n",
      "Requirement already satisfied: ptyprocess>=0.5 in /Users/sagarshah/.pyenv/versions/3.10.7/envs/poc-chatweb3-backend/lib/python3.10/site-packages (from pexpect>4.3->ipython) (0.7.0)\n",
      "Requirement already satisfied: six>=1.5 in /Users/sagarshah/.pyenv/versions/3.10.7/envs/poc-chatweb3-backend/lib/python3.10/site-packages (from posthog>=2.4.0->chromadb) (1.16.0)\n",
      "Requirement already satisfied: monotonic>=1.5 in /Users/sagarshah/.pyenv/versions/3.10.7/envs/poc-chatweb3-backend/lib/python3.10/site-packages (from posthog>=2.4.0->chromadb) (1.6)\n",
      "Requirement already satisfied: backoff>=1.10.0 in /Users/sagarshah/.pyenv/versions/3.10.7/envs/poc-chatweb3-backend/lib/python3.10/site-packages (from posthog>=2.4.0->chromadb) (2.2.1)\n",
      "Requirement already satisfied: wcwidth in /Users/sagarshah/.pyenv/versions/3.10.7/envs/poc-chatweb3-backend/lib/python3.10/site-packages (from prompt-toolkit!=3.0.37,<3.1.0,>=3.0.30->ipython) (0.2.6)\n",
      "Requirement already satisfied: idna<4,>=2.5 in /Users/sagarshah/.pyenv/versions/3.10.7/envs/poc-chatweb3-backend/lib/python3.10/site-packages (from requests<3,>=2->langchain) (3.4)\n",
      "Requirement already satisfied: greenlet!=0.4.17 in /Users/sagarshah/.pyenv/versions/3.10.7/envs/poc-chatweb3-backend/lib/python3.10/site-packages (from SQLAlchemy<3,>=1.4->langchain) (2.0.2)\n",
      "Requirement already satisfied: click>=7.0 in /Users/sagarshah/.pyenv/versions/3.10.7/envs/poc-chatweb3-backend/lib/python3.10/site-packages (from uvicorn[standard]>=0.18.3->chromadb) (8.1.3)\n",
      "Requirement already satisfied: h11>=0.8 in /Users/sagarshah/.pyenv/versions/3.10.7/envs/poc-chatweb3-backend/lib/python3.10/site-packages (from uvicorn[standard]>=0.18.3->chromadb) (0.14.0)\n",
      "Requirement already satisfied: httptools>=0.5.0 in /Users/sagarshah/.pyenv/versions/3.10.7/envs/poc-chatweb3-backend/lib/python3.10/site-packages (from uvicorn[standard]>=0.18.3->chromadb) (0.5.0)\n",
      "Requirement already satisfied: python-dotenv>=0.13 in /Users/sagarshah/.pyenv/versions/3.10.7/envs/poc-chatweb3-backend/lib/python3.10/site-packages (from uvicorn[standard]>=0.18.3->chromadb) (1.0.0)\n",
      "Requirement already satisfied: uvloop!=0.15.0,!=0.15.1,>=0.14.0 in /Users/sagarshah/.pyenv/versions/3.10.7/envs/poc-chatweb3-backend/lib/python3.10/site-packages (from uvicorn[standard]>=0.18.3->chromadb) (0.17.0)\n",
      "Requirement already satisfied: watchfiles>=0.13 in /Users/sagarshah/.pyenv/versions/3.10.7/envs/poc-chatweb3-backend/lib/python3.10/site-packages (from uvicorn[standard]>=0.18.3->chromadb) (0.19.0)\n",
      "Requirement already satisfied: websockets>=10.4 in /Users/sagarshah/.pyenv/versions/3.10.7/envs/poc-chatweb3-backend/lib/python3.10/site-packages (from uvicorn[standard]>=0.18.3->chromadb) (11.0.3)\n",
      "Requirement already satisfied: executing>=1.2.0 in /Users/sagarshah/.pyenv/versions/3.10.7/envs/poc-chatweb3-backend/lib/python3.10/site-packages (from stack-data->ipython) (1.2.0)\n",
      "Requirement already satisfied: asttokens>=2.1.0 in /Users/sagarshah/.pyenv/versions/3.10.7/envs/poc-chatweb3-backend/lib/python3.10/site-packages (from stack-data->ipython) (2.2.1)\n",
      "Requirement already satisfied: pure-eval in /Users/sagarshah/.pyenv/versions/3.10.7/envs/poc-chatweb3-backend/lib/python3.10/site-packages (from stack-data->ipython) (0.2.2)\n",
      "Requirement already satisfied: anyio<5,>=3.4.0 in /Users/sagarshah/.pyenv/versions/3.10.7/envs/poc-chatweb3-backend/lib/python3.10/site-packages (from starlette<0.28.0,>=0.27.0->fastapi>=0.85.1->chromadb) (3.7.0)\n",
      "Requirement already satisfied: mypy-extensions>=0.3.0 in /Users/sagarshah/.pyenv/versions/3.10.7/envs/poc-chatweb3-backend/lib/python3.10/site-packages (from typing-inspect>=0.4.0->dataclasses-json<0.6.0,>=0.5.7->langchain) (1.0.0)\n",
      "Requirement already satisfied: humanfriendly>=9.1 in /Users/sagarshah/.pyenv/versions/3.10.7/envs/poc-chatweb3-backend/lib/python3.10/site-packages (from coloredlogs->onnxruntime>=1.14.1->chromadb) (10.0)\n",
      "Requirement already satisfied: mpmath>=0.19 in /Users/sagarshah/.pyenv/versions/3.10.7/envs/poc-chatweb3-backend/lib/python3.10/site-packages (from sympy->onnxruntime>=1.14.1->chromadb) (1.3.0)\n",
      "Requirement already satisfied: sniffio>=1.1 in /Users/sagarshah/.pyenv/versions/3.10.7/envs/poc-chatweb3-backend/lib/python3.10/site-packages (from anyio<5,>=3.4.0->starlette<0.28.0,>=0.27.0->fastapi>=0.85.1->chromadb) (1.3.0)\n",
      "Requirement already satisfied: exceptiongroup in /Users/sagarshah/.pyenv/versions/3.10.7/envs/poc-chatweb3-backend/lib/python3.10/site-packages (from anyio<5,>=3.4.0->starlette<0.28.0,>=0.27.0->fastapi>=0.85.1->chromadb) (1.1.1)\n"
     ]
    }
   ],
   "source": [
    "# Install dependencies\n",
    "!pip install langchain openai chromadb GitPython ipython tiktoken"
   ]
  },
  {
   "cell_type": "code",
   "execution_count": 2,
   "metadata": {},
   "outputs": [],
   "source": [
    "import os\n",
    "from langchain.document_loaders import GitLoader\n",
    "from langchain.text_splitter import RecursiveCharacterTextSplitter, Language\n",
    "from langchain.text_splitter import MarkdownHeaderTextSplitter\n",
    "from langchain.vectorstores import Chroma\n",
    "from langchain.llms import OpenAI\n",
    "from langchain.embeddings import OpenAIEmbeddings\n",
    "from langchain.chains import RetrievalQAWithSourcesChain, RetrievalQA\n",
    "from IPython.display import display\n",
    "from IPython.display import Markdown\n",
    "from getpass import getpass\n",
    "from pathlib import Path\n",
    "from langchain.callbacks import StdOutCallbackHandler\n",
    "from langchain.prompts import PromptTemplate\n",
    "from langchain.callbacks import get_openai_callback\n",
    "from langchain import LLMChain\n",
    "from langchain.chat_models import ChatOpenAI\n",
    "\n",
    "stdout_handler = StdOutCallbackHandler() "
   ]
  },
  {
   "cell_type": "code",
   "execution_count": 3,
   "metadata": {},
   "outputs": [
    {
     "name": "stdout",
     "output_type": "stream",
     "text": [
      "········\n"
     ]
    }
   ],
   "source": [
    "OPENAI_API_KEY = getpass()"
   ]
  },
  {
   "cell_type": "code",
   "execution_count": 4,
   "metadata": {},
   "outputs": [],
   "source": [
    "os.environ['OPENAI_API_KEY'] = OPENAI_API_KEY"
   ]
  },
  {
   "cell_type": "markdown",
   "metadata": {},
   "source": [
    "## Common Functions"
   ]
  },
  {
   "cell_type": "markdown",
   "metadata": {},
   "source": [
    "### Load contents from repo"
   ]
  },
  {
   "cell_type": "code",
   "execution_count": 5,
   "metadata": {},
   "outputs": [],
   "source": [
    "def load_repo(remote_repo_url, local_repo_path, branch, file_filter=None):\n",
    "    local_repo_exists = Path(local_repo_path).is_dir()\n",
    "\n",
    "    if local_repo_exists:\n",
    "        loader = GitLoader(\n",
    "            repo_path=local_repo_path,\n",
    "            branch=branch,\n",
    "            file_filter=file_filter\n",
    "        ) \n",
    "    else:\n",
    "        loader = GitLoader(\n",
    "            clone_url=remote_repo_url,\n",
    "            repo_path=local_repo_path,\n",
    "            branch=branch,\n",
    "            file_filter=file_filter\n",
    "        )\n",
    "    return loader.load()"
   ]
  },
  {
   "cell_type": "markdown",
   "metadata": {},
   "source": [
    "### Split document into chunks based on  Programming Language separators/syntax\n",
    "* Split on programming language separators/syntax\n",
    "* Categorize each chunk as 'general' or 'technical' based on content type"
   ]
  },
  {
   "cell_type": "code",
   "execution_count": 6,
   "metadata": {},
   "outputs": [],
   "source": [
    "def split_docs(docs, language, chunk_size, chunk_overlap):\n",
    "    text_splitter = RecursiveCharacterTextSplitter.from_language(language=language, chunk_size=chunk_size, chunk_overlap=chunk_overlap)\n",
    "\n",
    "    all_splits=[]\n",
    "    all_metadatas=[]\n",
    "    for d in docs:\n",
    "        doc_file=d.page_content   \n",
    "        metadata = d.metadata\n",
    "        splits = text_splitter.split_text(doc_file)\n",
    "        \n",
    "        if 'cookbook' in metadata['file_path'].lower():\n",
    "            metadata['category'] = \"technical\"\n",
    "        else:\n",
    "            metadata['category'] = \"general\"\n",
    "        \n",
    "        metadatas = [metadata for _ in splits]\n",
    "        all_splits += splits\n",
    "        all_metadatas += metadatas\n",
    "        \n",
    "    return {\n",
    "        'all_splits': all_splits,\n",
    "        'all_metadatas': all_metadatas\n",
    "    }\n",
    "    "
   ]
  },
  {
   "cell_type": "markdown",
   "metadata": {},
   "source": [
    "## QA Workflow\n"
   ]
  },
  {
   "cell_type": "code",
   "execution_count": 7,
   "metadata": {},
   "outputs": [],
   "source": [
    "# documentation repo\n",
    "remote_repo_docsV2_url=\"https://github.com/yieldprotocol/docs-v2\"\n",
    "local_repo_docsV2_path=\"/tmp/yield_docs_v2_repo\"\n",
    "\n",
    "# cookbook repo\n",
    "remote_repo_addendum_url=\"https://github.com/yieldprotocol/addendum-docs\"\n",
    "local_repo_addendum_path=\"/tmp/yield_addendum-docs\"\n",
    "\n",
    "\n",
    "branch=\"main\"\n",
    "file_filter=lambda file_path: file_path.endswith(\".md\")"
   ]
  },
  {
   "cell_type": "code",
   "execution_count": 8,
   "metadata": {},
   "outputs": [],
   "source": [
    "chunk_size_chars = 2000\n",
    "chunk_overlap_chars = 0\n",
    "\n",
    "documentation_docs = load_repo(remote_repo_docsV2_url, local_repo_docsV2_path, branch, file_filter)\n",
    "addendum_docs = load_repo(remote_repo_addendum_url, local_repo_addendum_path, branch, file_filter)"
   ]
  },
  {
   "cell_type": "code",
   "execution_count": 9,
   "metadata": {},
   "outputs": [],
   "source": [
    "documentation_splits = split_docs(documentation_docs, Language.MARKDOWN, chunk_size_chars, chunk_overlap_chars)\n",
    "addendum_splits = split_docs(addendum_docs, Language.MARKDOWN, chunk_size_chars, chunk_overlap_chars)"
   ]
  },
  {
   "cell_type": "code",
   "execution_count": 10,
   "metadata": {},
   "outputs": [],
   "source": [
    "vector_db = Chroma(embedding_function=OpenAIEmbeddings())\n",
    "documentation_splits_ids = vector_db.add_texts(documentation_splits['all_splits'], documentation_splits['all_metadatas'])\n",
    "addendum_splits_ids = vector_db.add_texts(addendum_splits['all_splits'], addendum_splits['all_metadatas'])"
   ]
  },
  {
   "cell_type": "code",
   "execution_count": 11,
   "metadata": {},
   "outputs": [],
   "source": [
    "categorization_prompt_template = \"\"\"\n",
    "You are a Web3 expert who is able to answer any user query on Yield protocol's documentation, code, whitepapers and many other such topics.\n",
    "\n",
    "# INSTRUCTIONS\n",
    "- Classify the user's query into one of these categories - 'general' or 'technical' or 'na'\n",
    "- Use the examples below as reference, do not make up any categories.\n",
    "- Always return the category in plain text format.\n",
    "- If you are unable to process the query, just return 'na'\n",
    "\n",
    "QUERY: How do I borrow\n",
    "ANSWER: general\n",
    "\n",
    "QUERY: How do I borrow using code\n",
    "ANSWER: technical\n",
    "\n",
    "QUERY: How do I integrate\n",
    "ANSWER: technical\n",
    "\n",
    "QUERY: How is lending rate calculated\n",
    "ANSWER: general\n",
    "\n",
    "QUERY: {query}\n",
    "ANSWER:\"\"\"\n",
    "\n",
    "QUERY_CATEGORIZATION_PROMPT = PromptTemplate(\n",
    "    template=categorization_prompt_template, input_variables=[\"query\"]\n",
    ")"
   ]
  },
  {
   "cell_type": "code",
   "execution_count": 12,
   "metadata": {},
   "outputs": [],
   "source": [
    "final_answer_prompt_template = \"\"\"\n",
    "You are a Web3 expert who is able to answer any user query on Yield protocol's documentation, code, whitepapers and many other such topics.\n",
    "\n",
    "# INSTRUCTIONS\n",
    "- The user's query will be wrapped in triple back ticks\n",
    "- Only answer the query using the provided context below which may include general information and code, do not make up any information.\n",
    "- If the query is related to code or integration, provide a step by step explanation on the process, use code suggestions whereever relevant and always use markdown format annotated with the language to show the code.\n",
    "- For code suggestions, use comments to explain each important concept, class, variable, function and parameter.\n",
    "- Yield Protocol has no JS SDK so always use ethers package for JS code suggestions.\n",
    "\n",
    "# CONTEXT\n",
    "{context}\n",
    "\n",
    "# QUERY\n",
    "```\n",
    "{question}\n",
    "```\n",
    "\"\"\"\n",
    "FINAL_ANSWER_PROMPT = PromptTemplate(\n",
    "    template=final_answer_prompt_template, input_variables=[\"context\", \"question\"]\n",
    ")"
   ]
  },
  {
   "cell_type": "code",
   "execution_count": 13,
   "metadata": {},
   "outputs": [],
   "source": [
    "def ask(query):\n",
    "    display(Markdown(f\"### Query\\n{query}\"))\n",
    "    \n",
    "    # 1. Call LLM to categorize query based on intent\n",
    "    categorization_llm_chain = LLMChain(\n",
    "        llm=ChatOpenAI(temperature=0, model=\"gpt-3.5-turbo\"),\n",
    "        prompt=QUERY_CATEGORIZATION_PROMPT\n",
    "    )\n",
    "\n",
    "    with get_openai_callback() as cb:\n",
    "        result = categorization_llm_chain.run(query=query)\n",
    "        category = result.replace(\"'\", \"\")\n",
    "        display(Markdown(f\"### Query Category\\n**{category}**\"))\n",
    "        print(cb)\n",
    "\n",
    "    # 2. Call LLM to answer user's query\n",
    "    chain_type_kwargs = {\"prompt\": FINAL_ANSWER_PROMPT}\n",
    "    qa_chain = RetrievalQA.from_chain_type(\n",
    "        llm=ChatOpenAI(temperature=0, model=\"gpt-4\"), \n",
    "        chain_type=\"stuff\", \n",
    "        retriever=vector_db.as_retriever(search_kwargs = {\n",
    "            'k': 5,\n",
    "            'filter': {'category': category}\n",
    "\n",
    "        }), \n",
    "        chain_type_kwargs=chain_type_kwargs,\n",
    "        return_source_documents=True\n",
    "    )\n",
    "\n",
    "    with get_openai_callback() as cb:\n",
    "        answer = qa_chain({'query': query})\n",
    "        display(Markdown(\"### Final Answer\"))\n",
    "        display(Markdown(answer['result']))\n",
    "        print(cb)\n",
    "        display(Markdown(\"### Sources\"))\n",
    "        for i, d in enumerate(answer['source_documents']):\n",
    "            display(Markdown(f\"**[Source {i+1}]**\"))\n",
    "            display(Markdown(d.page_content))\n",
    "            display(Markdown(f\"*File path: {d.metadata['file_path']}*\"))\n"
   ]
  },
  {
   "cell_type": "code",
   "execution_count": 14,
   "metadata": {},
   "outputs": [
    {
     "data": {
      "text/markdown": [
       "### Query\n",
       "how do i borrow using code"
      ],
      "text/plain": [
       "<IPython.core.display.Markdown object>"
      ]
     },
     "metadata": {},
     "output_type": "display_data"
    },
    {
     "data": {
      "text/markdown": [
       "### Query Category\n",
       "**technical**"
      ],
      "text/plain": [
       "<IPython.core.display.Markdown object>"
      ]
     },
     "metadata": {},
     "output_type": "display_data"
    },
    {
     "name": "stdout",
     "output_type": "stream",
     "text": [
      "Tokens Used: 171\n",
      "\tPrompt Tokens: 170\n",
      "\tCompletion Tokens: 1\n",
      "Successful Requests: 1\n",
      "Total Cost (USD): $0.000257\n"
     ]
    },
    {
     "data": {
      "text/markdown": [
       "### Final Answer"
      ],
      "text/plain": [
       "<IPython.core.display.Markdown object>"
      ]
     },
     "metadata": {},
     "output_type": "display_data"
    },
    {
     "data": {
      "text/markdown": [
       "To borrow using code, you can follow the example provided in the Yield Protocol documentation for borrowing underlying. Here's a step-by-step guide on how to do it:\n",
       "\n",
       "1. Import the necessary packages and set up your Ethereum provider and signer.\n",
       "\n",
       "```javascript\n",
       "const { ethers } = require(\"ethers\");\n",
       "\n",
       "// Set up your Ethereum provider and signer\n",
       "const provider = new ethers.providers.JsonRpcProvider(\"YOUR_RPC_URL\");\n",
       "const signer = new ethers.Wallet(\"YOUR_PRIVATE_KEY\", provider);\n",
       "```\n",
       "\n",
       "2. Set the contract addresses and ABI for the Ladle contract.\n",
       "\n",
       "```javascript\n",
       "const ladleAddress = \"LADLE_CONTRACT_ADDRESS\";\n",
       "const ladleABI = \"LADLE_CONTRACT_ABI\";\n",
       "```\n",
       "\n",
       "3. Create an instance of the Ladle contract.\n",
       "\n",
       "```javascript\n",
       "const ladle = new ethers.Contract(ladleAddress, ladleABI, signer);\n",
       "```\n",
       "\n",
       "4. Define the parameters for the borrow action.\n",
       "\n",
       "```javascript\n",
       "const vaultId = \"YOUR_VAULT_ID\";\n",
       "const receiver = \"RECEIVER_ADDRESS\";\n",
       "const borrowed = ethers.utils.parseUnits(\"BORROWED_AMOUNT\", \"TOKEN_DECIMALS\");\n",
       "const maximumDebt = ethers.utils.parseUnits(\"MAXIMUM_DEBT_AMOUNT\", \"TOKEN_DECIMALS\");\n",
       "```\n",
       "\n",
       "5. Execute the borrow action using the `ladle.batch()` function.\n",
       "\n",
       "```javascript\n",
       "async function borrow() {\n",
       "  const tx = await ladle.batch([\n",
       "    ladle.serveAction(vaultId, receiver, 0, borrowed, maximumDebt),\n",
       "  ]);\n",
       "  await tx.wait();\n",
       "}\n",
       "\n",
       "borrow().then(() => console.log(\"Borrowed successfully!\"));\n",
       "```\n",
       "\n",
       "Replace the placeholders with the appropriate values for your use case. This code snippet will execute the borrow action, borrowing the specified amount of fyToken from the vault and sending it to the receiver address. The maximum debt parameter ensures that the debt incurred in the vault is within the provided limits."
      ],
      "text/plain": [
       "<IPython.core.display.Markdown object>"
      ]
     },
     "metadata": {},
     "output_type": "display_data"
    },
    {
     "name": "stdout",
     "output_type": "stream",
     "text": [
      "Tokens Used: 2062\n",
      "\tPrompt Tokens: 1674\n",
      "\tCompletion Tokens: 388\n",
      "Successful Requests: 1\n",
      "Total Cost (USD): $0.0735\n"
     ]
    },
    {
     "data": {
      "text/markdown": [
       "### Sources"
      ],
      "text/plain": [
       "<IPython.core.display.Markdown object>"
      ]
     },
     "metadata": {},
     "output_type": "display_data"
    },
    {
     "data": {
      "text/markdown": [
       "**[Source 1]**"
      ],
      "text/plain": [
       "<IPython.core.display.Markdown object>"
      ]
     },
     "metadata": {},
     "output_type": "display_data"
    },
    {
     "data": {
      "text/markdown": [
       "### Provide liquidity by borrowing, using only underlying\n",
       "\n",
       "This batch relies on creating a vault where the underlying is used as collateral to borrow the fyToken of the same underlying.\n",
       "\n",
       "With this vault built, an amount of underlying is used to provide liquidity. That amount is split into the same proportions as the pool reserves, and the portion in the same proportion as the pool fyToken reserves put as collateral in a vault, to borrow fyToken into the pool.\n",
       "\n",
       "```\n",
       "  await ladle.batch([\n",
       "    ladle.buildAction(seriesId, baseId, 0),\n",
       "    ladle.forwardPermitAction(\n",
       "      base, ladle, totalBase, deadline, v, r, s\n",
       "    ),\n",
       "    ladle.transferAction(base, baseJoin, baseToFYToken),\n",
       "    ladle.transferAction(base, pool, baseToPool),\n",
       "    ladle.pourAction(0, pool, baseToFYToken, baseToFYToken),\n",
       "    ladle.routeAction(pool, ['mint', [receiver, receiver, minRatio, maxRatio]),\n",
       "  ])"
      ],
      "text/plain": [
       "<IPython.core.display.Markdown object>"
      ]
     },
     "metadata": {},
     "output_type": "display_data"
    },
    {
     "data": {
      "text/markdown": [
       "*File path: COOKBOOK.md*"
      ],
      "text/plain": [
       "<IPython.core.display.Markdown object>"
      ]
     },
     "metadata": {},
     "output_type": "display_data"
    },
    {
     "data": {
      "text/markdown": [
       "**[Source 2]**"
      ],
      "text/plain": [
       "<IPython.core.display.Markdown object>"
      ]
     },
     "metadata": {},
     "output_type": "display_data"
    },
    {
     "data": {
      "text/markdown": [
       "[Liquidity Providing](#liquidity-providing)\n",
       "  - [Provide liquidity by borrowing](#provide-liquidity-by-borrowing)\n",
       "  - [Provide liquidity by borrowing, using only underlying](#provide-liquidity-by-borrowing-using-only-underlying)\n",
       "  - [Provide liquidity by buying](#provide-liquidity-by-buying)\n",
       "  - [Remove liquidity and repay](#remove-liquidity-and-repay)\n",
       "  - [Remove liquidity, repay and sell](#remove-liquidity-repay-and-sell)\n",
       "  - [Remove liquidity and redeem](#remove-liquidity-and-redeem)\n",
       "  - [Remove liquidity and sell](#remove-liquidity-and-sell)\n",
       "  - [Roll liquidity before maturity](#roll-liquidity-before-maturity)\n",
       "\n",
       " [Strategies](#strategies)\n",
       "  - [Provide liquidity to strategy by borrowing](#provide-liquidity-to-strategy-by-borrowing)\n",
       "  - [Provide liquidity to strategy by buying](#provide-liquidity-to-strategy-by-buying)\n",
       "  - [Remove liquidity from strategy](#remove-liquidity-from-strategy)\n",
       "  - [Remove liquidity from deprecated strategy](#remove-liquidity-from-deprecated-strategy)\n",
       "\n",
       "[Ether](#ether)\n",
       "  - [Post Ether as collateral](#post-ether-as-collateral)\n",
       "  - [Withdraw Ether collateral](#withdraw-ether-collateral)\n",
       "  - [Redeem fyETH](#redeem-fyeth)\n",
       "  - [Provide Ether as liquidity (borrowing)](#provide-ether-as-liquidity-borrowing)\n",
       "  - [Provide Ether as liquidity (buying)](#provide-ether-as-liquidity-buying)\n",
       "  - [Remove liquidity from Ether pools](#remove-liquidity-from-ether-pools)\n",
       "\n",
       "[ERC1155](#erc1155)\n",
       "  - [Post ERC1155 collateral (Ladle Approval)](#post-erc1155-collateral-ladle-approval)\n",
       "  - [Withdraw ERC1155 collateral](#withdraw-erc1155-collateral)"
      ],
      "text/plain": [
       "<IPython.core.display.Markdown object>"
      ]
     },
     "metadata": {},
     "output_type": "display_data"
    },
    {
     "data": {
      "text/markdown": [
       "*File path: COOKBOOK.md*"
      ],
      "text/plain": [
       "<IPython.core.display.Markdown object>"
      ]
     },
     "metadata": {},
     "output_type": "display_data"
    },
    {
     "data": {
      "text/markdown": [
       "**[Source 3]**"
      ],
      "text/plain": [
       "<IPython.core.display.Markdown object>"
      ]
     },
     "metadata": {},
     "output_type": "display_data"
    },
    {
     "data": {
      "text/markdown": [
       "### Provide liquidity by borrowing\n",
       "\n",
       "When providing liquidity by borrowing, the user borrows an amount of fyToken to provide to the pool, along with underlying in the same proportion as the pool reserves.\n",
       "\n",
       "Prepend this batch with actions to create a vault or provide collateral if necessary.\n",
       "\n",
       "An option can be shown to the user where an amount of underlying is taken to provide liquidity. That amount is then split into the same proportions as the pool reserves, and the portion in the same proportion as the pool fyToken reserves put as collateral in a vault, to borrow fyToken into the pool.\n",
       "\n",
       "```\n",
       "  await ladle.batch([\n",
       "    ladle.forwardPermitAction(\n",
       "      base, ladle, baseToPool, deadline, v, r, s\n",
       "    ),\n",
       "    ladle.transferAction(base, pool, baseToPool),\n",
       "    ladle.pourAction(vaultId, pool, 0, fyTokenBorrowed),\n",
       "    ladle.routeAction(pool, ['mint', [receiver, receiver, minRatio, maxRatio]),\n",
       "  ])\n",
       "```\n",
       "|Param  | Description|\n",
       "|--------------|------------------------------------------------------------------------------------|\n",
       "| `  base  `   | Contract for the underlying tokens.      |\n",
       "| `  ladle  `   | Ladle for Yield v2.      |\n",
       "| ` pool  `   | Contract YieldSpace pool trading base and the fyToken for the series.      |\n",
       "| `  baseToPool  `   | Amount of underlying that the user will provide liquidity with.      |\n",
       "| `  vaultId  `   | Vault to add the debt to. Set to 0 if the vault was created as part of this same batch.      |\n",
       "| `  0  `   | Collateral change, zero in this case.      |\n",
       "| `  fyTokenBorrowed  `   | Amount of fyToken that the user will borrow and provide liquidity with.      |\n",
       "| ` receiver  `   | Receiver for the LP tokens.      |\n",
       "| `  true  `   | Make any rounding surplus to be fyToken, left in the pool.      |\n",
       "| `  minRatio  `   | Minimum base/fyToken ratio accepted in the pool reserves.      |\n",
       "| `  maxRatio  `   | Maximum base/fyToken ratio accepted in the pool reserves.      |"
      ],
      "text/plain": [
       "<IPython.core.display.Markdown object>"
      ]
     },
     "metadata": {},
     "output_type": "display_data"
    },
    {
     "data": {
      "text/markdown": [
       "*File path: COOKBOOK.md*"
      ],
      "text/plain": [
       "<IPython.core.display.Markdown object>"
      ]
     },
     "metadata": {},
     "output_type": "display_data"
    },
    {
     "data": {
      "text/markdown": [
       "**[Source 4]**"
      ],
      "text/plain": [
       "<IPython.core.display.Markdown object>"
      ]
     },
     "metadata": {},
     "output_type": "display_data"
    },
    {
     "data": {
      "text/markdown": [
       "### Borrow underlying\n",
       "\n",
       "This action borrows fyToken from an existing vault, which is then exchanged for underlying in a YieldSpace pool. The amount of underlying obtained is an exact number provided as a parameter, and the debt incurred in the vault is variable but within provided limits. It can be combined with previous actions that create vaults and post collateral, among others.\n",
       "\n",
       "```\n",
       "  await ladle.batch([\n",
       "    ladle.serveAction(vaultId, receiver, 0, borrowed, maximumDebt),\n",
       "  ])\n",
       "```\n",
       "\n",
       "|Param  | Description|\n",
       "|--------------|------------------------------------------------------------------------------------|\n",
       "| `  vaultId  `   | Vault to add the collateral to. Set to 0 if the vault was created as part of this same batch.      |\n",
       "| `  receiver  `   | Receiver of the collateral.      |\n",
       "| `  0  `   | Collateral change, zero in this case      |\n",
       "| `  borrowed  `   | Amount of debt to add to the vault, and fyTokens to send to the receiver.      |\n",
       "| `  ladle  `   | Maximum debt to accept for the vault in fyToken terms.      |"
      ],
      "text/plain": [
       "<IPython.core.display.Markdown object>"
      ]
     },
     "metadata": {},
     "output_type": "display_data"
    },
    {
     "data": {
      "text/markdown": [
       "*File path: COOKBOOK.md*"
      ],
      "text/plain": [
       "<IPython.core.display.Markdown object>"
      ]
     },
     "metadata": {},
     "output_type": "display_data"
    },
    {
     "data": {
      "text/markdown": [
       "**[Source 5]**"
      ],
      "text/plain": [
       "<IPython.core.display.Markdown object>"
      ]
     },
     "metadata": {},
     "output_type": "display_data"
    },
    {
     "data": {
      "text/markdown": [
       "```\n",
       "                                        __________________   __________________\n",
       "                                    .-/|                  \\ /                  |\\-.\n",
       "                                    ||||                   |                   ||||\n",
       "                                    ||||                   |                   ||||\n",
       "                                    ||||                   |                   ||||\n",
       "                                    ||||      Yield        |   \"Recipes        ||||\n",
       "                                    ||||                   |   made with love  ||||\n",
       "                                    ||||     COOKBOOK      |   just like mama  ||||\n",
       "                                    ||||                   |   used to make\"   ||||\n",
       "                                    ||||                   |                   ||||\n",
       "                                    ||||                   |                   ||||\n",
       "                                    ||||                   |                   ||||\n",
       "                                    ||||__________________ | __________________||||\n",
       "                                    ||/===================\\|/===================\\||\n",
       "                                    `--------------------~___~-------------------''\n",
       "```"
      ],
      "text/plain": [
       "<IPython.core.display.Markdown object>"
      ]
     },
     "metadata": {},
     "output_type": "display_data"
    },
    {
     "data": {
      "text/markdown": [
       "*File path: COOKBOOK.md*"
      ],
      "text/plain": [
       "<IPython.core.display.Markdown object>"
      ]
     },
     "metadata": {},
     "output_type": "display_data"
    }
   ],
   "source": [
    "ask(\"how do i borrow using code\")"
   ]
  },
  {
   "cell_type": "code",
   "execution_count": 16,
   "metadata": {},
   "outputs": [
    {
     "data": {
      "text/markdown": [
       "### Query\n",
       "How do i borrow"
      ],
      "text/plain": [
       "<IPython.core.display.Markdown object>"
      ]
     },
     "metadata": {},
     "output_type": "display_data"
    },
    {
     "data": {
      "text/markdown": [
       "### Query Category\n",
       "**general**"
      ],
      "text/plain": [
       "<IPython.core.display.Markdown object>"
      ]
     },
     "metadata": {},
     "output_type": "display_data"
    },
    {
     "name": "stdout",
     "output_type": "stream",
     "text": [
      "Tokens Used: 169\n",
      "\tPrompt Tokens: 168\n",
      "\tCompletion Tokens: 1\n",
      "Successful Requests: 1\n",
      "Total Cost (USD): $0.000254\n"
     ]
    },
    {
     "data": {
      "text/markdown": [
       "### Final Answer"
      ],
      "text/plain": [
       "<IPython.core.display.Markdown object>"
      ]
     },
     "metadata": {},
     "output_type": "display_data"
    },
    {
     "data": {
      "text/markdown": [
       "To borrow on Yield Protocol, follow these steps:\n",
       "\n",
       "1. Access the Yield v2 App at [https://app.yieldprotocol.com/#/borow](https://app.yieldprotocol.com/#/borow).\n",
       "2. Connect your Ethereum wallet (e.g., Metamask) and ensure you have some ETH to pay for transaction fees and the base asset you'd like to use as collateral.\n",
       "3. Choose an asset you want to borrow.\n",
       "4. Add collateral to your vault.\n",
       "5. Review and initiate the transaction.\n",
       "\n",
       "Once the transaction is confirmed, you'll have successfully borrowed the asset. Remember that all loans in Yield require overcollateralization, so maintain a sufficient amount of collateral in your vault at all times to avoid liquidation."
      ],
      "text/plain": [
       "<IPython.core.display.Markdown object>"
      ]
     },
     "metadata": {},
     "output_type": "display_data"
    },
    {
     "name": "stdout",
     "output_type": "stream",
     "text": [
      "Tokens Used: 1724\n",
      "\tPrompt Tokens: 1573\n",
      "\tCompletion Tokens: 151\n",
      "Successful Requests: 1\n",
      "Total Cost (USD): $0.056249999999999994\n"
     ]
    },
    {
     "data": {
      "text/markdown": [
       "### Sources"
      ],
      "text/plain": [
       "<IPython.core.display.Markdown object>"
      ]
     },
     "metadata": {},
     "output_type": "display_data"
    },
    {
     "data": {
      "text/markdown": [
       "**[Source 1]**"
      ],
      "text/plain": [
       "<IPython.core.display.Markdown object>"
      ]
     },
     "metadata": {},
     "output_type": "display_data"
    },
    {
     "data": {
      "text/markdown": [
       "# Borrowing\n",
       "\n",
       "You can begin borrowing by accessing the [Yield v2 App](https://app.yieldprotocol.com/#/borow). Read our [Quick Start Guide](https://medium.com/yield-protocol/yield-protocol-v2-quickstart-guide-e516a955a405) for instructions. \n",
       "\n",
       "Borrowing on the Yield Protocol is a simple three step process. You choose an asset you want to borrow, you add collateral, and you review and initiate the transaction. \n",
       "\n",
       "The fixed interest rate you receive when borrowing is determined by a built-in automated market, and the more you borrow, the higher your interest rate may be. All loans in Yield require overcollateralization with a greater value of collateral than debt. If you do not maintain a sufficient amount of collateral in your vault at all times, your vault may be liquidated.\n",
       "\n",
       "Yield permits you to borrow at a fixed rate for a fixed term, but you may repay early if you choose. Repaying early may result in you not receiving your original fixed rate, so give some consideration to how long you plan to have the loan when determining which maturity to borrow."
      ],
      "text/plain": [
       "<IPython.core.display.Markdown object>"
      ]
     },
     "metadata": {},
     "output_type": "display_data"
    },
    {
     "data": {
      "text/markdown": [
       "*File path: users/borrowing.md*"
      ],
      "text/plain": [
       "<IPython.core.display.Markdown object>"
      ]
     },
     "metadata": {},
     "output_type": "display_data"
    },
    {
     "data": {
      "text/markdown": [
       "**[Source 2]**"
      ],
      "text/plain": [
       "<IPython.core.display.Markdown object>"
      ]
     },
     "metadata": {},
     "output_type": "display_data"
    },
    {
     "data": {
      "text/markdown": [
       "## Borrowing Under the Hood\n",
       "\n",
       "To borrow, you deposit collateral in the protocol and draw new fyTokens against the collateral. You may proceed to sell the fyTokens for the underlying token, locking in your borrowing rate. Yield Protocol has a built-in automated market maker(AMM) called YieldSpace to enable efficient selling of fyTokens.\n",
       "\n",
       "At maturity, you must repay the debt to reclaim your collateral. Of course, you may also repay your debt earlier than the maturity by returning the fyTokens you have drawn. Interest rate changes may affect (positively or negatively) the amount of the borrowed asset you need to spend to obtain the needed fyTokens. Be careful when repaying earlier as you may incur higher interest rates than paying at maturity.\n",
       "\n",
       "After maturity, if you don't close your borrowing position, floating-rate interest will be charged to keep the position open.\n",
       "\n",
       "![](../assets/borrow_1.png)  |  ![](../assets/borrow_2.png)\n",
       ":-------------------------:|:-------------------------:\n",
       "![](../assets/borrow_3.png)  |  ![](../assets/borrow_4.png)"
      ],
      "text/plain": [
       "<IPython.core.display.Markdown object>"
      ]
     },
     "metadata": {},
     "output_type": "display_data"
    },
    {
     "data": {
      "text/markdown": [
       "*File path: users/borrowing.md*"
      ],
      "text/plain": [
       "<IPython.core.display.Markdown object>"
      ]
     },
     "metadata": {},
     "output_type": "display_data"
    },
    {
     "data": {
      "text/markdown": [
       "**[Source 3]**"
      ],
      "text/plain": [
       "<IPython.core.display.Markdown object>"
      ]
     },
     "metadata": {},
     "output_type": "display_data"
    },
    {
     "data": {
      "text/markdown": [
       "### When was Yield launched?\n",
       "\n",
       "Yield was incubated at [Paradigm](https://www.paradigm.xyz) and the first version went live on 19 Oct 2020.\n",
       "\n",
       "<!-- ### Where does the fixed yield come from?\n",
       "From borrowers. Determined by the market supply and demand. -->\n",
       "\n",
       "## Borrowing\n",
       "\n",
       "### How to borrow?\n",
       "\n",
       "Visit us at [app.yieldprotocol.com](https://app.yieldprotocol.com/) to get started. You will need an Ethereum wallet (like [Metamask](https://metamask.io)), some ETH to pay for transaction fees and the base asset you would like to use as collateral. Once you have these things, you can choose the series from the app according to your needs and start the borrowing process.\n",
       "\n",
       "### How much collateral is required for borrowing?\n",
       "\n",
       "The amount of collateral required depends on the collateral being provided and the underlying asset pair.\n",
       "\n",
       "### Do we earn interest on the deposited collateral?\n",
       "\n",
       "Yield does not currently pay interest on deposited collateral.\n",
       "\n",
       "### What is a Vault?\n",
       "\n",
       "A vault is a collateralized debt position. A user may have many vaults. Each vault permits the deposit of one type of collateral and permits borrowing a single asset for a fixed-term.\n",
       "\n",
       "### What is a Series?\n",
       "\n",
       "A series represents a single borrowable asset with a defined maturity date. Each series corresponds to a single ERC-20 fyToken.\n",
       "\n",
       "### Can anyone set up a new series?\n",
       "\n",
       "No. Series are created by Yield governance.\n",
       "\n",
       "### What happens if I don't close the loan at the time of maturity?\n",
       "\n",
       "Loans held open past maturity accrue fees at a floating-rate APR. You may pay back the loan at any time to retrieve your collateral. Accumulated interest on your loan counts towards your debt, so you should monitor your loans to ensure that they are properly collateralized at all times.\n",
       "\n",
       "### Borrowing and Lending rates look identical to me? How is that sustainable?\n",
       "\n",
       "For very small amounts the rates are very similar but as the trade grows in size the rates move away from each other."
      ],
      "text/plain": [
       "<IPython.core.display.Markdown object>"
      ]
     },
     "metadata": {},
     "output_type": "display_data"
    },
    {
     "data": {
      "text/markdown": [
       "*File path: faq.md*"
      ],
      "text/plain": [
       "<IPython.core.display.Markdown object>"
      ]
     },
     "metadata": {},
     "output_type": "display_data"
    },
    {
     "data": {
      "text/markdown": [
       "**[Source 4]**"
      ],
      "text/plain": [
       "<IPython.core.display.Markdown object>"
      ]
     },
     "metadata": {},
     "output_type": "display_data"
    },
    {
     "data": {
      "text/markdown": [
       "# Lending\n",
       "\n",
       "To lend, you first access the \"Lend\" tab in the [Yield v2 App](https://app.yieldprotocol.com/#/lend). Read our [Quick Start Guide](https://medium.com/yield-protocol/yield-protocol-v2-quickstart-guide-e516a955a405) for instructions. \n",
       "\n",
       "When you lend in Yield, you are buying future cash payments at a discount. These future cash payments are represented by tokens that we call “fyTokens”. A fyToken is a token that can be redeemed one-for-one for a base asset on some future date. FyTokens don’t pay interest themselves, rather the interest is determined by the difference between the face value of the token and the price you pay for it. \n",
       "\n",
       "The fixed interest rate you receive when lending is determined by a built-in automated market, and the more you lend, the lower your interest rate may be. \n",
       "\n",
       "\n",
       "## Lending Under the Hood\n",
       "\n",
       "To lend at a fixed rate, you simply buy fyTokens at a discount to their face value. The discount you receive is equivalent to locking in a fixed return that can be calculated based on the time until a fyToken can be redeemed. \n",
       "\n",
       "For example, if on September 31, 2021, you buy 100 fyDai that matures in December 2021 for 98.8 Dai you will earn an implied rate of interest of 5% APR.\n",
       "\n",
       "fyTokens can be held until the maturity date, upon which they may be redeemed for principal plus interest.\n",
       "\n",
       "You can also exit your lending position early by selling your fyToken for an underlying asset. Because fyTokens are traded freely, changes in interest rates may affect the amount of underlying assets you receive when redeeming early.\n",
       "\n",
       "To compensate lenders who do not redeem fyTokens right away, after maturity they begin earning interest in the form of an increasing redemption rate.\n",
       "\n",
       " <!-- TODO: need to expand more as how interest paid will be calculated after maturity. -->"
      ],
      "text/plain": [
       "<IPython.core.display.Markdown object>"
      ]
     },
     "metadata": {},
     "output_type": "display_data"
    },
    {
     "data": {
      "text/markdown": [
       "*File path: users/lending.md*"
      ],
      "text/plain": [
       "<IPython.core.display.Markdown object>"
      ]
     },
     "metadata": {},
     "output_type": "display_data"
    },
    {
     "data": {
      "text/markdown": [
       "**[Source 5]**"
      ],
      "text/plain": [
       "<IPython.core.display.Markdown object>"
      ]
     },
     "metadata": {},
     "output_type": "display_data"
    },
    {
     "data": {
      "text/markdown": [
       "### A note on collateral\n",
       "\n",
       "Borrowers must maintain a minimum amount of collateral in the system to secure the debt they owe. \n",
       "\n",
       "If a borrower fails to do so, they may be liquidated: their collateral will be seized and auctioned off to repay their debts. \n",
       "\n",
       "<!-- For ETH collateral, fyDAI uses the same collateralization ratio as MakerDAO, which is currently 150%. -->\n",
       "\n",
       "<!-- TODO: Need to expand upon what ratio will be used for different collateral and different assets -->\n",
       "\n",
       "[Edit this page](https://github.com/yieldprotocol/docs-v2/edit/main/users/borrowing.md)"
      ],
      "text/plain": [
       "<IPython.core.display.Markdown object>"
      ]
     },
     "metadata": {},
     "output_type": "display_data"
    },
    {
     "data": {
      "text/markdown": [
       "*File path: users/borrowing.md*"
      ],
      "text/plain": [
       "<IPython.core.display.Markdown object>"
      ]
     },
     "metadata": {},
     "output_type": "display_data"
    }
   ],
   "source": [
    "ask(\"How do i borrow\")"
   ]
  },
  {
   "cell_type": "code",
   "execution_count": null,
   "metadata": {},
   "outputs": [],
   "source": []
  }
 ],
 "metadata": {
  "kernelspec": {
   "display_name": "Python 3 (ipykernel)",
   "language": "python",
   "name": "python3"
  },
  "language_info": {
   "codemirror_mode": {
    "name": "ipython",
    "version": 3
   },
   "file_extension": ".py",
   "mimetype": "text/x-python",
   "name": "python",
   "nbconvert_exporter": "python",
   "pygments_lexer": "ipython3",
   "version": "3.10.7"
  }
 },
 "nbformat": 4,
 "nbformat_minor": 2
}
