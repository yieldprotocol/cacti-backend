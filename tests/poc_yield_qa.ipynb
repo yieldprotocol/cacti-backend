{
 "cells": [
  {
   "cell_type": "markdown",
   "metadata": {},
   "source": [
    "# Yield's Question Answering (QA) bot"
   ]
  },
  {
   "cell_type": "markdown",
   "metadata": {},
   "source": [
    "### High-level approach\n",
    "#### Pre-processing\n",
    "- Load files from the repo, chunk them based on langugage-specific separators to maintain enough context\n",
    "- Categorize each chunk as 'general' or 'technical' based on content type to allow semantic search to filter on query's underlying intent (general usage vs coding/technical)\n",
    "- Add chunks to vector DB\n",
    "\n",
    "\n",
    "#### Query time\n",
    "- Call LLM to categorize the query as 'general' or 'technical' based on intent\n",
    "- Run semantic search with category filter on vector db to get relevant chunks for LLM context\n",
    "- Call LLM to answer user query with context\n",
    "\n",
    "\n",
    "### Improvements\n",
    "#### Parameters to explore to improve quality\n",
    "- chunk size\n",
    "- top-k count\n",
    "- LLMs with larger context window (GPT-4 vs GPT-3.5 16k)\n",
    "- Alternative Code-optimized LLMs such as BigCode https://huggingface.co/bigcode\n",
    "\n",
    "#### Code suggestions\n",
    "Code suggesstions could be improved by indexing [COOKBOOK](https://github.com/yieldprotocol/addendum-docs/blob/main/COOKBOOK.md) as the V2 documentation does not have extensive code examples"
   ]
  },
  {
   "cell_type": "code",
   "execution_count": 1,
   "metadata": {},
   "outputs": [
    {
     "name": "stdout",
     "output_type": "stream",
     "text": [
      "Requirement already satisfied: langchain in /Users/sagarshah/.pyenv/versions/3.10.7/envs/poc-chatweb3-backend/lib/python3.10/site-packages (0.0.208)\n",
      "Requirement already satisfied: openai in /Users/sagarshah/.pyenv/versions/3.10.7/envs/poc-chatweb3-backend/lib/python3.10/site-packages (0.27.8)\n",
      "Requirement already satisfied: chromadb in /Users/sagarshah/.pyenv/versions/3.10.7/envs/poc-chatweb3-backend/lib/python3.10/site-packages (0.3.26)\n",
      "Requirement already satisfied: GitPython in /Users/sagarshah/.pyenv/versions/3.10.7/envs/poc-chatweb3-backend/lib/python3.10/site-packages (3.1.31)\n",
      "Requirement already satisfied: ipython in /Users/sagarshah/.pyenv/versions/3.10.7/envs/poc-chatweb3-backend/lib/python3.10/site-packages (8.14.0)\n",
      "Requirement already satisfied: tiktoken in /Users/sagarshah/.pyenv/versions/3.10.7/envs/poc-chatweb3-backend/lib/python3.10/site-packages (0.4.0)\n",
      "Requirement already satisfied: PyYAML>=5.4.1 in /Users/sagarshah/.pyenv/versions/3.10.7/envs/poc-chatweb3-backend/lib/python3.10/site-packages (from langchain) (6.0)\n",
      "Requirement already satisfied: SQLAlchemy<3,>=1.4 in /Users/sagarshah/.pyenv/versions/3.10.7/envs/poc-chatweb3-backend/lib/python3.10/site-packages (from langchain) (2.0.16)\n",
      "Requirement already satisfied: aiohttp<4.0.0,>=3.8.3 in /Users/sagarshah/.pyenv/versions/3.10.7/envs/poc-chatweb3-backend/lib/python3.10/site-packages (from langchain) (3.8.4)\n",
      "Requirement already satisfied: async-timeout<5.0.0,>=4.0.0 in /Users/sagarshah/.pyenv/versions/3.10.7/envs/poc-chatweb3-backend/lib/python3.10/site-packages (from langchain) (4.0.2)\n",
      "Requirement already satisfied: dataclasses-json<0.6.0,>=0.5.7 in /Users/sagarshah/.pyenv/versions/3.10.7/envs/poc-chatweb3-backend/lib/python3.10/site-packages (from langchain) (0.5.8)\n",
      "Requirement already satisfied: langchainplus-sdk>=0.0.13 in /Users/sagarshah/.pyenv/versions/3.10.7/envs/poc-chatweb3-backend/lib/python3.10/site-packages (from langchain) (0.0.16)\n",
      "Requirement already satisfied: numexpr<3.0.0,>=2.8.4 in /Users/sagarshah/.pyenv/versions/3.10.7/envs/poc-chatweb3-backend/lib/python3.10/site-packages (from langchain) (2.8.4)\n",
      "Requirement already satisfied: numpy<2,>=1 in /Users/sagarshah/.pyenv/versions/3.10.7/envs/poc-chatweb3-backend/lib/python3.10/site-packages (from langchain) (1.25.0)\n",
      "Requirement already satisfied: openapi-schema-pydantic<2.0,>=1.2 in /Users/sagarshah/.pyenv/versions/3.10.7/envs/poc-chatweb3-backend/lib/python3.10/site-packages (from langchain) (1.2.4)\n",
      "Requirement already satisfied: pydantic<2,>=1 in /Users/sagarshah/.pyenv/versions/3.10.7/envs/poc-chatweb3-backend/lib/python3.10/site-packages (from langchain) (1.10.9)\n",
      "Requirement already satisfied: requests<3,>=2 in /Users/sagarshah/.pyenv/versions/3.10.7/envs/poc-chatweb3-backend/lib/python3.10/site-packages (from langchain) (2.31.0)\n",
      "Requirement already satisfied: tenacity<9.0.0,>=8.1.0 in /Users/sagarshah/.pyenv/versions/3.10.7/envs/poc-chatweb3-backend/lib/python3.10/site-packages (from langchain) (8.2.2)\n",
      "Requirement already satisfied: tqdm in /Users/sagarshah/.pyenv/versions/3.10.7/envs/poc-chatweb3-backend/lib/python3.10/site-packages (from openai) (4.65.0)\n",
      "Requirement already satisfied: pandas>=1.3 in /Users/sagarshah/.pyenv/versions/3.10.7/envs/poc-chatweb3-backend/lib/python3.10/site-packages (from chromadb) (2.0.2)\n",
      "Requirement already satisfied: hnswlib>=0.7 in /Users/sagarshah/.pyenv/versions/3.10.7/envs/poc-chatweb3-backend/lib/python3.10/site-packages (from chromadb) (0.7.0)\n",
      "Requirement already satisfied: clickhouse-connect>=0.5.7 in /Users/sagarshah/.pyenv/versions/3.10.7/envs/poc-chatweb3-backend/lib/python3.10/site-packages (from chromadb) (0.6.3)\n",
      "Requirement already satisfied: duckdb>=0.7.1 in /Users/sagarshah/.pyenv/versions/3.10.7/envs/poc-chatweb3-backend/lib/python3.10/site-packages (from chromadb) (0.8.1)\n",
      "Requirement already satisfied: fastapi>=0.85.1 in /Users/sagarshah/.pyenv/versions/3.10.7/envs/poc-chatweb3-backend/lib/python3.10/site-packages (from chromadb) (0.97.0)\n",
      "Requirement already satisfied: uvicorn[standard]>=0.18.3 in /Users/sagarshah/.pyenv/versions/3.10.7/envs/poc-chatweb3-backend/lib/python3.10/site-packages (from chromadb) (0.22.0)\n",
      "Requirement already satisfied: posthog>=2.4.0 in /Users/sagarshah/.pyenv/versions/3.10.7/envs/poc-chatweb3-backend/lib/python3.10/site-packages (from chromadb) (3.0.1)\n",
      "Requirement already satisfied: typing-extensions>=4.5.0 in /Users/sagarshah/.pyenv/versions/3.10.7/envs/poc-chatweb3-backend/lib/python3.10/site-packages (from chromadb) (4.6.3)\n",
      "Requirement already satisfied: pulsar-client>=3.1.0 in /Users/sagarshah/.pyenv/versions/3.10.7/envs/poc-chatweb3-backend/lib/python3.10/site-packages (from chromadb) (3.2.0)\n",
      "Requirement already satisfied: onnxruntime>=1.14.1 in /Users/sagarshah/.pyenv/versions/3.10.7/envs/poc-chatweb3-backend/lib/python3.10/site-packages (from chromadb) (1.15.1)\n",
      "Requirement already satisfied: tokenizers>=0.13.2 in /Users/sagarshah/.pyenv/versions/3.10.7/envs/poc-chatweb3-backend/lib/python3.10/site-packages (from chromadb) (0.13.3)\n",
      "Requirement already satisfied: overrides>=7.3.1 in /Users/sagarshah/.pyenv/versions/3.10.7/envs/poc-chatweb3-backend/lib/python3.10/site-packages (from chromadb) (7.3.1)\n",
      "Requirement already satisfied: gitdb<5,>=4.0.1 in /Users/sagarshah/.pyenv/versions/3.10.7/envs/poc-chatweb3-backend/lib/python3.10/site-packages (from GitPython) (4.0.10)\n",
      "Requirement already satisfied: backcall in /Users/sagarshah/.pyenv/versions/3.10.7/envs/poc-chatweb3-backend/lib/python3.10/site-packages (from ipython) (0.2.0)\n",
      "Requirement already satisfied: decorator in /Users/sagarshah/.pyenv/versions/3.10.7/envs/poc-chatweb3-backend/lib/python3.10/site-packages (from ipython) (5.1.1)\n",
      "Requirement already satisfied: jedi>=0.16 in /Users/sagarshah/.pyenv/versions/3.10.7/envs/poc-chatweb3-backend/lib/python3.10/site-packages (from ipython) (0.18.2)\n",
      "Requirement already satisfied: matplotlib-inline in /Users/sagarshah/.pyenv/versions/3.10.7/envs/poc-chatweb3-backend/lib/python3.10/site-packages (from ipython) (0.1.6)\n",
      "Requirement already satisfied: pickleshare in /Users/sagarshah/.pyenv/versions/3.10.7/envs/poc-chatweb3-backend/lib/python3.10/site-packages (from ipython) (0.7.5)\n",
      "Requirement already satisfied: prompt-toolkit!=3.0.37,<3.1.0,>=3.0.30 in /Users/sagarshah/.pyenv/versions/3.10.7/envs/poc-chatweb3-backend/lib/python3.10/site-packages (from ipython) (3.0.38)\n",
      "Requirement already satisfied: pygments>=2.4.0 in /Users/sagarshah/.pyenv/versions/3.10.7/envs/poc-chatweb3-backend/lib/python3.10/site-packages (from ipython) (2.15.1)\n",
      "Requirement already satisfied: stack-data in /Users/sagarshah/.pyenv/versions/3.10.7/envs/poc-chatweb3-backend/lib/python3.10/site-packages (from ipython) (0.6.2)\n",
      "Requirement already satisfied: traitlets>=5 in /Users/sagarshah/.pyenv/versions/3.10.7/envs/poc-chatweb3-backend/lib/python3.10/site-packages (from ipython) (5.9.0)\n",
      "Requirement already satisfied: pexpect>4.3 in /Users/sagarshah/.pyenv/versions/3.10.7/envs/poc-chatweb3-backend/lib/python3.10/site-packages (from ipython) (4.8.0)\n",
      "Requirement already satisfied: appnope in /Users/sagarshah/.pyenv/versions/3.10.7/envs/poc-chatweb3-backend/lib/python3.10/site-packages (from ipython) (0.1.3)\n",
      "Requirement already satisfied: regex>=2022.1.18 in /Users/sagarshah/.pyenv/versions/3.10.7/envs/poc-chatweb3-backend/lib/python3.10/site-packages (from tiktoken) (2023.6.3)\n",
      "Requirement already satisfied: attrs>=17.3.0 in /Users/sagarshah/.pyenv/versions/3.10.7/envs/poc-chatweb3-backend/lib/python3.10/site-packages (from aiohttp<4.0.0,>=3.8.3->langchain) (23.1.0)\n",
      "Requirement already satisfied: charset-normalizer<4.0,>=2.0 in /Users/sagarshah/.pyenv/versions/3.10.7/envs/poc-chatweb3-backend/lib/python3.10/site-packages (from aiohttp<4.0.0,>=3.8.3->langchain) (3.1.0)\n",
      "Requirement already satisfied: multidict<7.0,>=4.5 in /Users/sagarshah/.pyenv/versions/3.10.7/envs/poc-chatweb3-backend/lib/python3.10/site-packages (from aiohttp<4.0.0,>=3.8.3->langchain) (6.0.4)\n",
      "Requirement already satisfied: yarl<2.0,>=1.0 in /Users/sagarshah/.pyenv/versions/3.10.7/envs/poc-chatweb3-backend/lib/python3.10/site-packages (from aiohttp<4.0.0,>=3.8.3->langchain) (1.9.2)\n",
      "Requirement already satisfied: frozenlist>=1.1.1 in /Users/sagarshah/.pyenv/versions/3.10.7/envs/poc-chatweb3-backend/lib/python3.10/site-packages (from aiohttp<4.0.0,>=3.8.3->langchain) (1.3.3)\n",
      "Requirement already satisfied: aiosignal>=1.1.2 in /Users/sagarshah/.pyenv/versions/3.10.7/envs/poc-chatweb3-backend/lib/python3.10/site-packages (from aiohttp<4.0.0,>=3.8.3->langchain) (1.3.1)\n"
     ]
    },
    {
     "name": "stdout",
     "output_type": "stream",
     "text": [
      "Requirement already satisfied: certifi in /Users/sagarshah/.pyenv/versions/3.10.7/envs/poc-chatweb3-backend/lib/python3.10/site-packages (from clickhouse-connect>=0.5.7->chromadb) (2023.5.7)\n",
      "Requirement already satisfied: urllib3>=1.26 in /Users/sagarshah/.pyenv/versions/3.10.7/envs/poc-chatweb3-backend/lib/python3.10/site-packages (from clickhouse-connect>=0.5.7->chromadb) (2.0.3)\n",
      "Requirement already satisfied: pytz in /Users/sagarshah/.pyenv/versions/3.10.7/envs/poc-chatweb3-backend/lib/python3.10/site-packages (from clickhouse-connect>=0.5.7->chromadb) (2023.3)\n",
      "Requirement already satisfied: zstandard in /Users/sagarshah/.pyenv/versions/3.10.7/envs/poc-chatweb3-backend/lib/python3.10/site-packages (from clickhouse-connect>=0.5.7->chromadb) (0.21.0)\n",
      "Requirement already satisfied: lz4 in /Users/sagarshah/.pyenv/versions/3.10.7/envs/poc-chatweb3-backend/lib/python3.10/site-packages (from clickhouse-connect>=0.5.7->chromadb) (4.3.2)\n",
      "Requirement already satisfied: marshmallow<4.0.0,>=3.3.0 in /Users/sagarshah/.pyenv/versions/3.10.7/envs/poc-chatweb3-backend/lib/python3.10/site-packages (from dataclasses-json<0.6.0,>=0.5.7->langchain) (3.19.0)\n",
      "Requirement already satisfied: marshmallow-enum<2.0.0,>=1.5.1 in /Users/sagarshah/.pyenv/versions/3.10.7/envs/poc-chatweb3-backend/lib/python3.10/site-packages (from dataclasses-json<0.6.0,>=0.5.7->langchain) (1.5.1)\n",
      "Requirement already satisfied: typing-inspect>=0.4.0 in /Users/sagarshah/.pyenv/versions/3.10.7/envs/poc-chatweb3-backend/lib/python3.10/site-packages (from dataclasses-json<0.6.0,>=0.5.7->langchain) (0.9.0)\n",
      "Requirement already satisfied: starlette<0.28.0,>=0.27.0 in /Users/sagarshah/.pyenv/versions/3.10.7/envs/poc-chatweb3-backend/lib/python3.10/site-packages (from fastapi>=0.85.1->chromadb) (0.27.0)\n",
      "Requirement already satisfied: smmap<6,>=3.0.1 in /Users/sagarshah/.pyenv/versions/3.10.7/envs/poc-chatweb3-backend/lib/python3.10/site-packages (from gitdb<5,>=4.0.1->GitPython) (5.0.0)\n",
      "Requirement already satisfied: parso<0.9.0,>=0.8.0 in /Users/sagarshah/.pyenv/versions/3.10.7/envs/poc-chatweb3-backend/lib/python3.10/site-packages (from jedi>=0.16->ipython) (0.8.3)\n",
      "Requirement already satisfied: coloredlogs in /Users/sagarshah/.pyenv/versions/3.10.7/envs/poc-chatweb3-backend/lib/python3.10/site-packages (from onnxruntime>=1.14.1->chromadb) (15.0.1)\n",
      "Requirement already satisfied: flatbuffers in /Users/sagarshah/.pyenv/versions/3.10.7/envs/poc-chatweb3-backend/lib/python3.10/site-packages (from onnxruntime>=1.14.1->chromadb) (23.5.26)\n",
      "Requirement already satisfied: packaging in /Users/sagarshah/.pyenv/versions/3.10.7/envs/poc-chatweb3-backend/lib/python3.10/site-packages (from onnxruntime>=1.14.1->chromadb) (23.1)\n",
      "Requirement already satisfied: protobuf in /Users/sagarshah/.pyenv/versions/3.10.7/envs/poc-chatweb3-backend/lib/python3.10/site-packages (from onnxruntime>=1.14.1->chromadb) (4.23.3)\n",
      "Requirement already satisfied: sympy in /Users/sagarshah/.pyenv/versions/3.10.7/envs/poc-chatweb3-backend/lib/python3.10/site-packages (from onnxruntime>=1.14.1->chromadb) (1.12)\n",
      "Requirement already satisfied: python-dateutil>=2.8.2 in /Users/sagarshah/.pyenv/versions/3.10.7/envs/poc-chatweb3-backend/lib/python3.10/site-packages (from pandas>=1.3->chromadb) (2.8.2)\n",
      "Requirement already satisfied: tzdata>=2022.1 in /Users/sagarshah/.pyenv/versions/3.10.7/envs/poc-chatweb3-backend/lib/python3.10/site-packages (from pandas>=1.3->chromadb) (2023.3)\n",
      "Requirement already satisfied: ptyprocess>=0.5 in /Users/sagarshah/.pyenv/versions/3.10.7/envs/poc-chatweb3-backend/lib/python3.10/site-packages (from pexpect>4.3->ipython) (0.7.0)\n",
      "Requirement already satisfied: six>=1.5 in /Users/sagarshah/.pyenv/versions/3.10.7/envs/poc-chatweb3-backend/lib/python3.10/site-packages (from posthog>=2.4.0->chromadb) (1.16.0)\n",
      "Requirement already satisfied: monotonic>=1.5 in /Users/sagarshah/.pyenv/versions/3.10.7/envs/poc-chatweb3-backend/lib/python3.10/site-packages (from posthog>=2.4.0->chromadb) (1.6)\n",
      "Requirement already satisfied: backoff>=1.10.0 in /Users/sagarshah/.pyenv/versions/3.10.7/envs/poc-chatweb3-backend/lib/python3.10/site-packages (from posthog>=2.4.0->chromadb) (2.2.1)\n",
      "Requirement already satisfied: wcwidth in /Users/sagarshah/.pyenv/versions/3.10.7/envs/poc-chatweb3-backend/lib/python3.10/site-packages (from prompt-toolkit!=3.0.37,<3.1.0,>=3.0.30->ipython) (0.2.6)\n",
      "Requirement already satisfied: idna<4,>=2.5 in /Users/sagarshah/.pyenv/versions/3.10.7/envs/poc-chatweb3-backend/lib/python3.10/site-packages (from requests<3,>=2->langchain) (3.4)\n",
      "Requirement already satisfied: greenlet!=0.4.17 in /Users/sagarshah/.pyenv/versions/3.10.7/envs/poc-chatweb3-backend/lib/python3.10/site-packages (from SQLAlchemy<3,>=1.4->langchain) (2.0.2)\n",
      "Requirement already satisfied: click>=7.0 in /Users/sagarshah/.pyenv/versions/3.10.7/envs/poc-chatweb3-backend/lib/python3.10/site-packages (from uvicorn[standard]>=0.18.3->chromadb) (8.1.3)\n",
      "Requirement already satisfied: h11>=0.8 in /Users/sagarshah/.pyenv/versions/3.10.7/envs/poc-chatweb3-backend/lib/python3.10/site-packages (from uvicorn[standard]>=0.18.3->chromadb) (0.14.0)\n",
      "Requirement already satisfied: httptools>=0.5.0 in /Users/sagarshah/.pyenv/versions/3.10.7/envs/poc-chatweb3-backend/lib/python3.10/site-packages (from uvicorn[standard]>=0.18.3->chromadb) (0.5.0)\n",
      "Requirement already satisfied: python-dotenv>=0.13 in /Users/sagarshah/.pyenv/versions/3.10.7/envs/poc-chatweb3-backend/lib/python3.10/site-packages (from uvicorn[standard]>=0.18.3->chromadb) (1.0.0)\n",
      "Requirement already satisfied: uvloop!=0.15.0,!=0.15.1,>=0.14.0 in /Users/sagarshah/.pyenv/versions/3.10.7/envs/poc-chatweb3-backend/lib/python3.10/site-packages (from uvicorn[standard]>=0.18.3->chromadb) (0.17.0)\n",
      "Requirement already satisfied: watchfiles>=0.13 in /Users/sagarshah/.pyenv/versions/3.10.7/envs/poc-chatweb3-backend/lib/python3.10/site-packages (from uvicorn[standard]>=0.18.3->chromadb) (0.19.0)\n",
      "Requirement already satisfied: websockets>=10.4 in /Users/sagarshah/.pyenv/versions/3.10.7/envs/poc-chatweb3-backend/lib/python3.10/site-packages (from uvicorn[standard]>=0.18.3->chromadb) (11.0.3)\n",
      "Requirement already satisfied: executing>=1.2.0 in /Users/sagarshah/.pyenv/versions/3.10.7/envs/poc-chatweb3-backend/lib/python3.10/site-packages (from stack-data->ipython) (1.2.0)\n",
      "Requirement already satisfied: asttokens>=2.1.0 in /Users/sagarshah/.pyenv/versions/3.10.7/envs/poc-chatweb3-backend/lib/python3.10/site-packages (from stack-data->ipython) (2.2.1)\n",
      "Requirement already satisfied: pure-eval in /Users/sagarshah/.pyenv/versions/3.10.7/envs/poc-chatweb3-backend/lib/python3.10/site-packages (from stack-data->ipython) (0.2.2)\n",
      "Requirement already satisfied: anyio<5,>=3.4.0 in /Users/sagarshah/.pyenv/versions/3.10.7/envs/poc-chatweb3-backend/lib/python3.10/site-packages (from starlette<0.28.0,>=0.27.0->fastapi>=0.85.1->chromadb) (3.7.0)\n",
      "Requirement already satisfied: mypy-extensions>=0.3.0 in /Users/sagarshah/.pyenv/versions/3.10.7/envs/poc-chatweb3-backend/lib/python3.10/site-packages (from typing-inspect>=0.4.0->dataclasses-json<0.6.0,>=0.5.7->langchain) (1.0.0)\n",
      "Requirement already satisfied: humanfriendly>=9.1 in /Users/sagarshah/.pyenv/versions/3.10.7/envs/poc-chatweb3-backend/lib/python3.10/site-packages (from coloredlogs->onnxruntime>=1.14.1->chromadb) (10.0)\n",
      "Requirement already satisfied: mpmath>=0.19 in /Users/sagarshah/.pyenv/versions/3.10.7/envs/poc-chatweb3-backend/lib/python3.10/site-packages (from sympy->onnxruntime>=1.14.1->chromadb) (1.3.0)\n",
      "Requirement already satisfied: sniffio>=1.1 in /Users/sagarshah/.pyenv/versions/3.10.7/envs/poc-chatweb3-backend/lib/python3.10/site-packages (from anyio<5,>=3.4.0->starlette<0.28.0,>=0.27.0->fastapi>=0.85.1->chromadb) (1.3.0)\n",
      "Requirement already satisfied: exceptiongroup in /Users/sagarshah/.pyenv/versions/3.10.7/envs/poc-chatweb3-backend/lib/python3.10/site-packages (from anyio<5,>=3.4.0->starlette<0.28.0,>=0.27.0->fastapi>=0.85.1->chromadb) (1.1.1)\n"
     ]
    }
   ],
   "source": [
    "# Install dependencies\n",
    "!pip install langchain openai chromadb GitPython ipython tiktoken"
   ]
  },
  {
   "cell_type": "code",
   "execution_count": 2,
   "metadata": {},
   "outputs": [],
   "source": [
    "import os\n",
    "from langchain.document_loaders import GitLoader\n",
    "from langchain.text_splitter import RecursiveCharacterTextSplitter, Language\n",
    "from langchain.text_splitter import MarkdownHeaderTextSplitter\n",
    "from langchain.vectorstores import Chroma\n",
    "from langchain.llms import OpenAI\n",
    "from langchain.embeddings import OpenAIEmbeddings\n",
    "from langchain.chains import RetrievalQAWithSourcesChain, RetrievalQA\n",
    "from IPython.display import display\n",
    "from IPython.display import Markdown\n",
    "from getpass import getpass\n",
    "from pathlib import Path\n",
    "from langchain.callbacks import StdOutCallbackHandler\n",
    "from langchain.prompts import PromptTemplate\n",
    "from langchain.callbacks import get_openai_callback\n",
    "from langchain import LLMChain\n",
    "from langchain.chat_models import ChatOpenAI\n",
    "\n",
    "stdout_handler = StdOutCallbackHandler() "
   ]
  },
  {
   "cell_type": "code",
   "execution_count": 3,
   "metadata": {},
   "outputs": [
    {
     "name": "stdout",
     "output_type": "stream",
     "text": [
      "········\n"
     ]
    }
   ],
   "source": [
    "OPENAI_API_KEY = getpass()"
   ]
  },
  {
   "cell_type": "code",
   "execution_count": 4,
   "metadata": {},
   "outputs": [],
   "source": [
    "os.environ['OPENAI_API_KEY'] = OPENAI_API_KEY"
   ]
  },
  {
   "cell_type": "markdown",
   "metadata": {},
   "source": [
    "## Common Functions"
   ]
  },
  {
   "cell_type": "markdown",
   "metadata": {},
   "source": [
    "### Load contents from repo"
   ]
  },
  {
   "cell_type": "code",
   "execution_count": 5,
   "metadata": {},
   "outputs": [],
   "source": [
    "def load_repo(remote_repo_url, local_repo_path, branch, file_filter=None):\n",
    "    local_repo_exists = Path(local_repo_path).is_dir()\n",
    "\n",
    "    if local_repo_exists:\n",
    "        loader = GitLoader(\n",
    "            repo_path=local_repo_path,\n",
    "            branch=branch,\n",
    "            file_filter=file_filter\n",
    "        ) \n",
    "    else:\n",
    "        loader = GitLoader(\n",
    "            clone_url=remote_repo_url,\n",
    "            repo_path=local_repo_path,\n",
    "            branch=branch,\n",
    "            file_filter=file_filter\n",
    "        )\n",
    "    return loader.load()"
   ]
  },
  {
   "cell_type": "markdown",
   "metadata": {},
   "source": [
    "### Split document into chunks based on  Programming Language separators/syntax\n",
    "* Split on programming language separators/syntax\n",
    "* Categorize each chunk as 'general' or 'technical' based on content type"
   ]
  },
  {
   "cell_type": "code",
   "execution_count": 6,
   "metadata": {},
   "outputs": [],
   "source": [
    "def split_docs(docs, language, chunk_size, chunk_overlap):\n",
    "    text_splitter = RecursiveCharacterTextSplitter.from_language(language=language, chunk_size=chunk_size, chunk_overlap=chunk_overlap)\n",
    "\n",
    "    all_splits=[]\n",
    "    all_metadatas=[]\n",
    "    for d in docs:\n",
    "        doc_file=d.page_content   \n",
    "        metadata = d.metadata\n",
    "        splits = text_splitter.split_text(doc_file)\n",
    "        \n",
    "        if 'developer' in metadata['file_path']:\n",
    "            metadata['category'] = \"technical\"\n",
    "        else:\n",
    "            metadata['category'] = \"general\"\n",
    "        \n",
    "        metadatas = [metadata for _ in splits]\n",
    "        all_splits += splits\n",
    "        all_metadatas += metadatas\n",
    "        \n",
    "    return {\n",
    "        'all_splits': all_splits,\n",
    "        'all_metadatas': all_metadatas\n",
    "    }\n",
    "    "
   ]
  },
  {
   "cell_type": "markdown",
   "metadata": {},
   "source": [
    "### Create Vector DB"
   ]
  },
  {
   "cell_type": "code",
   "execution_count": 7,
   "metadata": {},
   "outputs": [],
   "source": [
    "def create_vector_db(all_splits, all_metadatas):\n",
    "    return  Chroma.from_texts(texts=all_splits,metadatas=all_metadatas,embedding=OpenAIEmbeddings())"
   ]
  },
  {
   "cell_type": "markdown",
   "metadata": {},
   "source": [
    "## QA for Yield Docs V2"
   ]
  },
  {
   "cell_type": "code",
   "execution_count": 8,
   "metadata": {},
   "outputs": [],
   "source": [
    "remote_repo_url=\"https://github.com/yieldprotocol/docs-v2\"\n",
    "local_repo_path=\"/tmp/yield_docs_v2_repo\"\n",
    "branch=\"main\"\n",
    "file_filter=lambda file_path: file_path.endswith(\".md\")"
   ]
  },
  {
   "cell_type": "code",
   "execution_count": 10,
   "metadata": {},
   "outputs": [],
   "source": [
    "chunk_size_chars = 1000\n",
    "chunk_overlap_chars = 0\n",
    "\n",
    "docs_v2_list = load_repo(remote_repo_url, local_repo_path, branch, file_filter)\n",
    "splits = split_docs(docs_v2_list, Language.MARKDOWN, chunk_size_chars, chunk_overlap_chars)\n",
    "docsearch_chunks = create_vector_db(splits['all_splits'], splits['all_metadatas'])"
   ]
  },
  {
   "cell_type": "code",
   "execution_count": 11,
   "metadata": {},
   "outputs": [],
   "source": [
    "categorization_prompt_template = \"\"\"\n",
    "You are a Web3 expert who is able to answer any user query on Yield protocol's documentation, code, whitepapers and many other such topics.\n",
    "\n",
    "# INSTRUCTIONS\n",
    "- Classify the user's query into one of these categories - 'general' or 'technical' or 'na'\n",
    "- Use the examples below as reference, do not make up any categories.\n",
    "- Always return the category in plain text format.\n",
    "- If you are unable to process the query, just return 'na'\n",
    "\n",
    "QUERY: How do I borrow\n",
    "ANSWER: general\n",
    "\n",
    "QUERY: How do I borrow using code\n",
    "ANSWER: technical\n",
    "\n",
    "QUERY: How do I integrate\n",
    "ANSWER: technical\n",
    "\n",
    "QUERY: How is lending rate calculated\n",
    "ANSWER: general\n",
    "\n",
    "QUERY: {query}\n",
    "ANSWER:\"\"\"\n",
    "\n",
    "QUERY_CATEGORIZATION_PROMPT = PromptTemplate(\n",
    "    template=categorization_prompt_template, input_variables=[\"query\"]\n",
    ")"
   ]
  },
  {
   "cell_type": "code",
   "execution_count": 12,
   "metadata": {},
   "outputs": [],
   "source": [
    "final_answer_prompt_template = \"\"\"\n",
    "You are a Web3 expert who is able to answer any user query on Yield protocol's documentation, code, whitepapers and many other such topics.\n",
    "\n",
    "# INSTRUCTIONS\n",
    "- The user's query will be wrapped in triple back ticks\n",
    "- Only answer the query using the provided context below which may include general information and code, do not make up any information.\n",
    "- If the query is related to code or integration, provide a step by step explanation on the process, use code suggestions whereever relevant and always use markdown format annotated with the language to show the code.\n",
    "- Yield Protocol has no JS SDK so always use ethers package for JS code suggestions.\n",
    "\n",
    "# CONTEXT\n",
    "{context}\n",
    "\n",
    "# QUERY\n",
    "```\n",
    "{question}\n",
    "```\n",
    "\"\"\"\n",
    "FINAL_ANSWER_PROMPT = PromptTemplate(\n",
    "    template=final_answer_prompt_template, input_variables=[\"context\", \"question\"]\n",
    ")"
   ]
  },
  {
   "cell_type": "code",
   "execution_count": 13,
   "metadata": {},
   "outputs": [],
   "source": [
    "def ask(query):\n",
    "    display(Markdown(f\"### Query\\n{query}\"))\n",
    "    \n",
    "    # 1. Call LLM to categorize query based on intent\n",
    "    categorization_llm_chain = LLMChain(\n",
    "        llm=ChatOpenAI(temperature=0, model=\"gpt-3.5-turbo\"),\n",
    "        prompt=QUERY_CATEGORIZATION_PROMPT\n",
    "    )\n",
    "\n",
    "    with get_openai_callback() as cb:\n",
    "        result = categorization_llm_chain.run(query=query)\n",
    "        category = result.replace(\"'\", \"\")\n",
    "        display(Markdown(f\"### Query Category\\n**{category}**\"))\n",
    "        print(cb)\n",
    "\n",
    "    # 2. Call LLM to answer user's query\n",
    "    chain_type_kwargs = {\"prompt\": FINAL_ANSWER_PROMPT}\n",
    "    qa_chain = RetrievalQA.from_chain_type(\n",
    "        llm=ChatOpenAI(temperature=0, model=\"gpt-4\"), \n",
    "        chain_type=\"stuff\", \n",
    "        retriever=docsearch_chunks.as_retriever(search_kwargs = {\n",
    "            'k': 10,\n",
    "            'filter': {'category': category}\n",
    "\n",
    "        }), \n",
    "        chain_type_kwargs=chain_type_kwargs,\n",
    "        return_source_documents=True\n",
    "    )\n",
    "\n",
    "    with get_openai_callback() as cb:\n",
    "        answer = qa_chain({'query': query})\n",
    "        display(Markdown(\"### Final Answer\"))\n",
    "        display(Markdown(answer['result']))\n",
    "        print(cb)\n",
    "        #print(res['source_documents'])"
   ]
  },
  {
   "cell_type": "code",
   "execution_count": 14,
   "metadata": {},
   "outputs": [
    {
     "data": {
      "text/markdown": [
       "### Query\n",
       "how do i borrow, what are some of the main concepts to know about"
      ],
      "text/plain": [
       "<IPython.core.display.Markdown object>"
      ]
     },
     "metadata": {},
     "output_type": "display_data"
    },
    {
     "data": {
      "text/markdown": [
       "### Query Category\n",
       "**general**"
      ],
      "text/plain": [
       "<IPython.core.display.Markdown object>"
      ]
     },
     "metadata": {},
     "output_type": "display_data"
    },
    {
     "name": "stdout",
     "output_type": "stream",
     "text": [
      "Tokens Used: 180\n",
      "\tPrompt Tokens: 179\n",
      "\tCompletion Tokens: 1\n",
      "Successful Requests: 1\n",
      "Total Cost (USD): $0.0002705\n"
     ]
    },
    {
     "data": {
      "text/markdown": [
       "### Final Answer"
      ],
      "text/plain": [
       "<IPython.core.display.Markdown object>"
      ]
     },
     "metadata": {},
     "output_type": "display_data"
    },
    {
     "data": {
      "text/markdown": [
       "To borrow on Yield Protocol, follow these steps:\n",
       "\n",
       "1. Access the Yield v2 App at https://app.yieldprotocol.com/#/borow.\n",
       "2. Choose the asset you want to borrow.\n",
       "3. Add collateral to your vault.\n",
       "4. Review and initiate the transaction.\n",
       "\n",
       "Here are some main concepts to know about borrowing on Yield Protocol:\n",
       "\n",
       "- Borrowing is done at a fixed interest rate determined by a built-in automated market.\n",
       "- All loans require overcollateralization, meaning you need to deposit a greater value of collateral than the debt you're taking on.\n",
       "- You can borrow at a fixed rate for a fixed term, but you may repay early if you choose. However, repaying early may result in not receiving your original fixed rate.\n",
       "- If you don't close your loan at the time of maturity, floating-rate interest will be charged to keep the position open.\n",
       "- When borrowing, you deposit collateral in the protocol and draw new fyTokens against the collateral. You can then sell the fyTokens for the underlying token, locking in your borrowing rate.\n",
       "- At maturity, you must repay the debt to reclaim your collateral. You can also repay your debt earlier than the maturity by returning the fyTokens you have drawn, but be aware that interest rate changes may affect the amount of the borrowed asset you need to spend to obtain the needed fyTokens.\n",
       "\n",
       "For more information, refer to the Borrowing section in the Yield Protocol documentation: https://docs.yieldprotocol.com/users/borrowing"
      ],
      "text/plain": [
       "<IPython.core.display.Markdown object>"
      ]
     },
     "metadata": {},
     "output_type": "display_data"
    },
    {
     "name": "stdout",
     "output_type": "stream",
     "text": [
      "Tokens Used: 1917\n",
      "\tPrompt Tokens: 1616\n",
      "\tCompletion Tokens: 301\n",
      "Successful Requests: 1\n",
      "Total Cost (USD): $0.06653999999999999\n"
     ]
    }
   ],
   "source": [
    "ask(\"how do i borrow, what are some of the main concepts to know about\")"
   ]
  },
  {
   "cell_type": "code",
   "execution_count": 15,
   "metadata": {},
   "outputs": [
    {
     "data": {
      "text/markdown": [
       "### Query\n",
       "how do i borrow using code"
      ],
      "text/plain": [
       "<IPython.core.display.Markdown object>"
      ]
     },
     "metadata": {},
     "output_type": "display_data"
    },
    {
     "data": {
      "text/markdown": [
       "### Query Category\n",
       "**technical**"
      ],
      "text/plain": [
       "<IPython.core.display.Markdown object>"
      ]
     },
     "metadata": {},
     "output_type": "display_data"
    },
    {
     "name": "stdout",
     "output_type": "stream",
     "text": [
      "Tokens Used: 171\n",
      "\tPrompt Tokens: 170\n",
      "\tCompletion Tokens: 1\n",
      "Successful Requests: 1\n",
      "Total Cost (USD): $0.000257\n"
     ]
    },
    {
     "data": {
      "text/markdown": [
       "### Final Answer"
      ],
      "text/plain": [
       "<IPython.core.display.Markdown object>"
      ]
     },
     "metadata": {},
     "output_type": "display_data"
    },
    {
     "data": {
      "text/markdown": [
       "To borrow using code, you need to follow these steps:\n",
       "\n",
       "1. Import the required packages and contracts.\n",
       "2. Set up a connection to the Ethereum network using a provider.\n",
       "3. Instantiate the Cauldron, Ladle, and Join contracts.\n",
       "4. Create a vault if you don't have one.\n",
       "5. Approve the transfer of collateral to the Join contract.\n",
       "6. Add collateral to the vault.\n",
       "7. Borrow the desired amount of fyToken.\n",
       "\n",
       "Here's a step-by-step example using ethers.js:\n",
       "\n",
       "```javascript\n",
       "// Import ethers\n",
       "const { ethers } = require(\"ethers\");\n",
       "\n",
       "// Import contract ABIs\n",
       "const CauldronABI = require(\"./abis/Cauldron.json\");\n",
       "const LadleABI = require(\"./abis/Ladle.json\");\n",
       "const JoinABI = require(\"./abis/Join.json\");\n",
       "\n",
       "// Set up Ethereum provider\n",
       "const provider = new ethers.providers.JsonRpcProvider(\"https://mainnet.infura.io/v3/YOUR_INFURA_API_KEY\");\n",
       "\n",
       "// Set up your Ethereum wallet\n",
       "const wallet = new ethers.Wallet(\"YOUR_PRIVATE_KEY\", provider);\n",
       "\n",
       "// Contract addresses\n",
       "const cauldronAddress = \"0x...\"; // Cauldron contract address\n",
       "const ladleAddress = \"0x...\"; // Ladle contract address\n",
       "const joinAddress = \"0x...\"; // Join contract address for the collateral\n",
       "\n",
       "// Instantiate contracts\n",
       "const cauldron = new ethers.Contract(cauldronAddress, CauldronABI, wallet);\n",
       "const ladle = new ethers.Contract(ladleAddress, LadleABI, wallet);\n",
       "const join = new ethers.Contract(joinAddress, JoinABI, wallet);\n",
       "\n",
       "// Define collateral and debt parameters\n",
       "const collateralAmount = ethers.utils.parseUnits(\"1\", 18); // 1 collateral token (assuming 18 decimals)\n",
       "const debtAmount = ethers.utils.parseUnits(\"100\", 6); // 100 fyToken (assuming 6 decimals)\n",
       "const ilk = \"0x...\"; // Collateral type identifier\n",
       "const series = \"0x...\"; // Debt series identifier\n",
       "const userAddress = \"0x...\"; // Your Ethereum address\n",
       "\n",
       "// Create a vault if you don't have one\n",
       "const vaultId = await cauldron.build(ilk, series, userAddress);\n",
       "\n",
       "// Approve the transfer of collateral to the Join contract\n",
       "const collateralToken = new ethers.Contract(collateralTokenAddress, ERC20_ABI, wallet);\n",
       "await collateralToken.approve(joinAddress, collateralAmount);\n",
       "\n",
       "// Add collateral to the vault\n",
       "await join.join(vaultId, collateralAmount);\n",
       "\n",
       "// Borrow the desired amount of fyToken\n",
       "await ladle.borrow(vaultId, debtAmount);\n",
       "```\n",
       "\n",
       "Replace the placeholders with the appropriate values for your use case. This example assumes you have the ABIs for the Cauldron, Ladle, and Join contracts, as well as the ERC20 ABI for the collateral token."
      ],
      "text/plain": [
       "<IPython.core.display.Markdown object>"
      ]
     },
     "metadata": {},
     "output_type": "display_data"
    },
    {
     "name": "stdout",
     "output_type": "stream",
     "text": [
      "Tokens Used: 2083\n",
      "\tPrompt Tokens: 1504\n",
      "\tCompletion Tokens: 579\n",
      "Successful Requests: 1\n",
      "Total Cost (USD): $0.07986\n"
     ]
    }
   ],
   "source": [
    "ask(\"how do i borrow using code\")"
   ]
  },
  {
   "cell_type": "code",
   "execution_count": 16,
   "metadata": {},
   "outputs": [
    {
     "data": {
      "text/markdown": [
       "### Query\n",
       "I don't understand what ladle is, explain in detail"
      ],
      "text/plain": [
       "<IPython.core.display.Markdown object>"
      ]
     },
     "metadata": {},
     "output_type": "display_data"
    },
    {
     "data": {
      "text/markdown": [
       "### Query Category\n",
       "**technical**"
      ],
      "text/plain": [
       "<IPython.core.display.Markdown object>"
      ]
     },
     "metadata": {},
     "output_type": "display_data"
    },
    {
     "name": "stdout",
     "output_type": "stream",
     "text": [
      "Tokens Used: 177\n",
      "\tPrompt Tokens: 176\n",
      "\tCompletion Tokens: 1\n",
      "Successful Requests: 1\n",
      "Total Cost (USD): $0.000266\n"
     ]
    },
    {
     "data": {
      "text/markdown": [
       "### Final Answer"
      ],
      "text/plain": [
       "<IPython.core.display.Markdown object>"
      ]
     },
     "metadata": {},
     "output_type": "display_data"
    },
    {
     "data": {
      "text/markdown": [
       "The Ladle is a central contract in the Yield Protocol that serves as a routing and asset management system. It is designed to facilitate user interactions with the protocol and manage various components, such as Vaults, Pools, and Joins. The Ladle can be upgraded through Modules or replaced entirely, making it a flexible and powerful component of the protocol.\n",
       "\n",
       "Key responsibilities of the Ladle include:\n",
       "\n",
       "1. Managing Vaults: The Ladle is the only contract authorized to create, modify, or destroy Vaults in the Cauldron, which is the core accounting system of the Yield Protocol.\n",
       "\n",
       "2. Managing Joins: The Ladle keeps a registry of all Joins (contracts that handle token deposits and withdrawals) and is authorized to move assets from any Join to any account.\n",
       "\n",
       "3. Managing fyTokens: The Ladle is authorized to mint fyToken (fixed yield tokens) at will and moves fyTokens from users to FYToken contracts for burning, with allowances approved by the users.\n",
       "\n",
       "4. Execution Flow: The Ladle allows users to batch multiple actions in a single transaction using the `batch` function. It can also execute arbitrary calls on any registered contracts using the `route` function and can be extended by the use of modules through `moduleCall`.\n",
       "\n",
       "5. User Features: The Ladle provides collateralized debt features, such as depositing collateral, borrowing fyTokens, repaying debt, and withdrawing collateral using the `pour` function. It also offers other features like serving, rolling, repaying, redeeming, transferring, and managing permits and Ether.\n",
       "\n",
       "In summary, the Ladle is a crucial contract in the Yield Protocol that orchestrates contract calls and manages various components to provide a seamless and efficient user experience."
      ],
      "text/plain": [
       "<IPython.core.display.Markdown object>"
      ]
     },
     "metadata": {},
     "output_type": "display_data"
    },
    {
     "name": "stdout",
     "output_type": "stream",
     "text": [
      "Tokens Used: 2147\n",
      "\tPrompt Tokens: 1802\n",
      "\tCompletion Tokens: 345\n",
      "Successful Requests: 1\n",
      "Total Cost (USD): $0.07476\n"
     ]
    }
   ],
   "source": [
    "ask(\"I don't understand what ladle is, explain in detail\")"
   ]
  },
  {
   "cell_type": "code",
   "execution_count": null,
   "metadata": {},
   "outputs": [],
   "source": []
  }
 ],
 "metadata": {
  "kernelspec": {
   "display_name": "Python 3 (ipykernel)",
   "language": "python",
   "name": "python3"
  },
  "language_info": {
   "codemirror_mode": {
    "name": "ipython",
    "version": 3
   },
   "file_extension": ".py",
   "mimetype": "text/x-python",
   "name": "python",
   "nbconvert_exporter": "python",
   "pygments_lexer": "ipython3",
   "version": "3.10.7"
  }
 },
 "nbformat": 4,
 "nbformat_minor": 2
}
