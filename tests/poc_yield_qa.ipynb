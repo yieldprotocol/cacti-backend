{
 "cells": [
  {
   "cell_type": "markdown",
   "metadata": {},
   "source": [
    "# Yield's Question Answering (QA) bot"
   ]
  },
  {
   "cell_type": "markdown",
   "metadata": {},
   "source": [
    "### High-level approach\n",
    "#### Pre-processing\n",
    "- Load files from the repo, chunk them based on langugage-specific separators to maintain enough context\n",
    "- Categorize each chunk as 'general' or 'technical' based on content type to allow semantic search to filter on query's underlying intent (general usage vs coding/technical)\n",
    "- Add chunks to vector DB\n",
    "\n",
    "\n",
    "#### Query time\n",
    "- Call LLM to categorize the query as 'general' or 'technical' based on intent\n",
    "- Run semantic search with category filter on vector db to get relevant chunks for LLM context\n",
    "- Call LLM to answer user query with context\n",
    "\n",
    "\n",
    "### Improvements\n",
    "Parameters to explore to improve quality\n",
    "- chunk size\n",
    "- top-k count\n",
    "- LLMs with larger context window (GPT-4 vs GPT-3.5 16k)\n",
    "- Alternative Code-optimized LLMs such as BigCode https://huggingface.co/bigcode"
   ]
  },
  {
   "cell_type": "code",
   "execution_count": null,
   "metadata": {},
   "outputs": [],
   "source": [
    "# Install dependencies\n",
    "!pip install langchain openai chromadb GitPython"
   ]
  },
  {
   "cell_type": "code",
   "execution_count": 347,
   "metadata": {},
   "outputs": [],
   "source": [
    "import os\n",
    "from langchain.document_loaders import GitLoader\n",
    "from langchain.text_splitter import RecursiveCharacterTextSplitter, Language\n",
    "from langchain.text_splitter import MarkdownHeaderTextSplitter\n",
    "from langchain.vectorstores import Chroma\n",
    "from langchain.llms import OpenAI\n",
    "from langchain.embeddings import OpenAIEmbeddings\n",
    "from langchain.chains import RetrievalQAWithSourcesChain, RetrievalQA\n",
    "from IPython.display import display\n",
    "from IPython.display import Markdown\n",
    "from getpass import getpass\n",
    "from pathlib import Path\n",
    "from langchain.callbacks import StdOutCallbackHandler\n",
    "from langchain.prompts import PromptTemplate\n",
    "from langchain.callbacks import get_openai_callback\n",
    "\n",
    "stdout_handler = StdOutCallbackHandler() "
   ]
  },
  {
   "cell_type": "code",
   "execution_count": 348,
   "metadata": {},
   "outputs": [
    {
     "name": "stdout",
     "output_type": "stream",
     "text": [
      "········\n"
     ]
    }
   ],
   "source": [
    "OPENAI_API_KEY = getpass()"
   ]
  },
  {
   "cell_type": "code",
   "execution_count": 349,
   "metadata": {},
   "outputs": [],
   "source": [
    "os.environ['OPENAI_API_KEY'] = OPENAI_API_KEY"
   ]
  },
  {
   "cell_type": "markdown",
   "metadata": {},
   "source": [
    "## Common Functions"
   ]
  },
  {
   "cell_type": "markdown",
   "metadata": {},
   "source": [
    "### Load contents from repo"
   ]
  },
  {
   "cell_type": "code",
   "execution_count": 350,
   "metadata": {},
   "outputs": [],
   "source": [
    "def load_repo(remote_repo_url, local_repo_path, branch, file_filter=None):\n",
    "    local_repo_exists = Path(local_repo_path).is_dir()\n",
    "\n",
    "    if local_repo_exists:\n",
    "        loader = GitLoader(\n",
    "            repo_path=local_repo_path,\n",
    "            branch=branch,\n",
    "            file_filter=file_filter\n",
    "        ) \n",
    "    else:\n",
    "        loader = GitLoader(\n",
    "            clone_url=remote_repo_url,\n",
    "            repo_path=local_repo_path,\n",
    "            branch=branch,\n",
    "            file_filter=file_filter\n",
    "        )\n",
    "    return loader.load()"
   ]
  },
  {
   "cell_type": "markdown",
   "metadata": {},
   "source": [
    "### Split document into chunks based on  Programming Language separators/syntax\n",
    "* Split on programming language separators/syntax\n",
    "* Categorize each chunk as 'general' or 'technical' based on content type"
   ]
  },
  {
   "cell_type": "code",
   "execution_count": 351,
   "metadata": {},
   "outputs": [],
   "source": [
    "def split_docs(docs, language, chunk_size, chunk_overlap):\n",
    "    text_splitter = RecursiveCharacterTextSplitter.from_language(language=language, chunk_size=chunk_size, chunk_overlap=chunk_overlap)\n",
    "\n",
    "    all_splits=[]\n",
    "    all_metadatas=[]\n",
    "    for d in docs:\n",
    "        doc_file=d.page_content   \n",
    "        metadata = d.metadata\n",
    "        splits = text_splitter.split_text(doc_file)\n",
    "        \n",
    "        if 'developer' in metadata['file_path']:\n",
    "            metadata['category'] = \"technical\"\n",
    "        else:\n",
    "            metadata['category'] = \"general\"\n",
    "        \n",
    "        metadatas = [metadata for _ in splits]\n",
    "        all_splits += splits\n",
    "        all_metadatas += metadatas\n",
    "        \n",
    "    return {\n",
    "        'all_splits': all_splits,\n",
    "        'all_metadatas': all_metadatas\n",
    "    }\n",
    "    "
   ]
  },
  {
   "cell_type": "markdown",
   "metadata": {},
   "source": [
    "### Create Vector DB"
   ]
  },
  {
   "cell_type": "code",
   "execution_count": 352,
   "metadata": {},
   "outputs": [],
   "source": [
    "def create_vector_db(all_splits, all_metadatas):\n",
    "    return  Chroma.from_texts(texts=all_splits,metadatas=all_metadatas,embedding=OpenAIEmbeddings())"
   ]
  },
  {
   "cell_type": "markdown",
   "metadata": {},
   "source": [
    "## QA for Yield Docs V2"
   ]
  },
  {
   "cell_type": "code",
   "execution_count": 353,
   "metadata": {},
   "outputs": [],
   "source": [
    "remote_repo_url=\"https://github.com/yieldprotocol/docs-v2\"\n",
    "local_repo_path=\"/tmp/yield_docs_v2_repo\"\n",
    "branch=\"main\"\n",
    "file_filter=lambda file_path: file_path.endswith(\".md\")"
   ]
  },
  {
   "cell_type": "code",
   "execution_count": 354,
   "metadata": {},
   "outputs": [],
   "source": [
    "chunk_size_chars = 1000\n",
    "chunk_overlap_chars = 0\n",
    "\n",
    "docs_v2_list = load_repo(remote_repo_url, local_repo_path, branch, file_filter)\n",
    "splits = split_docs(docs_v2_list, Language.MARKDOWN, chunk_size_chars, chunk_overlap_chars)"
   ]
  },
  {
   "cell_type": "code",
   "execution_count": 361,
   "metadata": {},
   "outputs": [],
   "source": [
    "categorization_prompt_template = \"\"\"\n",
    "You are a Web3 expert who is able to answer any user query on Yield protocol's documentation, code, whitepapers and many other such topics.\n",
    "\n",
    "# INSTRUCTIONS\n",
    "- Classify the user's query into one of these categories - 'general' or 'technical' or 'na'\n",
    "- Use the examples below as reference, do not make up any categories.\n",
    "- Always return the category in plain text format.\n",
    "- If you are unable to process the query, just return 'na'\n",
    "\n",
    "QUERY: How do I borrow\n",
    "ANSWER: general\n",
    "\n",
    "QUERY: How do I borrow using code\n",
    "ANSWER: technical\n",
    "\n",
    "QUERY: How do I integrate\n",
    "ANSWER: technical\n",
    "\n",
    "QUERY: How is lending rate calculated\n",
    "ANSWER: general\n",
    "\n",
    "QUERY: {query}\n",
    "ANSWER:\"\"\"\n",
    "\n",
    "QUERY_CATEGORIZATION_PROMPT = PromptTemplate(\n",
    "    template=categorization_prompt_template, input_variables=[\"query\"]\n",
    ")"
   ]
  },
  {
   "cell_type": "code",
   "execution_count": 362,
   "metadata": {},
   "outputs": [],
   "source": [
    "final_answer_prompt_template = \"\"\"\n",
    "You are a Web3 expert who is able to answer any user query on Yield protocol's documentation, code, whitepapers and many other such topics.\n",
    "\n",
    "# INSTRUCTIONS\n",
    "- The user's query will be wrapped in triple back ticks\n",
    "- Only answer the query using the provided context below which may include general information and code, do not make up any information.\n",
    "- If the query is related to code or integration, provide a step by step explanation on the process, use code suggestions whereever relevant and always use markdown format annotated with the language to show the code.\n",
    "- Yield Protocol has no JS SDK so always use ethers package for JS code suggestions.\n",
    "\n",
    "# CONTEXT\n",
    "{context}\n",
    "\n",
    "# QUERY\n",
    "```\n",
    "{question}\n",
    "```\n",
    "\"\"\"\n",
    "FINAL_ANSWER_PROMPT = PromptTemplate(\n",
    "    template=final_answer_prompt_template, input_variables=[\"context\", \"question\"]\n",
    ")"
   ]
  },
  {
   "cell_type": "code",
   "execution_count": 363,
   "metadata": {},
   "outputs": [],
   "source": [
    "def ask(query):\n",
    "    display(Markdown(f\"### Query\\n{query}\"))\n",
    "    \n",
    "    # 1. Call LLM to categorize query based on intent\n",
    "    categorization_llm_chain = LLMChain(\n",
    "        llm=ChatOpenAI(temperature=0, model=\"gpt-3.5-turbo\"),\n",
    "        prompt=QUERY_CATEGORIZATION_PROMPT\n",
    "    )\n",
    "\n",
    "    with get_openai_callback() as cb:\n",
    "        result = categorization_llm_chain.run(query=query)\n",
    "        category = result.replace(\"'\", \"\")\n",
    "        display(Markdown(f\"### Query Category\\n**{category}**\"))\n",
    "        print(cb)\n",
    "\n",
    "    # 2. Call LLM to answer user's query\n",
    "    chain_type_kwargs = {\"prompt\": FINAL_ANSWER_PROMPT}\n",
    "    qa_chain = RetrievalQA.from_chain_type(\n",
    "        llm=ChatOpenAI(temperature=0, model=\"gpt-4\"), \n",
    "        chain_type=\"stuff\", \n",
    "        retriever=docsearch_chunks.as_retriever(search_kwargs = {\n",
    "            'k': 10,\n",
    "            'filter': {'category': category}\n",
    "\n",
    "        }), \n",
    "        chain_type_kwargs=chain_type_kwargs,\n",
    "        return_source_documents=True\n",
    "    )\n",
    "\n",
    "    with get_openai_callback() as cb:\n",
    "        answer = qa_chain({'query': query})\n",
    "        display(Markdown(\"### Final Answer\"))\n",
    "        display(Markdown(answer['result']))\n",
    "        print(cb)\n",
    "        #print(res['source_documents'])"
   ]
  },
  {
   "cell_type": "code",
   "execution_count": 364,
   "metadata": {},
   "outputs": [
    {
     "data": {
      "text/markdown": [
       "### Query\n",
       "how do i borrow, what are some of the main concepts to know about"
      ],
      "text/plain": [
       "<IPython.core.display.Markdown object>"
      ]
     },
     "metadata": {},
     "output_type": "display_data"
    },
    {
     "data": {
      "text/markdown": [
       "### Query Category\n",
       "**general**"
      ],
      "text/plain": [
       "<IPython.core.display.Markdown object>"
      ]
     },
     "metadata": {},
     "output_type": "display_data"
    },
    {
     "name": "stdout",
     "output_type": "stream",
     "text": [
      "Tokens Used: 180\n",
      "\tPrompt Tokens: 179\n",
      "\tCompletion Tokens: 1\n",
      "Successful Requests: 1\n",
      "Total Cost (USD): $0.0002705\n"
     ]
    },
    {
     "data": {
      "text/markdown": [
       "### Final Answer"
      ],
      "text/plain": [
       "<IPython.core.display.Markdown object>"
      ]
     },
     "metadata": {},
     "output_type": "display_data"
    },
    {
     "data": {
      "text/markdown": [
       "To borrow using Yield Protocol, follow these three simple steps:\n",
       "\n",
       "1. Choose an asset you want to borrow.\n",
       "2. Add collateral.\n",
       "3. Review and initiate the transaction.\n",
       "\n",
       "You can begin borrowing by accessing the [Yield v2 App](https://app.yieldprotocol.com/#/borow). Read our [Quick Start Guide](https://medium.com/yield-protocol/yield-protocol-v2-quickstart-guide-e516a955a405) for instructions.\n",
       "\n",
       "Some main concepts to know about when borrowing on Yield Protocol are:\n",
       "\n",
       "- Fixed interest rate: The interest rate you receive when borrowing is determined by a built-in automated market. The more you borrow, the higher your interest rate may be.\n",
       "- Overcollateralization: All loans in Yield require overcollateralization, meaning you need to provide a greater value of collateral than the debt you're taking on.\n",
       "- Vault: A vault is a collateralized debt position. Each vault allows you to deposit one type of collateral and borrow a single asset for a fixed term.\n",
       "- Series: A series represents a single borrowable asset with a defined maturity date. Each series corresponds to a single ERC-20 fyToken.\n",
       "- Maturity: At maturity, you must repay the debt to reclaim your collateral. You can also repay your debt earlier than the maturity by returning the fyTokens you have drawn. However, repaying early may result in not receiving your original fixed rate.\n",
       "\n",
       "Remember to maintain a sufficient amount of collateral in your vault at all times to avoid liquidation."
      ],
      "text/plain": [
       "<IPython.core.display.Markdown object>"
      ]
     },
     "metadata": {},
     "output_type": "display_data"
    },
    {
     "name": "stdout",
     "output_type": "stream",
     "text": [
      "Tokens Used: 3396\n",
      "\tPrompt Tokens: 3088\n",
      "\tCompletion Tokens: 308\n",
      "Successful Requests: 1\n",
      "Total Cost (USD): $0.11112\n"
     ]
    }
   ],
   "source": [
    "ask(\"how do i borrow, what are some of the main concepts to know about\")"
   ]
  },
  {
   "cell_type": "code",
   "execution_count": 365,
   "metadata": {},
   "outputs": [
    {
     "data": {
      "text/markdown": [
       "### Query\n",
       "how do i borrow using code"
      ],
      "text/plain": [
       "<IPython.core.display.Markdown object>"
      ]
     },
     "metadata": {},
     "output_type": "display_data"
    },
    {
     "data": {
      "text/markdown": [
       "### Query Category\n",
       "**technical**"
      ],
      "text/plain": [
       "<IPython.core.display.Markdown object>"
      ]
     },
     "metadata": {},
     "output_type": "display_data"
    },
    {
     "name": "stdout",
     "output_type": "stream",
     "text": [
      "Tokens Used: 171\n",
      "\tPrompt Tokens: 170\n",
      "\tCompletion Tokens: 1\n",
      "Successful Requests: 1\n",
      "Total Cost (USD): $0.000257\n"
     ]
    },
    {
     "data": {
      "text/markdown": [
       "### Final Answer"
      ],
      "text/plain": [
       "<IPython.core.display.Markdown object>"
      ]
     },
     "metadata": {},
     "output_type": "display_data"
    },
    {
     "data": {
      "text/markdown": [
       "To borrow using code, you can interact with the Yield Protocol's Ladle contract. The Ladle contract provides a function called `pour` that allows you to deposit collateral and borrow fyTokens. Here's a step-by-step guide on how to borrow using code:\n",
       "\n",
       "1. Install the ethers package:\n",
       "\n",
       "```bash\n",
       "npm install ethers\n",
       "```\n",
       "\n",
       "2. Import the ethers package and set up your Ethereum provider:\n",
       "\n",
       "```javascript\n",
       "const { ethers } = require(\"ethers\");\n",
       "\n",
       "// Set up your Ethereum provider\n",
       "const provider = new ethers.providers.JsonRpcProvider(\"YOUR_RPC_URL\");\n",
       "```\n",
       "\n",
       "3. Set up your wallet and connect it to the provider:\n",
       "\n",
       "```javascript\n",
       "const walletPrivateKey = \"YOUR_PRIVATE_KEY\";\n",
       "const wallet = new ethers.Wallet(walletPrivateKey, provider);\n",
       "```\n",
       "\n",
       "4. Define the Ladle contract address and ABI:\n",
       "\n",
       "```javascript\n",
       "const ladleAddress = \"LADLE_CONTRACT_ADDRESS\";\n",
       "const ladleABI = [ /* LADLE_CONTRACT_ABI */ ];\n",
       "```\n",
       "\n",
       "5. Create a contract instance for the Ladle contract:\n",
       "\n",
       "```javascript\n",
       "const ladleContract = new ethers.Contract(ladleAddress, ladleABI, wallet);\n",
       "```\n",
       "\n",
       "6. Define the parameters for the `pour` function:\n",
       "\n",
       "```javascript\n",
       "const vaultId = \"YOUR_VAULT_ID\";\n",
       "const ink = ethers.utils.parseUnits(\"COLLATERAL_AMOUNT\", \"COLLATERAL_DECIMALS\");\n",
       "const art = ethers.utils.parseUnits(\"FYTOKEN_AMOUNT\", \"FYTOKEN_DECIMALS\");\n",
       "```\n",
       "\n",
       "7. Call the `pour` function to deposit collateral and borrow fyTokens:\n",
       "\n",
       "```javascript\n",
       "async function borrow() {\n",
       "  try {\n",
       "    const tx = await ladleContract.pour(vaultId, ink, art);\n",
       "    const receipt = await tx.wait();\n",
       "    console.log(\"Borrow successful:\", receipt);\n",
       "  } catch (error) {\n",
       "    console.error(\"Borrow failed:\", error);\n",
       "  }\n",
       "}\n",
       "\n",
       "borrow();\n",
       "```\n",
       "\n",
       "Replace `YOUR_RPC_URL`, `YOUR_PRIVATE_KEY`, `LADLE_CONTRACT_ADDRESS`, `LADLE_CONTRACT_ABI`, `YOUR_VAULT_ID`, `COLLATERAL_AMOUNT`, `COLLATERAL_DECIMALS`, `FYTOKEN_AMOUNT`, and `FYTOKEN_DECIMALS` with the appropriate values for your use case."
      ],
      "text/plain": [
       "<IPython.core.display.Markdown object>"
      ]
     },
     "metadata": {},
     "output_type": "display_data"
    },
    {
     "name": "stdout",
     "output_type": "stream",
     "text": [
      "Tokens Used: 3113\n",
      "\tPrompt Tokens: 2648\n",
      "\tCompletion Tokens: 465\n",
      "Successful Requests: 1\n",
      "Total Cost (USD): $0.10733999999999999\n"
     ]
    }
   ],
   "source": [
    "ask(\"how do i borrow using code\")"
   ]
  },
  {
   "cell_type": "code",
   "execution_count": 366,
   "metadata": {},
   "outputs": [
    {
     "data": {
      "text/markdown": [
       "### Query\n",
       "I don't understand what ladle is, explain in detail"
      ],
      "text/plain": [
       "<IPython.core.display.Markdown object>"
      ]
     },
     "metadata": {},
     "output_type": "display_data"
    },
    {
     "data": {
      "text/markdown": [
       "### Query Category\n",
       "**technical**"
      ],
      "text/plain": [
       "<IPython.core.display.Markdown object>"
      ]
     },
     "metadata": {},
     "output_type": "display_data"
    },
    {
     "name": "stdout",
     "output_type": "stream",
     "text": [
      "Tokens Used: 177\n",
      "\tPrompt Tokens: 176\n",
      "\tCompletion Tokens: 1\n",
      "Successful Requests: 1\n",
      "Total Cost (USD): $0.000266\n"
     ]
    },
    {
     "data": {
      "text/markdown": [
       "### Final Answer"
      ],
      "text/plain": [
       "<IPython.core.display.Markdown object>"
      ]
     },
     "metadata": {},
     "output_type": "display_data"
    },
    {
     "data": {
      "text/markdown": [
       "The Ladle is a routing and asset management contract for Yield Protocol. It is designed to orchestrate contract calls throughout the protocol, providing user-oriented features in an efficient manner. The Ladle is the most complex contract in the protocol and has considerable privileges.\n",
       "\n",
       "The Ladle is authorized to make changes to the accounting in the Cauldron, which is the core accounting contract in Yield Protocol. It is also the only contract that is authorized to create, modify, or destroy Vaults in the Cauldron.\n",
       "\n",
       "The Ladle keeps a registry of all Joins (asset adapters) and is authorized to move assets from any Join to any account. It also moves assets from users to Joins, with allowances approved by the users.\n",
       "\n",
       "The Ladle is authorized to mint fyToken (fixed yield tokens) at will. It also moves fyToken from users to FYToken contracts for burning, with allowances approved by the users. The Ladle knows about all the existing fyTokens through the series registry in the Cauldron.\n",
       "\n",
       "The Ladle keeps a registry of all the Pools (liquidity pools), indexed by the id of the series traded. It also moves assets from users to Pool contracts for trading, with allowances approved by the users.\n",
       "\n",
       "The Ladle provides various user features such as depositing collateral, borrowing fyTokens, repaying debt, withdrawing collateral, and more. Users can also perform actions like serving, rolling, repaying, redeeming, and transferring tokens.\n",
       "\n",
       "To execute multiple actions in a single transaction, the Ladle provides a `batch` function, which is the most common method of operation. It can also execute arbitrary calls on any registered contracts using the `route` function. Additionally, the Ladle can be extended by the use of modules, which can be authorized via governance and inherit from LadleStorage to read and modify the Ladle storage."
      ],
      "text/plain": [
       "<IPython.core.display.Markdown object>"
      ]
     },
     "metadata": {},
     "output_type": "display_data"
    },
    {
     "name": "stdout",
     "output_type": "stream",
     "text": [
      "Tokens Used: 3528\n",
      "\tPrompt Tokens: 3154\n",
      "\tCompletion Tokens: 374\n",
      "Successful Requests: 1\n",
      "Total Cost (USD): $0.11706\n"
     ]
    }
   ],
   "source": [
    "ask(\"I don't understand what ladle is, explain in detail\")"
   ]
  },
  {
   "cell_type": "code",
   "execution_count": null,
   "metadata": {},
   "outputs": [],
   "source": []
  }
 ],
 "metadata": {
  "kernelspec": {
   "display_name": "Python 3 (ipykernel)",
   "language": "python",
   "name": "python3"
  },
  "language_info": {
   "codemirror_mode": {
    "name": "ipython",
    "version": 3
   },
   "file_extension": ".py",
   "mimetype": "text/x-python",
   "name": "python",
   "nbconvert_exporter": "python",
   "pygments_lexer": "ipython3",
   "version": "3.10.7"
  }
 },
 "nbformat": 4,
 "nbformat_minor": 2
}
