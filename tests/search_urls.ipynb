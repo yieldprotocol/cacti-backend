{
 "cells": [
  {
   "cell_type": "code",
   "execution_count": 73,
   "metadata": {},
   "outputs": [],
   "source": [
    "import sys\n",
    "sys.path.insert(0, r'C:\\Users\\HARSH\\Documents\\chatweb3-backend')\n",
    "from utils import *\n",
    "set_api_key()"
   ]
  },
  {
   "cell_type": "code",
   "execution_count": 74,
   "metadata": {},
   "outputs": [],
   "source": [
    "import re\n",
    "import requests\n",
    "\n",
    "from langchain.llms import OpenAI\n",
    "from langchain.chains import LLMChain\n",
    "from langchain.prompts import PromptTemplate\n",
    "from langchain.prompts.base import BaseOutputParser\n",
    "\n",
    "\n",
    "TEMPLATE = \\\n",
    "'''\n",
    "Query: {query}\n",
    "Note: The query is related to the blockchain ecosystem.\n",
    "Give 10 distinct related searches most asked on the web.\n",
    "1.'''\n",
    "\n",
    "class ChatOutputParser(BaseOutputParser):\n",
    "\n",
    "    @property\n",
    "    def _type(self) -> str:\n",
    "        \"\"\"Return the type key.\"\"\"\n",
    "        return \"chat_output_parser\"\n",
    "\n",
    "    def parse(self, text: str) -> str:\n",
    "        \"\"\"Parse the output of an LLM call.\"\"\"\n",
    "        text = text.strip()\n",
    "        text = re.sub(r\"\\d+. \", '', text)\n",
    "        text = text.split('\\n')\n",
    "        return text"
   ]
  },
  {
   "cell_type": "code",
   "execution_count": 75,
   "metadata": {},
   "outputs": [],
   "source": [
    "\n",
    "class SearchURLs():\n",
    "    def __init__(self,) -> None:\n",
    "        super().__init__()\n",
    "        llm = OpenAI(\n",
    "            temperature=0.6, max_tokens=-1,\n",
    "        )\n",
    "        output_parser = ChatOutputParser()\n",
    "        relSearch_prompt = PromptTemplate(\n",
    "            input_variables=[\"query\"],\n",
    "            template=TEMPLATE,\n",
    "            output_parser=output_parser,\n",
    "        )\n",
    "        self.chain = LLMChain(llm=llm, prompt=relSearch_prompt, verbose=True)\n",
    "\n",
    "        subscription_key=\"df01e65a4da8434b841e8a81b34c9d25\"\n",
    "        self.search_url = \"https://api.bing.microsoft.com/v7.0/search\"\n",
    "        self.headers = {\"Ocp-Apim-Subscription-Key\" : subscription_key}\n",
    "\n",
    "    def via_llm(self, query): \n",
    "        relSearches = self.chain.apply_and_parse([{\"query\": query}])[0]\n",
    "        return relSearches\n",
    "\n",
    "    def via_bing(self, query):\n",
    "        params  = {\"q\": query, \"textDecorations\": True, \"textFormat\": \"HTML\"}\n",
    "        response = requests.get(self.search_url, headers=self.headers, params=params)\n",
    "        response.raise_for_status()\n",
    "        response = response.json()\n",
    "        relSearches = [r['text'] for r in response['relatedSearches']['value']]\n",
    "        return relSearches"
   ]
  },
  {
   "cell_type": "code",
   "execution_count": 76,
   "metadata": {},
   "outputs": [],
   "source": [
    "s = SearchURLs()"
   ]
  },
  {
   "cell_type": "code",
   "execution_count": 77,
   "metadata": {},
   "outputs": [
    {
     "name": "stdout",
     "output_type": "stream",
     "text": [
      "Prompt after formatting:\n",
      "\u001b[32;1m\u001b[1;3m\n",
      "Query: What is a 51% attack?\n",
      "Note: The query is related to the blockchain ecosystem.\n",
      "Give 10 distinct related searches most asked on the web.\n",
      "1.\u001b[0m\n"
     ]
    },
    {
     "data": {
      "text/plain": [
       "['What is a attack in cryptocurrency?',\n",
       " 'What is a double spend attack?',\n",
       " 'How does a attack work?',\n",
       " 'What is a majority attack?',\n",
       " 'What is a attack on Bitcoin?',\n",
       " 'How to prevent a attack?',\n",
       " 'What is the cost of a attack?',\n",
       " 'What is a selfish mining attack?',\n",
       " 'How to detect a attack?',\n",
       " 'What is a attack on Ethereum?']"
      ]
     },
     "execution_count": 77,
     "metadata": {},
     "output_type": "execute_result"
    }
   ],
   "source": [
    "s.via_llm(\"What is a 51% attack?\")"
   ]
  },
  {
   "cell_type": "code",
   "execution_count": 78,
   "metadata": {},
   "outputs": [
    {
     "data": {
      "text/plain": [
       "['51% attack blockchain',\n",
       " '51% attack bitcoin',\n",
       " '51 percent attack',\n",
       " 'attacks on blockchain',\n",
       " 'what is 51% attack',\n",
       " 'proof of work 51% attack',\n",
       " 'bitcoin 51% attack cost',\n",
       " '51% attack example']"
      ]
     },
     "execution_count": 78,
     "metadata": {},
     "output_type": "execute_result"
    }
   ],
   "source": [
    "s.via_bing(\"What is a 51% attack?\")"
   ]
  }
 ],
 "metadata": {
  "kernelspec": {
   "display_name": "base",
   "language": "python",
   "name": "python3"
  },
  "language_info": {
   "codemirror_mode": {
    "name": "ipython",
    "version": 3
   },
   "file_extension": ".py",
   "mimetype": "text/x-python",
   "name": "python",
   "nbconvert_exporter": "python",
   "pygments_lexer": "ipython3",
   "version": "3.9.13"
  },
  "orig_nbformat": 4,
  "vscode": {
   "interpreter": {
    "hash": "a50c67c2899eff48b42ce193594db3f0465d411cbcbdad9a91476e0c1ace7634"
   }
  }
 },
 "nbformat": 4,
 "nbformat_minor": 2
}
