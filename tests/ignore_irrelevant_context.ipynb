{
 "cells": [
  {
   "cell_type": "code",
   "execution_count": 1,
   "id": "f9d25c83-7aa9-4da0-abbf-dc814a949cc9",
   "metadata": {},
   "outputs": [],
   "source": [
    "import sys\n",
    "sys.path.insert(0, '/notebooks/chatweb3')"
   ]
  },
  {
   "cell_type": "code",
   "execution_count": 2,
   "id": "b52beb19-3262-4a57-aff2-5b50c6c4c10f",
   "metadata": {},
   "outputs": [
    {
     "name": "stdout",
     "output_type": "stream",
     "text": [
      "Added to class registry: chat.simple.SimpleChat\n",
      "Added to class registry: chat.rephrase.RephraseChat\n",
      "Added to class registry: chat.rephrase_cited.RephraseCitedChat\n",
      "Added to class registry: chat.widget_search.WidgetSearchChat\n",
      "Added to class registry: tools.index_lookup.IndexLookupTool\n",
      "Added to class registry: tools.index_answer.IndexAnswerTool\n",
      "Added to class registry: tools.index_widget.IndexWidgetTool\n",
      "Added to class registry: index.weaviate.WeaviateIndex\n",
      "Added to class registry: tools.index_app_info.IndexAppInfoTool\n",
      "Added to class registry: chat.basic_agent.BasicAgentChat\n"
     ]
    }
   ],
   "source": [
    "from langchain.llms import OpenAI\n",
    "from langchain.prompts import PromptTemplate\n",
    "from langchain.chains import LLMChain\n",
    "from langchain.prompts.base import BaseOutputParser\n",
    "\n",
    "from chat.base import *\n",
    "from chat.widget_search import ChatOutputParser, WIDGET_INSTRUCTION, SEARCH_INSTRUCTION, TEMPLATE, IDENTIFY_TEMPLATE\n",
    "from chat.base import *\n",
    "from index.weaviate import *\n",
    "from index.widgets import *\n",
    "from utils import *"
   ]
  },
  {
   "cell_type": "code",
   "execution_count": 3,
   "id": "6d8f0c68-b9cf-44c7-8ccd-5818b3308d8c",
   "metadata": {},
   "outputs": [],
   "source": [
    "set_api_key()"
   ]
  },
  {
   "cell_type": "code",
   "execution_count": 4,
   "id": "58767a09-3a4b-47f8-b800-44bf10e8bd58",
   "metadata": {},
   "outputs": [],
   "source": [
    "CLEAN_TEXT = '''\n",
    "RAW TEXT: {text}\n",
    "---\n",
    "Remove the irrelevant and uninformative texts from the above paragraph.\n",
    "CLEAN TEXT:'''\n",
    "\n",
    "IGNORE_IRRELEVANT_CONTEXT_TEMPLATE = '''\n",
    "I am interacting with a chatbot and I asked it a question. In order to answer it, the chatbot retrieved some context from the web.  \n",
    "Now, you are given the question and the scraped content with the corresponding url. You have to respond (explicitly in Yes/No) if the content has an answer to the given question.\n",
    "\n",
    "---Example---\n",
    "\n",
    "URL: https://blog.thundercore.com/thundercore-blockchain-partners-with-huobi-mycontainer-in-node-expansion-7b39d4534113\n",
    "SOURCE: ThunderCore Blockchain Partners with Huobi, MyCointainer in Node Expansion\n",
    "\n",
    "The Top 5 blockchain ThunderCore is making an ecosystem-development push, partnering with a host of new validators as the chain rolls out its new cryptocurrency staking model. At the same time, ThunderCore is leveraging these promising developments to expand its presence in decentralized finance (DeFi), making overtures to leading protocols.\n",
    "\n",
    "The newest ThunderCore validators include the famous virtual asset exchange Huobi and one of the earliest staking platforms in the space, MyCointainer. Users of both will now be able to stake ThunderCore’s native asset TT to earn rewards.\n",
    "\n",
    "Unlike proof-of-work (PoW) blockchains like Bitcoin, ThunderCore is an environmentally friendly proof-of-stake (PoS) chain, which means that its consensus mechanism for validating transactions is based on incentivized crypto staking.\n",
    "\n",
    "ThunderCore’s new PoS staking model, also known as ThunderCore 2.0, will dramatically increase both user staking and validator nodes. Such decentralization is crucial to secure PoS chains like ThunderCore, which must withstand coordinated attacks by malicious actors seeking to control two-thirds of the network, while adding more trustworthy validators also improves scalability and accelerates user growth.\n",
    "QUESTION: Which are the top 5 blockchain startups?\n",
    "RESPONSE: No\n",
    "\n",
    "---Example---\n",
    "\n",
    "URL: https://builder.decentraland.org/\n",
    "SOURCE: Let's build the Metaverse together!\n",
    "Collections\n",
    "Create, review and publish your collections of wearables and emotes.\n",
    "\n",
    "Scenes\n",
    "Build your space in your LAND. You can use free 3D models or upload your own.\n",
    "\n",
    "Land\n",
    "Publish Scenes, create Estates and manage permissions of your LAND.\n",
    "\n",
    "Names\n",
    "Claim your unique name and assign it to your avatar or your parcels.\n",
    "QUESTION: who built you?\n",
    "RESPONSE: No\n",
    "\n",
    "---Example---\n",
    "\n",
    "URL: https://phemex.com/academy/what-is-gnosis-safe#:~:text=Gnosis%20Safe%20is%20a%20non,key%20wallet%2C%20such%20as%20MetaMask\n",
    "SOURCE: Gnosis Safe is a non-custodial, multisig crypto wallet that evolved from its predecessor, the Gnosis Mutisig wallet.\n",
    "\n",
    "Conventionally, most crypto users store their crypto in a single key wallet, such as MetaMask. To approve any transactions like sending crypto out of the wallet, a private key, which is generated from that wallet’s unique 12-word seed phrase, is needed. If this private key is compromised or leaked, the crypto can be stolen.\n",
    "\n",
    "What if your funds are secured not with one but three private keys? This way, even if you lose one key, you can still access your funds with the other two. \n",
    "\n",
    "This is what Gnosis Safe’s multisig wallet enables.\n",
    "\n",
    "Multisig wallets require confirmation from–as the term implies–multiple signatures–that is, several private keys, before a  transaction can be executed.\n",
    "\n",
    "And if those funds belong to a crypto project or a DAO, the multisig wallet system prevents any single employee from stealing or losing the money, because multiple signatures are needed to approve the transaction.\n",
    "QUESTION: What is a Gnosis Safe wallet?\n",
    "RESPONSE: Yes\n",
    "\n",
    "---Example---\n",
    "\n",
    "URL: {url}\n",
    "SOURCE: {source}\n",
    "QUESTION: {question}\n",
    "RESPONSE:'''"
   ]
  },
  {
   "cell_type": "code",
   "execution_count": 5,
   "id": "ba15eb71-ffe7-429b-b458-787047669b50",
   "metadata": {},
   "outputs": [],
   "source": [
    "output_parser = ChatOutputParser()\n",
    "llm = OpenAI(\n",
    "    temperature=0.0, max_tokens=-1,\n",
    ")\n",
    "\n",
    "text_cleaning_prompt = PromptTemplate(\n",
    "    input_variables=[\"text\"],\n",
    "    template=CLEAN_TEXT,\n",
    "    output_parser=output_parser,\n",
    ")\n",
    "text_cleaning_chain = LLMChain(llm=llm, prompt=text_cleaning_prompt, verbose=False)\n",
    "\n",
    "context_filtering_prompt = PromptTemplate(\n",
    "    input_variables=[\"url\", \"source\", \"question\"],\n",
    "    template=IGNORE_IRRELEVANT_CONTEXT_TEMPLATE,\n",
    "    output_parser=output_parser,\n",
    ")\n",
    "context_filtering_chain = LLMChain(llm=llm, prompt=context_filtering_prompt, verbose=False)"
   ]
  },
  {
   "cell_type": "code",
   "execution_count": 6,
   "id": "e39d1bc4-83df-49e4-a688-19bf9437acd5",
   "metadata": {},
   "outputs": [],
   "source": [
    "doc_index = WeaviateIndex('IndexV1', 'content', ['url']) \n",
    "widget_index = WeaviateIndex('WidgetV1', 'content')\n",
    "similarity_config = {\n",
    "    \"properties\": [\n",
    "        {\n",
    "            \"name\": \"name\",\n",
    "            \"weight\": 1.0\n",
    "        }\n",
    "    ],\n",
    "    \"weights\": {\n",
    "        \"name\": 1.0\n",
    "    },\n",
    "    \"similarity\": {\n",
    "        \"distance\": \"Euclidean\"\n",
    "    }\n",
    "}"
   ]
  },
  {
   "cell_type": "code",
   "execution_count": 7,
   "id": "f84112e8-25b2-4bf9-9183-6039cb124738",
   "metadata": {},
   "outputs": [
    {
     "name": "stdout",
     "output_type": "stream",
     "text": [
      "--------question--------\n",
      "What are some of the advantages of using a decentralized exchange?\n",
      "--------discarded--------\n",
      "https://docs.dodoex.io/english/dodo-academy/economics-102\n",
      "The DeFi Summer in mid-2020 kicked off the decentralized marketplaces boom. Trading volumes have soared to levels comparable to centralized exchanges as more technical solutions to liquidity problems have been introduced. In fact, in a letter filed with the SEC in February along with its stock offering statement, Coinbase cited the rise of decentralized exchanges as a key risk to its business model. Innovations in liquidity have helped drive the boom in DEX trading volume. Liquidity mining offers a new asset type for investors willing to build liquidity pools - governance tokens - and incentivizes holders to influence projects. This approach proliferated in 2020, and many platforms are taking a similar approach, allowing liquidity providers to have a greater impact on prices.\n",
      "\n",
      "--------selected--------\n",
      "https://velas.com/en/blog/cex-vs-dex-difference\n",
      "CEX Advantages and disadvantages: Huge trading volumes, convenient conversion to fiat currencies and vice versa, extended capabilities, user-friendliness. Disadvantages: strict KYC policies, lack of user account control, inability to access to private keys, frequent hacking attacks.\n",
      "\n",
      "DEX Advantages and disadvantages: Complete privacy for end users, increased security. Disadvantages: loss of data (private key) to restore the wallet, open source nature. How does DEX work: uses smart contracts to trade cryptocurrencies between participants, transactions are performed on the basis of smart contracts and entered into the blockchain.\n",
      "\n",
      "--------selected--------\n",
      "https://blog.orionprotocol.io/futureofexchanges\n",
      "Many crypto enthusiasts believe that decentralized finance is the only viable way forward for the landscape. Bitcoin emerged out of a firm sense of the importance of self-sovereignty and individual ownership as the paths toward freedom. It is no coincidence that Bitcoin emerged in the wake of the 2008 financial crisis; a widespread distrust in centralized financial institutions and the broader financial system stoked a growing notion that individuals could take control over their financial futures. When transactions remain on-chain, full transparency is not just an ideal to strive for—it’s the only possible outcome, and smart contracts are both secure and fully verifiable. Anyone with an internet connection can participate.\n",
      "\n",
      "The most notable downside of DeFi exchanges is industry fragmentation, while the number of digital assets is ever-growing. The ideal future for crypto exchanges is likely for both centralized and DeFi exchanges to exist and serve their different functions based on customer expectations. Centralized exchanges should be reigned in so they operate with transparency and consistency, allowing users to know how their funds are being managed.\n",
      "\n",
      "Orion Protocol offers access to most major crypto exchanges, in addition to notable swap pools for yield farming. The project offers seamless access to the largest platforms in crypto, helping users sidestep common problems associated with trading crypto on traditional platforms and prediction markets. Orion is a non-custodial DeFi platform, meaning—unlike centralized platforms—users don’t give up control of their funds when making financial transactions. Orion matches orders in a peer-to-peer fashion, reducing trading risk and making executions near-instant.\n",
      "\n",
      "--------selected--------\n",
      "https://blog.cindicator.com/rss\n",
      "Decentralized exchanges are attractive to those who value privacy. The creation of cryptocurrency was motivated by several reasons: an unfair and antiquated banking system, a way to give the power of money back to the people, and to provide more privacy to those who value their privacy. Decentralized exchanges often will not require identity verifications, providing a more private alternative.\n",
      "\n",
      "It is important to note that you need to have a self-custody wallet to use decentralized exchanges. Self-custody is the bedrock of decentralization. When the proper precautions are taken, self-custody provides you with complete control of your cryptocurrency: out of reach from malignant governments, institutions, and hackers.\n",
      "\n",
      "Ecosystem decentralized exchanges are functionally identical to traditional decentralized exchanges, but they are narrower in scope. Ethereum is what we call a “Platform or Layer 1” token. As a “platform” or “ecosystem”, other cryptocurrencies and protocols can be built on the Ethereum platform.\n",
      "\n",
      "Pseudo cryptocurrency exchanges are, hopefully, going to fade out quickly. A Pseudo cryptocurrency exchange allows you to “buy” cryptocurrency, but it does not actually give you any ownership of the currency. You cannot withdraw your crypto from a Pseudo cryptocurrency exchange to a self-custody wallet, only sell it back to the exchange you purchased it from.\n",
      "\n",
      "Key Takeaways:\n",
      "Avoid Pseudo Exchanges\n",
      "Centralized exchanges are generally ok, but there is a risk of hacks or insolvency (“not your keys, not your crypto”) as private keys are the “password” for a self-custody wallet\n",
      "Decentralized Exchanges are likely to rise in prominence in the future, but there is a larger learning curve to navigating these exchanges.\n",
      "\n"
     ]
    }
   ],
   "source": [
    "question = 'What are some of the advantages of using a decentralized exchange?'\n",
    "docs = doc_index.similarity_search(question, config=similarity_config)\n",
    "\n",
    "print(\"--------question--------\")\n",
    "print(question)\n",
    "for doc in docs:\n",
    "    page_content = text_cleaning_chain.apply_and_parse([{\"text\":doc.page_content}])[0]\n",
    "    inp = {\n",
    "        \"url\": doc.metadata['url'],\n",
    "        \"source\": page_content,\n",
    "        \"question\": question,\n",
    "        \"stop\": \"\\n\",\n",
    "    }\n",
    "\n",
    "    result = context_filtering_chain.apply_and_parse([inp])[0]\n",
    "    if result==\"Yes\": \n",
    "        print(\"--------selected--------\")\n",
    "    else:\n",
    "        print(\"--------discarded--------\")\n",
    "    print(doc.metadata['url'])\n",
    "    print(page_content)\n",
    "    print()"
   ]
  }
 ],
 "metadata": {
  "kernelspec": {
   "display_name": "Python 3",
   "language": "python",
   "name": "python3"
  },
  "language_info": {
   "codemirror_mode": {
    "name": "ipython",
    "version": 3
   },
   "file_extension": ".py",
   "mimetype": "text/x-python",
   "name": "python",
   "nbconvert_exporter": "python",
   "pygments_lexer": "ipython3",
   "version": "3.7.9"
  },
  "vscode": {
   "interpreter": {
    "hash": "3ff611aa1160e8ad21a6ead3e75e27f961b4f3abfd6b4b0e97df89b6a788093c"
   }
  }
 },
 "nbformat": 4,
 "nbformat_minor": 5
}
