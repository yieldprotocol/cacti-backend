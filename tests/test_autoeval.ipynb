{
 "cells": [
  {
   "cell_type": "code",
   "execution_count": 1,
   "metadata": {},
   "outputs": [
    {
     "name": "stderr",
     "output_type": "stream",
     "text": [
      "INFO:env:Loading env file c:\\Users\\HARSH\\Documents\\crypto-LLM-exps\\cacti-backend\\tests\\..\\env\\dev.yaml\n"
     ]
    },
    {
     "name": "stdout",
     "output_type": "stream",
     "text": [
      "Added to class registry: chat.simple.SimpleChat\n",
      "Added to class registry: chat.rephrase.RephraseChat\n",
      "Added to class registry: chat.rephrase_cited.RephraseCitedChat\n",
      "Added to class registry: chains.api_chain.IndexAPIChain\n",
      "Added to class registry: chat.widget_search.WidgetSearchChat\n"
     ]
    },
    {
     "name": "stderr",
     "output_type": "stream",
     "text": [
      "c:\\Users\\HARSH\\Documents\\crypto-LLM-exps\\cacti-backend\\venv\\Lib\\site-packages\\tqdm\\auto.py:21: TqdmWarning: IProgress not found. Please update jupyter and ipywidgets. See https://ipywidgets.readthedocs.io/en/stable/user_install.html\n",
      "  from .autonotebook import tqdm as notebook_tqdm\n"
     ]
    },
    {
     "name": "stdout",
     "output_type": "stream",
     "text": [
      "Added to class registry: tools.index_lookup.IndexLookupTool\n",
      "Added to class registry: tools.index_answer.IndexAnswerTool\n",
      "Added to class registry: tools.index_widget.IndexWidgetTool\n",
      "Added to class registry: index.weaviate.WeaviateIndex\n",
      "Added to class registry: tools.index_app_info.IndexAppInfoTool\n",
      "Added to class registry: tools.index_api_tool.IndexAPITool\n",
      "Added to class registry: chat.rephrase_widget_search.RephraseWidgetSearchChat\n",
      "Added to class registry: chat.rephrase_widget_search2.RephraseWidgetSearchChat\n",
      "Added to class registry: chat.basic_agent.BasicAgentChat\n",
      "Added to class registry: chat.fine_tuned.FineTunedChat\n",
      "Added to class registry: chat.chatgpt_function_call.ChatGPTFunctionCallChat\n",
      "Added to class registry: system.System\n",
      "Initializing instance of type: index.weaviate.WeaviateIndex\n",
      "Initializing instance of type: chat.chatgpt_function_call.ChatGPTFunctionCallChat\n",
      "Initializing instance of type: system.System\n"
     ]
    }
   ],
   "source": [
    "import sys\n",
    "sys.path.insert(0, '../')\n",
    "\n",
    "import uuid\n",
    "import os\n",
    "import re\n",
    "import json \n",
    "import time\n",
    "import random\n",
    "from typing import Any, Callable, Generator\n",
    "\n",
    "from langchain.llms import OpenAI\n",
    "from langchain.chat_models import ChatOpenAI\n",
    "from langchain.schema import HumanMessage, AIMessage, SystemMessage\n",
    "from langchain.prompts import PromptTemplate\n",
    "from langchain.chains import LLMChain\n",
    "from langchain.prompts.base import BaseOutputParser\n",
    "from langchain.agents import load_tools, Tool\n",
    "from langchain.agents import initialize_agent\n",
    "from langchain.llms import OpenAI\n",
    "\n",
    "from chat.base import BaseChat, ChatHistory, Response\n",
    "from chat.widget_search import ChatOutputParser, WIDGET_INSTRUCTION, SEARCH_INSTRUCTION, TEMPLATE, IDENTIFY_TEMPLATE\n",
    "from chat.base import *\n",
    "from index.weaviate import *\n",
    "from index.widgets import *\n",
    "from utils import *\n",
    "from config import *\n",
    "from system import *\n",
    "from tools import *\n",
    "\n",
    "set_api_key()\n",
    "\n",
    "def send_message(resp, before_message_id=None, last_chat_message_id=None):\n",
    "    if resp.operation == 'replace':\n",
    "        print(resp.response)\n",
    "    return 1\n",
    "\n",
    "system = initialize(default_config)"
   ]
  },
  {
   "cell_type": "code",
   "execution_count": 2,
   "metadata": {},
   "outputs": [],
   "source": [
    "s = '\\\\'\n",
    "with open(f\"{'/'.join(os.getcwd().split(s)[:-1])}/knowledge_base/widgets.txt\", 'r') as f: widgets = f.read()\n",
    "# widgets = re.sub(re.compile(r\"<\\||\\|>|{|}\"), '', widgets).replace('-', '_').replace('Widget magic command', 'Function').replace('widget', 'function')\n",
    "widgets_k = '---'.join(random.choices(widgets.split('---'), k=7))\n",
    "system_message = f\"\"\"You have to imitate a human user who asks a chatbot queries related to web3. The bot triggers one of the below given widget commands to respond to the query. As the response it might pass a widget command. Sometimes when running the function (associated with the widget command), it may return an error which you should ignore and continue on the conversation.\\n\n",
    "{widgets_k}\"\"\"\n",
    "\n",
    "messages = [SystemMessage(content=system_message)]\n",
    "history = ChatHistory([], uuid.UUID, '0x4eD15A17A9CDF3cc7D6E829428267CaD67d95F8F')\n",
    "llm = ChatOpenAI(model_name=\"gpt-4\", max_tokens=60, temperature=0.5,)"
   ]
  },
  {
   "cell_type": "code",
   "execution_count": 3,
   "metadata": {},
   "outputs": [
    {
     "name": "stdout",
     "output_type": "stream",
     "text": [
      "User Input: Hi there! Can you help me find the ENS domain name for this wallet address: 0x742d35Cc6634C0532925a3b844Bc454e4438f44e?\n",
      "timing - first_token:  1.67s\n",
      "timing - first_widget_token:  1.67s\n",
      "timing - first_widget_command:  3.39s\n",
      "found command: ens-from-address ['0x742d35Cc6634C0532925a3b844Bc454e4438f44e']\n"
     ]
    },
    {
     "name": "stderr",
     "output_type": "stream",
     "text": [
      "Traceback (most recent call last):\n",
      "  File \"c:\\Users\\HARSH\\Documents\\crypto-LLM-exps\\cacti-backend\\tests\\..\\tools\\index_widget.py\", line 535, in ens_from_address\n",
      "    domain = utils.ns.name(address)\n",
      "             ^^^^^^^^^^^^^^^^^^^^^^\n",
      "  File \"c:\\Users\\HARSH\\Documents\\crypto-LLM-exps\\cacti-backend\\venv\\Lib\\site-packages\\ens\\ens.py\", line 201, in name\n",
      "    name = self._resolve(reversed_domain, fn_name=\"name\")\n",
      "           ^^^^^^^^^^^^^^^^^^^^^^^^^^^^^^^^^^^^^^^^^^^^^^\n",
      "  File \"c:\\Users\\HARSH\\Documents\\crypto-LLM-exps\\cacti-backend\\venv\\Lib\\site-packages\\ens\\ens.py\", line 456, in _resolve\n",
      "    resolver, current_name = self._get_resolver(normal_name, fn_name)\n",
      "                             ^^^^^^^^^^^^^^^^^^^^^^^^^^^^^^^^^^^^^^^^\n",
      "  File \"c:\\Users\\HARSH\\Documents\\crypto-LLM-exps\\cacti-backend\\venv\\Lib\\site-packages\\ens\\ens.py\", line 424, in _get_resolver\n",
      "    resolver_addr = self.ens.caller.resolver(normal_name_to_hash(current_name))\n",
      "                    ^^^^^^^^^^^^^^^^^^^^^^^^^^^^^^^^^^^^^^^^^^^^^^^^^^^^^^^^^^^\n",
      "  File \"c:\\Users\\HARSH\\Documents\\crypto-LLM-exps\\cacti-backend\\venv\\Lib\\site-packages\\web3\\contract\\base_contract.py\", line 1099, in call_function\n",
      "    return fn(*args, **kwargs).call(\n",
      "           ^^^^^^^^^^^^^^^^^^^^^^^^^\n",
      "  File \"c:\\Users\\HARSH\\Documents\\crypto-LLM-exps\\cacti-backend\\venv\\Lib\\site-packages\\web3\\contract\\contract.py\", line 461, in call\n",
      "    return call_contract_function(\n",
      "           ^^^^^^^^^^^^^^^^^^^^^^^\n",
      "  File \"c:\\Users\\HARSH\\Documents\\crypto-LLM-exps\\cacti-backend\\venv\\Lib\\site-packages\\web3\\contract\\utils.py\", line 96, in call_contract_function\n",
      "    return_data = w3.eth.call(\n",
      "                  ^^^^^^^^^^^^\n",
      "  File \"c:\\Users\\HARSH\\Documents\\crypto-LLM-exps\\cacti-backend\\venv\\Lib\\site-packages\\web3\\eth\\eth.py\", line 255, in call\n",
      "    return self._durin_call(transaction, block_identifier, state_override)\n",
      "           ^^^^^^^^^^^^^^^^^^^^^^^^^^^^^^^^^^^^^^^^^^^^^^^^^^^^^^^^^^^^^^^\n",
      "  File \"c:\\Users\\HARSH\\Documents\\crypto-LLM-exps\\cacti-backend\\venv\\Lib\\site-packages\\web3\\eth\\eth.py\", line 274, in _durin_call\n",
      "    return self._call(transaction, block_identifier, state_override)\n",
      "           ^^^^^^^^^^^^^^^^^^^^^^^^^^^^^^^^^^^^^^^^^^^^^^^^^^^^^^^^^\n",
      "  File \"c:\\Users\\HARSH\\Documents\\crypto-LLM-exps\\cacti-backend\\venv\\Lib\\site-packages\\web3\\module.py\", line 68, in caller\n",
      "    result = w3.manager.request_blocking(\n",
      "             ^^^^^^^^^^^^^^^^^^^^^^^^^^^^\n",
      "  File \"c:\\Users\\HARSH\\Documents\\crypto-LLM-exps\\cacti-backend\\venv\\Lib\\site-packages\\web3\\manager.py\", line 231, in request_blocking\n",
      "    response = self._make_request(method, params)\n",
      "               ^^^^^^^^^^^^^^^^^^^^^^^^^^^^^^^^^^\n",
      "  File \"c:\\Users\\HARSH\\Documents\\crypto-LLM-exps\\cacti-backend\\venv\\Lib\\site-packages\\web3\\manager.py\", line 175, in _make_request\n",
      "    return request_func(method, params)\n",
      "           ^^^^^^^^^^^^^^^^^^^^^^^^^^^^\n",
      "  File \"c:\\Users\\HARSH\\Documents\\crypto-LLM-exps\\cacti-backend\\venv\\Lib\\site-packages\\web3\\middleware\\stalecheck.py\", line 70, in middleware\n",
      "    raise StaleBlockchain(latest, allowable_delay)\n",
      "web3.exceptions.StaleBlockchain: The latest block, #17366248, is 288263.91591382027 seconds old, but is only allowed to be 172800 s old. The date of the most recent block is Fri Jun 23 14:41:32 2023. Continue syncing and try again...\n"
     ]
    },
    {
     "name": "stdout",
     "output_type": "stream",
     "text": [
      "timing - first_visible_widget_response_token:  4.02s\n",
      "timing - first_visible_bot_token:  4.02s\n",
      "timing - response_done:  4.02s\n",
      "Unable to process address 0x742d35Cc6634C0532925a3b844Bc454e4438f44e\n",
      "Cacti Bot: Unable to process address 0x742d35Cc6634C0532925a3b844Bc454e4438f44e\n",
      "\n",
      "User Input: That's okay. Let's move on. I'd like to set a primary ENS name for my connected wallet. Can you help me set the domain name to \"example.eth\"?\n",
      "timing - first_token:  1.98s\n",
      "timing - first_widget_token:  1.98s\n",
      "timing - first_widget_command:  2.61s\n",
      "found command: set-ens-primary-name ['example.eth']\n",
      "Single-step contract workflow started, wf_type: set-ens-primary-name, chat_message_id: <class 'uuid.UUID'>, wf_params: {'domain': 'example.eth'}\n",
      "SINGLE STEP CONTRACT WORKFLOW VALIDATION ERROR, wf_type: set-ens-primary-name, chat_message_id: <class 'uuid.UUID'>, wf_params: {'domain': 'example.eth'}\n",
      "Single-step contract workflow ended, wf_type: set-ens-primary-name, chat_message_id: <class 'uuid.UUID'>, wf_params: {'domain': 'example.eth'}\n",
      "timing - first_visible_widget_response_token:  3.13s\n",
      "timing - first_visible_bot_token:  3.13s\n",
      "timing - response_done:  3.13s\n",
      "<|display-tx-payload-for-sending-container({\"userRequestStatus\": \"error\", \"parsedUserRequest\": \"\", \"tx\": null, \"isApprovalTx\": false, \"errorMsg\": \"Wallet address has zero ETH balance\", \"description\": \"Set ENS example.eth as primary name for wallet address '0x4eD15A17A9CDF3cc7D6E829428267CaD67d95F8F'\"})|>\n",
      "Cacti Bot: A transaction was presented for sending: Set ENS example.eth as primary name for wallet address '0x4eD15A17A9CDF3cc7D6E829428267CaD67d95F8F'.\n",
      "\n"
     ]
    },
    {
     "name": "stderr",
     "output_type": "stream",
     "text": [
      "Traceback (most recent call last):\n",
      "  File \"c:\\Users\\HARSH\\Documents\\crypto-LLM-exps\\cacti-backend\\tests\\..\\ui_workflows\\base\\base_single_step_contract_workflow.py\", line 29, in run\n",
      "    _validate_non_zero_eth_balance(self.wallet_address)\n",
      "  File \"c:\\Users\\HARSH\\Documents\\crypto-LLM-exps\\cacti-backend\\tests\\..\\ui_workflows\\base\\common.py\", line 190, in _validate_non_zero_eth_balance\n",
      "    raise WorkflowValidationError(\"Wallet address has zero ETH balance\")\n",
      "ui_workflows.base.common.WorkflowValidationError: Wallet address has zero ETH balance\n"
     ]
    },
    {
     "name": "stdout",
     "output_type": "stream",
     "text": [
      "User Input: Great! Now, I'd like to transfer 100 DAI tokens to this address: 0x1F497D129Eff5C9E9b0F28d8E9D0eC6b7f7f2E9A. Can you help me with\n",
      "timing - first_token:  3.25s\n",
      "timing - first_widget_token:  3.25s\n",
      "timing - first_widget_command:  6.78s\n",
      "found command: display-transfer ['DAI', '100', '0x1F497D129Eff5C9E9b0F28d8E9D0eC6b7f7f2E9A']\n",
      "timing - first_visible_widget_response_token:  6.78s\n",
      "timing - first_visible_bot_token:  6.78s\n",
      "timing - response_done:  6.78s\n",
      "<|display-transfer(DAI,100,0x1F497D129Eff5C9E9b0F28d8E9D0eC6b7f7f2E9A)|>\n",
      "Cacti Bot: A transfer of 100 DAI to 0x1F497D129Eff5C9E9b0F28d8E9D0eC6b7f7f2E9A\n",
      "\n",
      "User Input: Thank you! I'm also interested in searching for NFT collections related to \"CryptoPunks\". Can you help me with that?\n"
     ]
    },
    {
     "ename": "ConnectionError",
     "evalue": "Query was not successful.",
     "output_type": "error",
     "traceback": [
      "\u001b[1;31m---------------------------------------------------------------------------\u001b[0m",
      "\u001b[1;31mRemoteDisconnected\u001b[0m                        Traceback (most recent call last)",
      "File \u001b[1;32mc:\\Users\\HARSH\\Documents\\crypto-LLM-exps\\cacti-backend\\venv\\Lib\\site-packages\\urllib3\\connectionpool.py:714\u001b[0m, in \u001b[0;36mHTTPConnectionPool.urlopen\u001b[1;34m(self, method, url, body, headers, retries, redirect, assert_same_host, timeout, pool_timeout, release_conn, chunked, body_pos, **response_kw)\u001b[0m\n\u001b[0;32m    713\u001b[0m \u001b[39m# Make the request on the httplib connection object.\u001b[39;00m\n\u001b[1;32m--> 714\u001b[0m httplib_response \u001b[39m=\u001b[39m \u001b[39mself\u001b[39;49m\u001b[39m.\u001b[39;49m_make_request(\n\u001b[0;32m    715\u001b[0m     conn,\n\u001b[0;32m    716\u001b[0m     method,\n\u001b[0;32m    717\u001b[0m     url,\n\u001b[0;32m    718\u001b[0m     timeout\u001b[39m=\u001b[39;49mtimeout_obj,\n\u001b[0;32m    719\u001b[0m     body\u001b[39m=\u001b[39;49mbody,\n\u001b[0;32m    720\u001b[0m     headers\u001b[39m=\u001b[39;49mheaders,\n\u001b[0;32m    721\u001b[0m     chunked\u001b[39m=\u001b[39;49mchunked,\n\u001b[0;32m    722\u001b[0m )\n\u001b[0;32m    724\u001b[0m \u001b[39m# If we're going to release the connection in ``finally:``, then\u001b[39;00m\n\u001b[0;32m    725\u001b[0m \u001b[39m# the response doesn't need to know about the connection. Otherwise\u001b[39;00m\n\u001b[0;32m    726\u001b[0m \u001b[39m# it will also try to release it and we'll have a double-release\u001b[39;00m\n\u001b[0;32m    727\u001b[0m \u001b[39m# mess.\u001b[39;00m\n",
      "File \u001b[1;32mc:\\Users\\HARSH\\Documents\\crypto-LLM-exps\\cacti-backend\\venv\\Lib\\site-packages\\urllib3\\connectionpool.py:466\u001b[0m, in \u001b[0;36mHTTPConnectionPool._make_request\u001b[1;34m(self, conn, method, url, timeout, chunked, **httplib_request_kw)\u001b[0m\n\u001b[0;32m    462\u001b[0m         \u001b[39mexcept\u001b[39;00m \u001b[39mBaseException\u001b[39;00m \u001b[39mas\u001b[39;00m e:\n\u001b[0;32m    463\u001b[0m             \u001b[39m# Remove the TypeError from the exception chain in\u001b[39;00m\n\u001b[0;32m    464\u001b[0m             \u001b[39m# Python 3 (including for exceptions like SystemExit).\u001b[39;00m\n\u001b[0;32m    465\u001b[0m             \u001b[39m# Otherwise it looks like a bug in the code.\u001b[39;00m\n\u001b[1;32m--> 466\u001b[0m             six\u001b[39m.\u001b[39;49mraise_from(e, \u001b[39mNone\u001b[39;49;00m)\n\u001b[0;32m    467\u001b[0m \u001b[39mexcept\u001b[39;00m (SocketTimeout, BaseSSLError, SocketError) \u001b[39mas\u001b[39;00m e:\n",
      "File \u001b[1;32m<string>:3\u001b[0m, in \u001b[0;36mraise_from\u001b[1;34m(value, from_value)\u001b[0m\n",
      "File \u001b[1;32mc:\\Users\\HARSH\\Documents\\crypto-LLM-exps\\cacti-backend\\venv\\Lib\\site-packages\\urllib3\\connectionpool.py:461\u001b[0m, in \u001b[0;36mHTTPConnectionPool._make_request\u001b[1;34m(self, conn, method, url, timeout, chunked, **httplib_request_kw)\u001b[0m\n\u001b[0;32m    460\u001b[0m \u001b[39mtry\u001b[39;00m:\n\u001b[1;32m--> 461\u001b[0m     httplib_response \u001b[39m=\u001b[39m conn\u001b[39m.\u001b[39;49mgetresponse()\n\u001b[0;32m    462\u001b[0m \u001b[39mexcept\u001b[39;00m \u001b[39mBaseException\u001b[39;00m \u001b[39mas\u001b[39;00m e:\n\u001b[0;32m    463\u001b[0m     \u001b[39m# Remove the TypeError from the exception chain in\u001b[39;00m\n\u001b[0;32m    464\u001b[0m     \u001b[39m# Python 3 (including for exceptions like SystemExit).\u001b[39;00m\n\u001b[0;32m    465\u001b[0m     \u001b[39m# Otherwise it looks like a bug in the code.\u001b[39;00m\n",
      "File \u001b[1;32mC:\\Python311\\Lib\\http\\client.py:1374\u001b[0m, in \u001b[0;36mHTTPConnection.getresponse\u001b[1;34m(self)\u001b[0m\n\u001b[0;32m   1373\u001b[0m \u001b[39mtry\u001b[39;00m:\n\u001b[1;32m-> 1374\u001b[0m     response\u001b[39m.\u001b[39;49mbegin()\n\u001b[0;32m   1375\u001b[0m \u001b[39mexcept\u001b[39;00m \u001b[39mConnectionError\u001b[39;00m:\n",
      "File \u001b[1;32mC:\\Python311\\Lib\\http\\client.py:318\u001b[0m, in \u001b[0;36mHTTPResponse.begin\u001b[1;34m(self)\u001b[0m\n\u001b[0;32m    317\u001b[0m \u001b[39mwhile\u001b[39;00m \u001b[39mTrue\u001b[39;00m:\n\u001b[1;32m--> 318\u001b[0m     version, status, reason \u001b[39m=\u001b[39m \u001b[39mself\u001b[39;49m\u001b[39m.\u001b[39;49m_read_status()\n\u001b[0;32m    319\u001b[0m     \u001b[39mif\u001b[39;00m status \u001b[39m!=\u001b[39m CONTINUE:\n",
      "File \u001b[1;32mC:\\Python311\\Lib\\http\\client.py:287\u001b[0m, in \u001b[0;36mHTTPResponse._read_status\u001b[1;34m(self)\u001b[0m\n\u001b[0;32m    284\u001b[0m \u001b[39mif\u001b[39;00m \u001b[39mnot\u001b[39;00m line:\n\u001b[0;32m    285\u001b[0m     \u001b[39m# Presumably, the server closed the connection before\u001b[39;00m\n\u001b[0;32m    286\u001b[0m     \u001b[39m# sending a valid response.\u001b[39;00m\n\u001b[1;32m--> 287\u001b[0m     \u001b[39mraise\u001b[39;00m RemoteDisconnected(\u001b[39m\"\u001b[39m\u001b[39mRemote end closed connection without\u001b[39m\u001b[39m\"\u001b[39m\n\u001b[0;32m    288\u001b[0m                              \u001b[39m\"\u001b[39m\u001b[39m response\u001b[39m\u001b[39m\"\u001b[39m)\n\u001b[0;32m    289\u001b[0m \u001b[39mtry\u001b[39;00m:\n",
      "\u001b[1;31mRemoteDisconnected\u001b[0m: Remote end closed connection without response",
      "\nDuring handling of the above exception, another exception occurred:\n",
      "\u001b[1;31mProtocolError\u001b[0m                             Traceback (most recent call last)",
      "File \u001b[1;32mc:\\Users\\HARSH\\Documents\\crypto-LLM-exps\\cacti-backend\\venv\\Lib\\site-packages\\requests\\adapters.py:489\u001b[0m, in \u001b[0;36mHTTPAdapter.send\u001b[1;34m(self, request, stream, timeout, verify, cert, proxies)\u001b[0m\n\u001b[0;32m    488\u001b[0m \u001b[39mif\u001b[39;00m \u001b[39mnot\u001b[39;00m chunked:\n\u001b[1;32m--> 489\u001b[0m     resp \u001b[39m=\u001b[39m conn\u001b[39m.\u001b[39;49murlopen(\n\u001b[0;32m    490\u001b[0m         method\u001b[39m=\u001b[39;49mrequest\u001b[39m.\u001b[39;49mmethod,\n\u001b[0;32m    491\u001b[0m         url\u001b[39m=\u001b[39;49murl,\n\u001b[0;32m    492\u001b[0m         body\u001b[39m=\u001b[39;49mrequest\u001b[39m.\u001b[39;49mbody,\n\u001b[0;32m    493\u001b[0m         headers\u001b[39m=\u001b[39;49mrequest\u001b[39m.\u001b[39;49mheaders,\n\u001b[0;32m    494\u001b[0m         redirect\u001b[39m=\u001b[39;49m\u001b[39mFalse\u001b[39;49;00m,\n\u001b[0;32m    495\u001b[0m         assert_same_host\u001b[39m=\u001b[39;49m\u001b[39mFalse\u001b[39;49;00m,\n\u001b[0;32m    496\u001b[0m         preload_content\u001b[39m=\u001b[39;49m\u001b[39mFalse\u001b[39;49;00m,\n\u001b[0;32m    497\u001b[0m         decode_content\u001b[39m=\u001b[39;49m\u001b[39mFalse\u001b[39;49;00m,\n\u001b[0;32m    498\u001b[0m         retries\u001b[39m=\u001b[39;49m\u001b[39mself\u001b[39;49m\u001b[39m.\u001b[39;49mmax_retries,\n\u001b[0;32m    499\u001b[0m         timeout\u001b[39m=\u001b[39;49mtimeout,\n\u001b[0;32m    500\u001b[0m     )\n\u001b[0;32m    502\u001b[0m \u001b[39m# Send the request.\u001b[39;00m\n\u001b[0;32m    503\u001b[0m \u001b[39melse\u001b[39;00m:\n",
      "File \u001b[1;32mc:\\Users\\HARSH\\Documents\\crypto-LLM-exps\\cacti-backend\\venv\\Lib\\site-packages\\urllib3\\connectionpool.py:798\u001b[0m, in \u001b[0;36mHTTPConnectionPool.urlopen\u001b[1;34m(self, method, url, body, headers, retries, redirect, assert_same_host, timeout, pool_timeout, release_conn, chunked, body_pos, **response_kw)\u001b[0m\n\u001b[0;32m    796\u001b[0m     e \u001b[39m=\u001b[39m ProtocolError(\u001b[39m\"\u001b[39m\u001b[39mConnection aborted.\u001b[39m\u001b[39m\"\u001b[39m, e)\n\u001b[1;32m--> 798\u001b[0m retries \u001b[39m=\u001b[39m retries\u001b[39m.\u001b[39;49mincrement(\n\u001b[0;32m    799\u001b[0m     method, url, error\u001b[39m=\u001b[39;49me, _pool\u001b[39m=\u001b[39;49m\u001b[39mself\u001b[39;49m, _stacktrace\u001b[39m=\u001b[39;49msys\u001b[39m.\u001b[39;49mexc_info()[\u001b[39m2\u001b[39;49m]\n\u001b[0;32m    800\u001b[0m )\n\u001b[0;32m    801\u001b[0m retries\u001b[39m.\u001b[39msleep()\n",
      "File \u001b[1;32mc:\\Users\\HARSH\\Documents\\crypto-LLM-exps\\cacti-backend\\venv\\Lib\\site-packages\\urllib3\\util\\retry.py:550\u001b[0m, in \u001b[0;36mRetry.increment\u001b[1;34m(self, method, url, response, error, _pool, _stacktrace)\u001b[0m\n\u001b[0;32m    549\u001b[0m \u001b[39mif\u001b[39;00m read \u001b[39mis\u001b[39;00m \u001b[39mFalse\u001b[39;00m \u001b[39mor\u001b[39;00m \u001b[39mnot\u001b[39;00m \u001b[39mself\u001b[39m\u001b[39m.\u001b[39m_is_method_retryable(method):\n\u001b[1;32m--> 550\u001b[0m     \u001b[39mraise\u001b[39;00m six\u001b[39m.\u001b[39;49mreraise(\u001b[39mtype\u001b[39;49m(error), error, _stacktrace)\n\u001b[0;32m    551\u001b[0m \u001b[39melif\u001b[39;00m read \u001b[39mis\u001b[39;00m \u001b[39mnot\u001b[39;00m \u001b[39mNone\u001b[39;00m:\n",
      "File \u001b[1;32mc:\\Users\\HARSH\\Documents\\crypto-LLM-exps\\cacti-backend\\venv\\Lib\\site-packages\\urllib3\\packages\\six.py:769\u001b[0m, in \u001b[0;36mreraise\u001b[1;34m(tp, value, tb)\u001b[0m\n\u001b[0;32m    768\u001b[0m \u001b[39mif\u001b[39;00m value\u001b[39m.\u001b[39m__traceback__ \u001b[39mis\u001b[39;00m \u001b[39mnot\u001b[39;00m tb:\n\u001b[1;32m--> 769\u001b[0m     \u001b[39mraise\u001b[39;00m value\u001b[39m.\u001b[39mwith_traceback(tb)\n\u001b[0;32m    770\u001b[0m \u001b[39mraise\u001b[39;00m value\n",
      "File \u001b[1;32mc:\\Users\\HARSH\\Documents\\crypto-LLM-exps\\cacti-backend\\venv\\Lib\\site-packages\\urllib3\\connectionpool.py:714\u001b[0m, in \u001b[0;36mHTTPConnectionPool.urlopen\u001b[1;34m(self, method, url, body, headers, retries, redirect, assert_same_host, timeout, pool_timeout, release_conn, chunked, body_pos, **response_kw)\u001b[0m\n\u001b[0;32m    713\u001b[0m \u001b[39m# Make the request on the httplib connection object.\u001b[39;00m\n\u001b[1;32m--> 714\u001b[0m httplib_response \u001b[39m=\u001b[39m \u001b[39mself\u001b[39;49m\u001b[39m.\u001b[39;49m_make_request(\n\u001b[0;32m    715\u001b[0m     conn,\n\u001b[0;32m    716\u001b[0m     method,\n\u001b[0;32m    717\u001b[0m     url,\n\u001b[0;32m    718\u001b[0m     timeout\u001b[39m=\u001b[39;49mtimeout_obj,\n\u001b[0;32m    719\u001b[0m     body\u001b[39m=\u001b[39;49mbody,\n\u001b[0;32m    720\u001b[0m     headers\u001b[39m=\u001b[39;49mheaders,\n\u001b[0;32m    721\u001b[0m     chunked\u001b[39m=\u001b[39;49mchunked,\n\u001b[0;32m    722\u001b[0m )\n\u001b[0;32m    724\u001b[0m \u001b[39m# If we're going to release the connection in ``finally:``, then\u001b[39;00m\n\u001b[0;32m    725\u001b[0m \u001b[39m# the response doesn't need to know about the connection. Otherwise\u001b[39;00m\n\u001b[0;32m    726\u001b[0m \u001b[39m# it will also try to release it and we'll have a double-release\u001b[39;00m\n\u001b[0;32m    727\u001b[0m \u001b[39m# mess.\u001b[39;00m\n",
      "File \u001b[1;32mc:\\Users\\HARSH\\Documents\\crypto-LLM-exps\\cacti-backend\\venv\\Lib\\site-packages\\urllib3\\connectionpool.py:466\u001b[0m, in \u001b[0;36mHTTPConnectionPool._make_request\u001b[1;34m(self, conn, method, url, timeout, chunked, **httplib_request_kw)\u001b[0m\n\u001b[0;32m    462\u001b[0m         \u001b[39mexcept\u001b[39;00m \u001b[39mBaseException\u001b[39;00m \u001b[39mas\u001b[39;00m e:\n\u001b[0;32m    463\u001b[0m             \u001b[39m# Remove the TypeError from the exception chain in\u001b[39;00m\n\u001b[0;32m    464\u001b[0m             \u001b[39m# Python 3 (including for exceptions like SystemExit).\u001b[39;00m\n\u001b[0;32m    465\u001b[0m             \u001b[39m# Otherwise it looks like a bug in the code.\u001b[39;00m\n\u001b[1;32m--> 466\u001b[0m             six\u001b[39m.\u001b[39;49mraise_from(e, \u001b[39mNone\u001b[39;49;00m)\n\u001b[0;32m    467\u001b[0m \u001b[39mexcept\u001b[39;00m (SocketTimeout, BaseSSLError, SocketError) \u001b[39mas\u001b[39;00m e:\n",
      "File \u001b[1;32m<string>:3\u001b[0m, in \u001b[0;36mraise_from\u001b[1;34m(value, from_value)\u001b[0m\n",
      "File \u001b[1;32mc:\\Users\\HARSH\\Documents\\crypto-LLM-exps\\cacti-backend\\venv\\Lib\\site-packages\\urllib3\\connectionpool.py:461\u001b[0m, in \u001b[0;36mHTTPConnectionPool._make_request\u001b[1;34m(self, conn, method, url, timeout, chunked, **httplib_request_kw)\u001b[0m\n\u001b[0;32m    460\u001b[0m \u001b[39mtry\u001b[39;00m:\n\u001b[1;32m--> 461\u001b[0m     httplib_response \u001b[39m=\u001b[39m conn\u001b[39m.\u001b[39;49mgetresponse()\n\u001b[0;32m    462\u001b[0m \u001b[39mexcept\u001b[39;00m \u001b[39mBaseException\u001b[39;00m \u001b[39mas\u001b[39;00m e:\n\u001b[0;32m    463\u001b[0m     \u001b[39m# Remove the TypeError from the exception chain in\u001b[39;00m\n\u001b[0;32m    464\u001b[0m     \u001b[39m# Python 3 (including for exceptions like SystemExit).\u001b[39;00m\n\u001b[0;32m    465\u001b[0m     \u001b[39m# Otherwise it looks like a bug in the code.\u001b[39;00m\n",
      "File \u001b[1;32mC:\\Python311\\Lib\\http\\client.py:1374\u001b[0m, in \u001b[0;36mHTTPConnection.getresponse\u001b[1;34m(self)\u001b[0m\n\u001b[0;32m   1373\u001b[0m \u001b[39mtry\u001b[39;00m:\n\u001b[1;32m-> 1374\u001b[0m     response\u001b[39m.\u001b[39;49mbegin()\n\u001b[0;32m   1375\u001b[0m \u001b[39mexcept\u001b[39;00m \u001b[39mConnectionError\u001b[39;00m:\n",
      "File \u001b[1;32mC:\\Python311\\Lib\\http\\client.py:318\u001b[0m, in \u001b[0;36mHTTPResponse.begin\u001b[1;34m(self)\u001b[0m\n\u001b[0;32m    317\u001b[0m \u001b[39mwhile\u001b[39;00m \u001b[39mTrue\u001b[39;00m:\n\u001b[1;32m--> 318\u001b[0m     version, status, reason \u001b[39m=\u001b[39m \u001b[39mself\u001b[39;49m\u001b[39m.\u001b[39;49m_read_status()\n\u001b[0;32m    319\u001b[0m     \u001b[39mif\u001b[39;00m status \u001b[39m!=\u001b[39m CONTINUE:\n",
      "File \u001b[1;32mC:\\Python311\\Lib\\http\\client.py:287\u001b[0m, in \u001b[0;36mHTTPResponse._read_status\u001b[1;34m(self)\u001b[0m\n\u001b[0;32m    284\u001b[0m \u001b[39mif\u001b[39;00m \u001b[39mnot\u001b[39;00m line:\n\u001b[0;32m    285\u001b[0m     \u001b[39m# Presumably, the server closed the connection before\u001b[39;00m\n\u001b[0;32m    286\u001b[0m     \u001b[39m# sending a valid response.\u001b[39;00m\n\u001b[1;32m--> 287\u001b[0m     \u001b[39mraise\u001b[39;00m RemoteDisconnected(\u001b[39m\"\u001b[39m\u001b[39mRemote end closed connection without\u001b[39m\u001b[39m\"\u001b[39m\n\u001b[0;32m    288\u001b[0m                              \u001b[39m\"\u001b[39m\u001b[39m response\u001b[39m\u001b[39m\"\u001b[39m)\n\u001b[0;32m    289\u001b[0m \u001b[39mtry\u001b[39;00m:\n",
      "\u001b[1;31mProtocolError\u001b[0m: ('Connection aborted.', RemoteDisconnected('Remote end closed connection without response'))",
      "\nDuring handling of the above exception, another exception occurred:\n",
      "\u001b[1;31mConnectionError\u001b[0m                           Traceback (most recent call last)",
      "File \u001b[1;32mc:\\Users\\HARSH\\Documents\\crypto-LLM-exps\\cacti-backend\\venv\\Lib\\site-packages\\weaviate\\gql\\filter.py:68\u001b[0m, in \u001b[0;36mGraphQL.do\u001b[1;34m(self)\u001b[0m\n\u001b[0;32m     67\u001b[0m \u001b[39mtry\u001b[39;00m:\n\u001b[1;32m---> 68\u001b[0m     response \u001b[39m=\u001b[39m \u001b[39mself\u001b[39;49m\u001b[39m.\u001b[39;49m_connection\u001b[39m.\u001b[39;49mpost(path\u001b[39m=\u001b[39;49m\u001b[39m\"\u001b[39;49m\u001b[39m/graphql\u001b[39;49m\u001b[39m\"\u001b[39;49m, weaviate_object\u001b[39m=\u001b[39;49m{\u001b[39m\"\u001b[39;49m\u001b[39mquery\u001b[39;49m\u001b[39m\"\u001b[39;49m: query})\n\u001b[0;32m     69\u001b[0m \u001b[39mexcept\u001b[39;00m RequestsConnectionError \u001b[39mas\u001b[39;00m conn_err:\n",
      "File \u001b[1;32mc:\\Users\\HARSH\\Documents\\crypto-LLM-exps\\cacti-backend\\venv\\Lib\\site-packages\\weaviate\\connect\\connection.py:313\u001b[0m, in \u001b[0;36mBaseConnection.post\u001b[1;34m(self, path, weaviate_object)\u001b[0m\n\u001b[0;32m    311\u001b[0m request_url \u001b[39m=\u001b[39m \u001b[39mself\u001b[39m\u001b[39m.\u001b[39murl \u001b[39m+\u001b[39m \u001b[39mself\u001b[39m\u001b[39m.\u001b[39m_api_version_path \u001b[39m+\u001b[39m path\n\u001b[1;32m--> 313\u001b[0m \u001b[39mreturn\u001b[39;00m \u001b[39mself\u001b[39;49m\u001b[39m.\u001b[39;49m_session\u001b[39m.\u001b[39;49mpost(\n\u001b[0;32m    314\u001b[0m     url\u001b[39m=\u001b[39;49mrequest_url,\n\u001b[0;32m    315\u001b[0m     json\u001b[39m=\u001b[39;49mweaviate_object,\n\u001b[0;32m    316\u001b[0m     headers\u001b[39m=\u001b[39;49m\u001b[39mself\u001b[39;49m\u001b[39m.\u001b[39;49m_get_request_header(),\n\u001b[0;32m    317\u001b[0m     timeout\u001b[39m=\u001b[39;49m\u001b[39mself\u001b[39;49m\u001b[39m.\u001b[39;49m_timeout_config,\n\u001b[0;32m    318\u001b[0m     proxies\u001b[39m=\u001b[39;49m\u001b[39mself\u001b[39;49m\u001b[39m.\u001b[39;49m_proxies,\n\u001b[0;32m    319\u001b[0m )\n",
      "File \u001b[1;32mc:\\Users\\HARSH\\Documents\\crypto-LLM-exps\\cacti-backend\\venv\\Lib\\site-packages\\requests\\sessions.py:635\u001b[0m, in \u001b[0;36mSession.post\u001b[1;34m(self, url, data, json, **kwargs)\u001b[0m\n\u001b[0;32m    625\u001b[0m \u001b[39m\u001b[39m\u001b[39mr\u001b[39m\u001b[39m\"\"\"Sends a POST request. Returns :class:`Response` object.\u001b[39;00m\n\u001b[0;32m    626\u001b[0m \n\u001b[0;32m    627\u001b[0m \u001b[39m:param url: URL for the new :class:`Request` object.\u001b[39;00m\n\u001b[1;32m   (...)\u001b[0m\n\u001b[0;32m    632\u001b[0m \u001b[39m:rtype: requests.Response\u001b[39;00m\n\u001b[0;32m    633\u001b[0m \u001b[39m\"\"\"\u001b[39;00m\n\u001b[1;32m--> 635\u001b[0m \u001b[39mreturn\u001b[39;00m \u001b[39mself\u001b[39;49m\u001b[39m.\u001b[39;49mrequest(\u001b[39m\"\u001b[39;49m\u001b[39mPOST\u001b[39;49m\u001b[39m\"\u001b[39;49m, url, data\u001b[39m=\u001b[39;49mdata, json\u001b[39m=\u001b[39;49mjson, \u001b[39m*\u001b[39;49m\u001b[39m*\u001b[39;49mkwargs)\n",
      "File \u001b[1;32mc:\\Users\\HARSH\\Documents\\crypto-LLM-exps\\cacti-backend\\venv\\Lib\\site-packages\\requests\\sessions.py:587\u001b[0m, in \u001b[0;36mSession.request\u001b[1;34m(self, method, url, params, data, headers, cookies, files, auth, timeout, allow_redirects, proxies, hooks, stream, verify, cert, json)\u001b[0m\n\u001b[0;32m    586\u001b[0m send_kwargs\u001b[39m.\u001b[39mupdate(settings)\n\u001b[1;32m--> 587\u001b[0m resp \u001b[39m=\u001b[39m \u001b[39mself\u001b[39;49m\u001b[39m.\u001b[39;49msend(prep, \u001b[39m*\u001b[39;49m\u001b[39m*\u001b[39;49msend_kwargs)\n\u001b[0;32m    589\u001b[0m \u001b[39mreturn\u001b[39;00m resp\n",
      "File \u001b[1;32mc:\\Users\\HARSH\\Documents\\crypto-LLM-exps\\cacti-backend\\venv\\Lib\\site-packages\\requests\\sessions.py:701\u001b[0m, in \u001b[0;36mSession.send\u001b[1;34m(self, request, **kwargs)\u001b[0m\n\u001b[0;32m    700\u001b[0m \u001b[39m# Send the request\u001b[39;00m\n\u001b[1;32m--> 701\u001b[0m r \u001b[39m=\u001b[39m adapter\u001b[39m.\u001b[39;49msend(request, \u001b[39m*\u001b[39;49m\u001b[39m*\u001b[39;49mkwargs)\n\u001b[0;32m    703\u001b[0m \u001b[39m# Total elapsed time of the request (approximately)\u001b[39;00m\n",
      "File \u001b[1;32mc:\\Users\\HARSH\\Documents\\crypto-LLM-exps\\cacti-backend\\venv\\Lib\\site-packages\\requests\\adapters.py:547\u001b[0m, in \u001b[0;36mHTTPAdapter.send\u001b[1;34m(self, request, stream, timeout, verify, cert, proxies)\u001b[0m\n\u001b[0;32m    546\u001b[0m \u001b[39mexcept\u001b[39;00m (ProtocolError, \u001b[39mOSError\u001b[39;00m) \u001b[39mas\u001b[39;00m err:\n\u001b[1;32m--> 547\u001b[0m     \u001b[39mraise\u001b[39;00m \u001b[39mConnectionError\u001b[39;00m(err, request\u001b[39m=\u001b[39mrequest)\n\u001b[0;32m    549\u001b[0m \u001b[39mexcept\u001b[39;00m MaxRetryError \u001b[39mas\u001b[39;00m e:\n",
      "\u001b[1;31mConnectionError\u001b[0m: ('Connection aborted.', RemoteDisconnected('Remote end closed connection without response'))",
      "\nThe above exception was the direct cause of the following exception:\n",
      "\u001b[1;31mConnectionError\u001b[0m                           Traceback (most recent call last)",
      "Cell \u001b[1;32mIn[3], line 7\u001b[0m\n\u001b[0;32m      4\u001b[0m messages\u001b[39m.\u001b[39mappend(user_message) \u001b[39m# AIMessage\u001b[39;00m\n\u001b[0;32m      5\u001b[0m \u001b[39mprint\u001b[39m(\u001b[39mf\u001b[39m\u001b[39m\"\u001b[39m\u001b[39mUser Input: \u001b[39m\u001b[39m{\u001b[39;00muser_message\u001b[39m.\u001b[39mcontent\u001b[39m}\u001b[39;00m\u001b[39m\"\u001b[39m)\n\u001b[1;32m----> 7\u001b[0m system\u001b[39m.\u001b[39;49mchat\u001b[39m.\u001b[39;49mreceive_input(history, user_message\u001b[39m.\u001b[39;49mcontent, send_message, message_id, before_message_id)\n\u001b[0;32m      8\u001b[0m \u001b[39mfor\u001b[39;00m h \u001b[39min\u001b[39;00m history: \n\u001b[0;32m      9\u001b[0m     \u001b[39mif\u001b[39;00m h\u001b[39m.\u001b[39mactor\u001b[39m==\u001b[39m\u001b[39m'\u001b[39m\u001b[39mbot\u001b[39m\u001b[39m'\u001b[39m: cacti_resp \u001b[39m=\u001b[39m h\u001b[39m.\u001b[39mcontent \n",
      "File \u001b[1;32mc:\\Users\\HARSH\\Documents\\crypto-LLM-exps\\cacti-backend\\tests\\..\\chat\\chatgpt_function_call.py:144\u001b[0m, in \u001b[0;36mChatGPTFunctionCallChat.receive_input\u001b[1;34m(self, history, userinput, send, message_id, before_message_id)\u001b[0m\n\u001b[0;32m    142\u001b[0m     functions \u001b[39m=\u001b[39m FUNCTIONS\n\u001b[0;32m    143\u001b[0m \u001b[39melse\u001b[39;00m:\n\u001b[1;32m--> 144\u001b[0m     widgets \u001b[39m=\u001b[39m retry_on_exceptions_with_backoff(\n\u001b[0;32m    145\u001b[0m         \u001b[39mlambda\u001b[39;49;00m: \u001b[39mself\u001b[39;49m\u001b[39m.\u001b[39;49mwidget_index\u001b[39m.\u001b[39;49msimilarity_search(userinput, k\u001b[39m=\u001b[39;49m\u001b[39mself\u001b[39;49m\u001b[39m.\u001b[39;49mtop_k),\n\u001b[0;32m    146\u001b[0m         [ErrorToRetry(\u001b[39mTypeError\u001b[39;49;00m)],\n\u001b[0;32m    147\u001b[0m     )\n\u001b[0;32m    148\u001b[0m     function_names \u001b[39m=\u001b[39m [fn[\u001b[39m'\u001b[39m\u001b[39mname\u001b[39m\u001b[39m'\u001b[39m] \u001b[39mfor\u001b[39;00m fn \u001b[39min\u001b[39;00m FUNCTIONS]\n\u001b[0;32m    149\u001b[0m     functions \u001b[39m=\u001b[39m []\n",
      "File \u001b[1;32mc:\\Users\\HARSH\\Documents\\crypto-LLM-exps\\cacti-backend\\venv\\Lib\\site-packages\\gpt_index\\utils.py:162\u001b[0m, in \u001b[0;36mretry_on_exceptions_with_backoff\u001b[1;34m(lambda_fn, errors_to_retry, max_tries, min_backoff_secs, max_backoff_secs)\u001b[0m\n\u001b[0;32m    160\u001b[0m \u001b[39mwhile\u001b[39;00m \u001b[39mTrue\u001b[39;00m:\n\u001b[0;32m    161\u001b[0m     \u001b[39mtry\u001b[39;00m:\n\u001b[1;32m--> 162\u001b[0m         \u001b[39mreturn\u001b[39;00m lambda_fn()\n\u001b[0;32m    163\u001b[0m     \u001b[39mexcept\u001b[39;00m exception_class_tuples \u001b[39mas\u001b[39;00m e:\n\u001b[0;32m    164\u001b[0m         traceback\u001b[39m.\u001b[39mprint_exc()\n",
      "File \u001b[1;32mc:\\Users\\HARSH\\Documents\\crypto-LLM-exps\\cacti-backend\\tests\\..\\chat\\chatgpt_function_call.py:145\u001b[0m, in \u001b[0;36mChatGPTFunctionCallChat.receive_input.<locals>.<lambda>\u001b[1;34m()\u001b[0m\n\u001b[0;32m    142\u001b[0m     functions \u001b[39m=\u001b[39m FUNCTIONS\n\u001b[0;32m    143\u001b[0m \u001b[39melse\u001b[39;00m:\n\u001b[0;32m    144\u001b[0m     widgets \u001b[39m=\u001b[39m retry_on_exceptions_with_backoff(\n\u001b[1;32m--> 145\u001b[0m         \u001b[39mlambda\u001b[39;00m: \u001b[39mself\u001b[39;49m\u001b[39m.\u001b[39;49mwidget_index\u001b[39m.\u001b[39;49msimilarity_search(userinput, k\u001b[39m=\u001b[39;49m\u001b[39mself\u001b[39;49m\u001b[39m.\u001b[39;49mtop_k),\n\u001b[0;32m    146\u001b[0m         [ErrorToRetry(\u001b[39mTypeError\u001b[39;00m)],\n\u001b[0;32m    147\u001b[0m     )\n\u001b[0;32m    148\u001b[0m     function_names \u001b[39m=\u001b[39m [fn[\u001b[39m'\u001b[39m\u001b[39mname\u001b[39m\u001b[39m'\u001b[39m] \u001b[39mfor\u001b[39;00m fn \u001b[39min\u001b[39;00m FUNCTIONS]\n\u001b[0;32m    149\u001b[0m     functions \u001b[39m=\u001b[39m []\n",
      "File \u001b[1;32mc:\\Users\\HARSH\\Documents\\crypto-LLM-exps\\cacti-backend\\venv\\Lib\\site-packages\\langchain\\vectorstores\\weaviate.py:170\u001b[0m, in \u001b[0;36mWeaviate.similarity_search\u001b[1;34m(self, query, k, **kwargs)\u001b[0m\n\u001b[0;32m    160\u001b[0m \u001b[39m\u001b[39m\u001b[39m\"\"\"Return docs most similar to query.\u001b[39;00m\n\u001b[0;32m    161\u001b[0m \n\u001b[0;32m    162\u001b[0m \u001b[39mArgs:\u001b[39;00m\n\u001b[1;32m   (...)\u001b[0m\n\u001b[0;32m    167\u001b[0m \u001b[39m    List of Documents most similar to the query.\u001b[39;00m\n\u001b[0;32m    168\u001b[0m \u001b[39m\"\"\"\u001b[39;00m\n\u001b[0;32m    169\u001b[0m \u001b[39mif\u001b[39;00m \u001b[39mself\u001b[39m\u001b[39m.\u001b[39m_by_text:\n\u001b[1;32m--> 170\u001b[0m     \u001b[39mreturn\u001b[39;00m \u001b[39mself\u001b[39;49m\u001b[39m.\u001b[39;49msimilarity_search_by_text(query, k, \u001b[39m*\u001b[39;49m\u001b[39m*\u001b[39;49mkwargs)\n\u001b[0;32m    171\u001b[0m \u001b[39melse\u001b[39;00m:\n\u001b[0;32m    172\u001b[0m     \u001b[39mif\u001b[39;00m \u001b[39mself\u001b[39m\u001b[39m.\u001b[39m_embedding \u001b[39mis\u001b[39;00m \u001b[39mNone\u001b[39;00m:\n",
      "File \u001b[1;32mc:\\Users\\HARSH\\Documents\\crypto-LLM-exps\\cacti-backend\\venv\\Lib\\site-packages\\langchain\\vectorstores\\weaviate.py:200\u001b[0m, in \u001b[0;36mWeaviate.similarity_search_by_text\u001b[1;34m(self, query, k, **kwargs)\u001b[0m\n\u001b[0;32m    198\u001b[0m \u001b[39mif\u001b[39;00m kwargs\u001b[39m.\u001b[39mget(\u001b[39m\"\u001b[39m\u001b[39madditional\u001b[39m\u001b[39m\"\u001b[39m):\n\u001b[0;32m    199\u001b[0m     query_obj \u001b[39m=\u001b[39m query_obj\u001b[39m.\u001b[39mwith_additional(kwargs\u001b[39m.\u001b[39mget(\u001b[39m\"\u001b[39m\u001b[39madditional\u001b[39m\u001b[39m\"\u001b[39m))\n\u001b[1;32m--> 200\u001b[0m result \u001b[39m=\u001b[39m query_obj\u001b[39m.\u001b[39;49mwith_near_text(content)\u001b[39m.\u001b[39;49mwith_limit(k)\u001b[39m.\u001b[39;49mdo()\n\u001b[0;32m    201\u001b[0m \u001b[39mif\u001b[39;00m \u001b[39m\"\u001b[39m\u001b[39merrors\u001b[39m\u001b[39m\"\u001b[39m \u001b[39min\u001b[39;00m result:\n\u001b[0;32m    202\u001b[0m     \u001b[39mraise\u001b[39;00m \u001b[39mValueError\u001b[39;00m(\u001b[39mf\u001b[39m\u001b[39m\"\u001b[39m\u001b[39mError during query: \u001b[39m\u001b[39m{\u001b[39;00mresult[\u001b[39m'\u001b[39m\u001b[39merrors\u001b[39m\u001b[39m'\u001b[39m]\u001b[39m}\u001b[39;00m\u001b[39m\"\u001b[39m)\n",
      "File \u001b[1;32mc:\\Users\\HARSH\\Documents\\crypto-LLM-exps\\cacti-backend\\venv\\Lib\\site-packages\\weaviate\\gql\\filter.py:70\u001b[0m, in \u001b[0;36mGraphQL.do\u001b[1;34m(self)\u001b[0m\n\u001b[0;32m     68\u001b[0m     response \u001b[39m=\u001b[39m \u001b[39mself\u001b[39m\u001b[39m.\u001b[39m_connection\u001b[39m.\u001b[39mpost(path\u001b[39m=\u001b[39m\u001b[39m\"\u001b[39m\u001b[39m/graphql\u001b[39m\u001b[39m\"\u001b[39m, weaviate_object\u001b[39m=\u001b[39m{\u001b[39m\"\u001b[39m\u001b[39mquery\u001b[39m\u001b[39m\"\u001b[39m: query})\n\u001b[0;32m     69\u001b[0m \u001b[39mexcept\u001b[39;00m RequestsConnectionError \u001b[39mas\u001b[39;00m conn_err:\n\u001b[1;32m---> 70\u001b[0m     \u001b[39mraise\u001b[39;00m RequestsConnectionError(\u001b[39m\"\u001b[39m\u001b[39mQuery was not successful.\u001b[39m\u001b[39m\"\u001b[39m) \u001b[39mfrom\u001b[39;00m \u001b[39mconn_err\u001b[39;00m\n\u001b[0;32m     71\u001b[0m \u001b[39mif\u001b[39;00m response\u001b[39m.\u001b[39mstatus_code \u001b[39m==\u001b[39m \u001b[39m200\u001b[39m:\n\u001b[0;32m     72\u001b[0m     \u001b[39mreturn\u001b[39;00m response\u001b[39m.\u001b[39mjson()  \u001b[39m# success\u001b[39;00m\n",
      "\u001b[1;31mConnectionError\u001b[0m: Query was not successful."
     ]
    }
   ],
   "source": [
    "before_message_id, message_id = None, uuid.UUID\n",
    "while True:\n",
    "    user_message = llm(messages)\n",
    "    messages.append(user_message) # AIMessage\n",
    "    print(f\"User Input: {user_message.content}\")\n",
    "\n",
    "    system.chat.receive_input(history, user_message.content, send_message, message_id, before_message_id)\n",
    "    for h in history: \n",
    "        if h.actor=='bot': cacti_resp = h.content \n",
    "    messages.append(HumanMessage(content=cacti_resp))\n",
    "    print(f\"Cacti Bot: {cacti_resp}\")\n",
    "    print()"
   ]
  }
 ],
 "metadata": {
  "kernelspec": {
   "display_name": "venv",
   "language": "python",
   "name": "python3"
  },
  "language_info": {
   "codemirror_mode": {
    "name": "ipython",
    "version": 3
   },
   "file_extension": ".py",
   "mimetype": "text/x-python",
   "name": "python",
   "nbconvert_exporter": "python",
   "pygments_lexer": "ipython3",
   "version": "3.11.2"
  },
  "orig_nbformat": 4
 },
 "nbformat": 4,
 "nbformat_minor": 2
}
