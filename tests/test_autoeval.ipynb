{
 "cells": [
  {
   "cell_type": "code",
   "execution_count": null,
   "metadata": {},
   "outputs": [],
   "source": [
    "import sys\n",
    "sys.path.insert(0, '../')\n",
    "\n",
    "import uuid\n",
    "import os\n",
    "import re\n",
    "import json \n",
    "import time\n",
    "import random\n",
    "from typing import Any, Callable, Generator\n",
    "\n",
    "from langchain.llms import OpenAI\n",
    "from langchain.chat_models import ChatOpenAI\n",
    "from langchain.schema import HumanMessage, AIMessage, SystemMessage\n",
    "from langchain.prompts import PromptTemplate\n",
    "from langchain.chains import LLMChain\n",
    "from langchain.prompts.base import BaseOutputParser\n",
    "from langchain.agents import load_tools, Tool\n",
    "from langchain.agents import initialize_agent\n",
    "from langchain.llms import OpenAI\n",
    "\n",
    "from chat.base import BaseChat, ChatHistory, Response\n",
    "from chat.widget_search import ChatOutputParser, WIDGET_INSTRUCTION, SEARCH_INSTRUCTION, TEMPLATE, IDENTIFY_TEMPLATE\n",
    "from chat.base import *\n",
    "from index.weaviate import *\n",
    "from index.widgets import *\n",
    "from utils import *\n",
    "from config import *\n",
    "from system import *\n",
    "from tools import *\n",
    "\n",
    "set_api_key()\n",
    "\n",
    "def send_message(resp, before_message_id=None, last_chat_message_id=None):\n",
    "    if resp.operation == 'replace':\n",
    "        print(resp.response)\n",
    "    return 1\n",
    "\n",
    "system = initialize(default_config)"
   ]
  },
  {
   "cell_type": "code",
   "execution_count": null,
   "metadata": {},
   "outputs": [],
   "source": [
    "s = '\\\\'\n",
    "with open(f\"{'/'.join(os.getcwd().split(s)[:-1])}/knowledge_base/widgets.txt\", 'r') as f: widgets = f.read()\n",
    "# widgets = re.sub(re.compile(r\"<\\||\\|>|{|}\"), '', widgets).replace('-', '_').replace('Widget magic command', 'Function').replace('widget', 'function')\n",
    "widgets_k = '---'.join(random.choices(widgets.split('---'), k=15))\n",
    "system_message = f\"\"\"You have to imitate a human user who asks a chatbot queries related to web3. The queries can be short instructions to do a task.\n",
    "The queries should be based on the below widget commands as the bot invokes one of them to respond. \n",
    "When bot returns \"response DONE\", consider it answered your query. You can start a new conversation after it. Don't start a new conversation if the previous hasn't ended.\n",
    "Ask one question at a time and continue to chat with the bot as a user.\n",
    "\n",
    "{widgets_k}\"\"\"\n",
    "\n",
    "messages = [SystemMessage(content=system_message)]\n",
    "history = ChatHistory([], uuid.UUID, '0x4eD15A17A9CDF3cc7D6E829428267CaD67d95F8F')\n",
    "llm = ChatOpenAI(model_name=\"gpt-4\", max_tokens=60, temperature=0.5,)"
   ]
  },
  {
   "cell_type": "code",
   "execution_count": null,
   "metadata": {},
   "outputs": [],
   "source": [
    "before_message_id, message_id = None, uuid.UUID\n",
    "while True:\n",
    "    user_message = llm(messages)\n",
    "    messages.append(user_message) # AIMessage\n",
    "    print(f\"User Input: {user_message.content}\")\n",
    "    print('----')\n",
    "\n",
    "    system.chat.receive_input(history, user_message.content, send_message, message_id, before_message_id)\n",
    "    messages.append(HumanMessage(content=history.messages[-2].content))\n",
    "    print(f\"Cacti Bot: {history.messages[-2].content}\")\n",
    "\n",
    "    if \"first_widget_command\" in history.messages[-1].content:\n",
    "        messages.append(HumanMessage(content=\"response DONE\")) \n",
    "        print(f\"Cacti Bot: response DONE\")\n",
    "    else:\n",
    "        user_message = llm(messages)\n",
    "        if user_message.content==\"response DONE\":\n",
    "            messages.append(HumanMessage(content=\"response DONE\")) \n",
    "            print(f\"Cacti Bot: response DONE ---\")\n",
    "    print()"
   ]
  }
 ],
 "metadata": {
  "kernelspec": {
   "display_name": "venv",
   "language": "python",
   "name": "python3"
  },
  "language_info": {
   "codemirror_mode": {
    "name": "ipython",
    "version": 3
   },
   "file_extension": ".py",
   "mimetype": "text/x-python",
   "name": "python",
   "nbconvert_exporter": "python",
   "pygments_lexer": "ipython3",
   "version": "3.11.2"
  },
  "orig_nbformat": 4
 },
 "nbformat": 4,
 "nbformat_minor": 2
}
