{
 "cells": [
  {
   "cell_type": "code",
   "execution_count": 1,
   "metadata": {},
   "outputs": [],
   "source": [
    "import yaml\n",
    "import json"
   ]
  },
  {
   "cell_type": "code",
   "execution_count": 2,
   "metadata": {},
   "outputs": [],
   "source": [
    "with open('knowledge_base/widgets.txt', 'r') as f:\n",
    "    data = f.read()\n",
    "with open('knowledge_base/functions.json', 'r') as f:\n",
    "    data_json = json.load(f)"
   ]
  },
  {
   "cell_type": "code",
   "execution_count": 3,
   "metadata": {},
   "outputs": [],
   "source": [
    "DICT = {}\n",
    "for idx, (doc, func_dict) in enumerate(zip(data.split('---'), data_json)):\n",
    "    doc_lines = doc.strip().split('\\n')\n",
    "    dict_ = {}\n",
    "    widget_command = doc_lines[0].split(':')[-1].strip()\n",
    "    dict_['name'] = widget_command.split('(')[0].split('|')[-1].replace('-', '_')\n",
    "    dict_['widget_command'] = widget_command\n",
    "    dict_['description'] = func_dict['description']\n",
    "    dict_['parameters'] = func_dict['parameters']\n",
    "    \n",
    "    if 'Return value description:' in doc:\n",
    "        dict_['return_value_description'] = doc.split('Return value description:')[-1].replace('-', '').strip()\n",
    "    else:\n",
    "        dict_['return_value_description'] = ''\n",
    "        \n",
    "    DICT[f'widget {idx+1}'] = dict_\n",
    "    # break\n"
   ]
  },
  {
   "cell_type": "code",
   "execution_count": null,
   "metadata": {},
   "outputs": [],
   "source": [
    "def yaml2functions(file_path):\n",
    "    functions = []\n",
    "    with open(file_path, 'r') as file:\n",
    "        dict_yml = yaml.safe_load(file)\n",
    "    for _, value in dict_yml.items():\n",
    "        dict_ = {}\n",
    "        dict_['name'] = value['name']\n",
    "        dict_['description'] = value['description']\n",
    "        dict_['parameters'] = value['parameters']\n",
    "        functions.append(dict_)\n",
    "    return functions"
   ]
  },
  {
   "cell_type": "code",
   "execution_count": null,
   "metadata": {},
   "outputs": [],
   "source": [
    "def yaml2widgetsdoc(file_path):\n",
    "    doc = \"\"\n",
    "    with open(file_path, 'r') as file:\n",
    "        dict_yaml = yaml.safe_load(file)\n",
    "    for _, values in dict_yaml.items():\n",
    "        doc += f\"Widget magic command: {values['widget_command']}\\n\"\n",
    "        doc += f\"Description of widget: {values['description']}\\n\"\n",
    "        doc += f\"Required parameters:\\n\"\n",
    "        for param_name, prop in values['parameters']['properties'].items():\n",
    "            doc += \"-{\" + param_name + \"}\" + f\": {prop['description']}\\n\"\n",
    "        if len(values[\"return_value_description\"].strip()) > 0: \n",
    "            doc += f\"Return value description:\\n-{values['return_value_description']}\\n\"\n",
    "        doc += \"---\\n\"\n",
    "    return doc.strip().strip('---').strip()\n"
   ]
  },
  {
   "cell_type": "code",
   "execution_count": null,
   "metadata": {},
   "outputs": [],
   "source": [
    "functions = yaml2functions(\"widgets.yaml\")"
   ]
  },
  {
   "cell_type": "code",
   "execution_count": null,
   "metadata": {},
   "outputs": [],
   "source": [
    "with open('widgets.yaml', 'w') as file:\n",
    "    yaml.safe_dump(DICT, file)"
   ]
  },
  {
   "cell_type": "code",
   "execution_count": null,
   "metadata": {},
   "outputs": [],
   "source": [
    "with open('widgets.yaml', 'r') as file:\n",
    "    DICT = yaml.safe_load(file)"
   ]
  }
 ],
 "metadata": {
  "kernelspec": {
   "display_name": "venv",
   "language": "python",
   "name": "python3"
  },
  "language_info": {
   "codemirror_mode": {
    "name": "ipython",
    "version": 3
   },
   "file_extension": ".py",
   "mimetype": "text/x-python",
   "name": "python",
   "nbconvert_exporter": "python",
   "pygments_lexer": "ipython3",
   "version": "3.11.2"
  },
  "orig_nbformat": 4
 },
 "nbformat": 4,
 "nbformat_minor": 2
}
